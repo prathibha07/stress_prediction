{
  "nbformat": 4,
  "nbformat_minor": 0,
  "metadata": {
    "colab": {
      "name": "a2_stresspredictions.ipynb",
      "provenance": [],
      "collapsed_sections": [
        "JBpPXiUGW-iv",
        "JSUerpfoXBwv",
        "wS3zOZuPfDoX",
        "HyKJiQrnjeK9",
        "NHkiRdlNiqfm",
        "FI-ypL_RCyY8",
        "_Xzt5ROJjoDl"
      ]
    },
    "kernelspec": {
      "name": "python3",
      "display_name": "Python 3"
    },
    "language_info": {
      "name": "python"
    },
    "accelerator": "GPU"
  },
  "cells": [
    {
      "cell_type": "markdown",
      "source": [
        "Machine leanring\n",
        "techniques to predict stress. Psychological stress is defined as “a particular\n",
        "relationship between the person and the environment that is appraised by\n",
        "the person as taxing or exceeding his or her resources and endangering his\n",
        "or her well-being”.(Lazarus Folkman, 1984) There are 3 levels of stress -\n",
        "relaxed, neutral and stressed, they correspond with 0, 1 and 2 in the\n",
        "dataset.\n",
        "The data comes from this paper. Wearable measurements of various\n",
        "young people driving in stressing environments, e.g. rush hour, highways,\n",
        "red lights, as well as a relaxation period are used. The objective is to use\n",
        "readings from a Microsoft Band 2 smart watch to predict the stress levels\n",
        "of the user"
      ],
      "metadata": {
        "id": "jAdc5Gd2AJLx"
      }
    },
    {
      "cell_type": "code",
      "execution_count": 346,
      "metadata": {
        "id": "CXQsfj5ze2_a"
      },
      "outputs": [],
      "source": [
        "import pandas as pd\n",
        "import numpy as np\n",
        "import matplotlib.pyplot as plt\n",
        "import seaborn as sns\n",
        "\n",
        "from sklearn.model_selection import train_test_split\n",
        "from sklearn.preprocessing import StandardScaler\n",
        "from sklearn.metrics import confusion_matrix, classification_report, accuracy_score, f1_score\n",
        "from sklearn.linear_model import LogisticRegression\n",
        "from sklearn import tree\n"
      ]
    },
    {
      "cell_type": "code",
      "source": [
        "from google.colab import drive\n",
        "drive.mount(\"/content/drive\", force_remount=True)"
      ],
      "metadata": {
        "id": "Fl8uE8-7IGU3",
        "colab": {
          "base_uri": "https://localhost:8080/"
        },
        "outputId": "029e8467-5f86-4119-81e5-930a1ca502ec"
      },
      "execution_count": 255,
      "outputs": [
        {
          "output_type": "stream",
          "name": "stdout",
          "text": [
            "Mounted at /content/drive\n"
          ]
        }
      ]
    },
    {
      "cell_type": "code",
      "source": [
        "# Load the csv files over here into pandas data frame\n",
        "# YOUR CODE HERE\n",
        "# 0.1\n",
        "\n",
        "def load_csv(file_name):\n",
        "  # Input: csv_file_name\n",
        "  # Output: pandas data frame\n",
        "  df = pd.read_csv(file_name)\n",
        "  return df"
      ],
      "metadata": {
        "id": "ZNtjeBjtKDgj"
      },
      "execution_count": 256,
      "outputs": []
    },
    {
      "cell_type": "code",
      "source": [
        "df_train = load_csv(\"/content/drive/MyDrive/Spring_22/AInHC/a2/data_2-1.csv\")\n",
        "print(\"Number of rows and colums:\", df_train.shape)\n",
        "print(df_train.head(5))"
      ],
      "metadata": {
        "colab": {
          "base_uri": "https://localhost:8080/"
        },
        "id": "vPC3cMT1KKnn",
        "outputId": "62e67951-3852-4a44-9d17-e750ae2161c2"
      },
      "execution_count": 257,
      "outputs": [
        {
          "output_type": "stream",
          "name": "stdout",
          "text": [
            "Number of rows and colums: (3129, 15)\n",
            "     Id          HR  interval in seconds      NNRR      AVNN      SDNN  \\\n",
            "0  1001  108.329447             0.668183  0.979203  0.666800  0.006600   \n",
            "1  1002   91.074128             0.666800  0.979203  0.666800  0.006600   \n",
            "2  1003   92.201787             0.666800  0.979203  0.666800  0.006600   \n",
            "3  1004   94.776255             0.666800  0.979203  0.666800  0.006600   \n",
            "4  1005         NaN             0.676691  0.978741  0.676911  0.030424   \n",
            "\n",
            "      RMSSD     pNN50        TP  ULF       VLF        LF        HF    LF_HF  \\\n",
            "0  0.003200  0.005000       NaN  0.0       NaN       NaN       NaN      NaN   \n",
            "1  0.003200  0.005000       NaN  0.0       NaN       NaN       NaN      NaN   \n",
            "2  0.003200  0.005000       NaN  0.0       NaN       NaN       NaN      NaN   \n",
            "3  0.003200  0.005000       NaN  0.0       NaN       NaN       NaN      NaN   \n",
            "4  0.012999  0.027727  0.000548  0.0  0.000863  0.000292  0.000033  8.79347   \n",
            "\n",
            "   stress  \n",
            "0     0.0  \n",
            "1     0.0  \n",
            "2     0.0  \n",
            "3     0.0  \n",
            "4     0.0  \n"
          ]
        }
      ]
    },
    {
      "cell_type": "code",
      "source": [
        ""
      ],
      "metadata": {
        "id": "L4x6GkGgh38Q"
      },
      "execution_count": null,
      "outputs": []
    },
    {
      "cell_type": "code",
      "source": [
        "df_train.info()"
      ],
      "metadata": {
        "colab": {
          "base_uri": "https://localhost:8080/"
        },
        "id": "gYJKP9oDKie9",
        "outputId": "0e757798-ba29-49fe-d5bd-dad45d6e2442"
      },
      "execution_count": 258,
      "outputs": [
        {
          "output_type": "stream",
          "name": "stdout",
          "text": [
            "<class 'pandas.core.frame.DataFrame'>\n",
            "RangeIndex: 3129 entries, 0 to 3128\n",
            "Data columns (total 15 columns):\n",
            " #   Column               Non-Null Count  Dtype  \n",
            "---  ------               --------------  -----  \n",
            " 0   Id                   3129 non-null   int64  \n",
            " 1   HR                   3020 non-null   float64\n",
            " 2   interval in seconds  3129 non-null   float64\n",
            " 3   NNRR                 3071 non-null   float64\n",
            " 4   AVNN                 3055 non-null   float64\n",
            " 5   SDNN                 3039 non-null   float64\n",
            " 6   RMSSD                3129 non-null   float64\n",
            " 7   pNN50                3129 non-null   float64\n",
            " 8   TP                   2910 non-null   float64\n",
            " 9   ULF                  3006 non-null   float64\n",
            " 10  VLF                  3033 non-null   float64\n",
            " 11  LF                   3033 non-null   float64\n",
            " 12  HF                   3033 non-null   float64\n",
            " 13  LF_HF                48 non-null     float64\n",
            " 14  stress               3129 non-null   float64\n",
            "dtypes: float64(14), int64(1)\n",
            "memory usage: 366.8 KB\n"
          ]
        }
      ]
    },
    {
      "cell_type": "code",
      "source": [
        "df_train.describe().T"
      ],
      "metadata": {
        "colab": {
          "base_uri": "https://localhost:8080/",
          "height": 598
        },
        "id": "vj4AXebvMpmI",
        "outputId": "8a6a1dcc-b232-4782-99ef-8711d052b962"
      },
      "execution_count": 259,
      "outputs": [
        {
          "output_type": "execute_result",
          "data": {
            "text/plain": [
              "                      count         mean         std          min  \\\n",
              "Id                   3129.0  2565.000000  903.408822  1001.000000   \n",
              "HR                   3020.0    86.361053   16.924526    15.172000   \n",
              "interval in seconds  3129.0     0.809254    0.109722     0.549744   \n",
              "NNRR                 3071.0     0.975838    0.002457     0.971068   \n",
              "AVNN                 3055.0     0.809462    0.110010     0.549970   \n",
              "SDNN                 3039.0     0.064251    0.033905     0.006600   \n",
              "RMSSD                3129.0     0.030399    0.016892     0.003200   \n",
              "pNN50                3129.0     0.039350    0.025085     0.005000   \n",
              "TP                   2910.0          inf         NaN     0.000037   \n",
              "ULF                  3006.0          inf         NaN     0.000000   \n",
              "VLF                  3033.0     0.001377    0.003244     0.000640   \n",
              "LF                   3033.0     0.000004    0.000032     0.000000   \n",
              "HF                   3033.0     0.000001    0.000011     0.000000   \n",
              "LF_HF                  48.0     3.528605    2.043720     0.418526   \n",
              "stress               3129.0     0.974113    0.720743     0.000000   \n",
              "\n",
              "                             25%          50%          75%          max  \n",
              "Id                   1783.000000  2565.000000  3347.000000  4129.000000  \n",
              "HR                     76.205333    83.305717    92.804811   357.372000  \n",
              "interval in seconds     0.739073     0.811056     0.890853     1.061888  \n",
              "NNRR                    0.974164     0.975480     0.977753     0.981961  \n",
              "AVNN                    0.739242     0.811925     0.889935     1.060160  \n",
              "SDNN                    0.038537     0.052700     0.096019     0.171178  \n",
              "RMSSD                   0.017058     0.025945     0.046200     0.084181  \n",
              "pNN50                   0.030641     0.032027     0.035303     0.262143  \n",
              "TP                      0.014432     0.031994     0.105576          inf  \n",
              "ULF                     0.009644     0.027414     0.104646          inf  \n",
              "VLF                     0.000640     0.000640     0.000640     0.036283  \n",
              "LF                      0.000000     0.000000     0.000000     0.000616  \n",
              "HF                      0.000000     0.000000     0.000000     0.000261  \n",
              "LF_HF                   2.196648     3.272245     4.868695     8.793470  \n",
              "stress                  0.000000     1.000000     1.000000     2.000000  "
            ],
            "text/html": [
              "\n",
              "  <div id=\"df-cafea7f7-654a-4505-a941-ebc1941934bc\">\n",
              "    <div class=\"colab-df-container\">\n",
              "      <div>\n",
              "<style scoped>\n",
              "    .dataframe tbody tr th:only-of-type {\n",
              "        vertical-align: middle;\n",
              "    }\n",
              "\n",
              "    .dataframe tbody tr th {\n",
              "        vertical-align: top;\n",
              "    }\n",
              "\n",
              "    .dataframe thead th {\n",
              "        text-align: right;\n",
              "    }\n",
              "</style>\n",
              "<table border=\"1\" class=\"dataframe\">\n",
              "  <thead>\n",
              "    <tr style=\"text-align: right;\">\n",
              "      <th></th>\n",
              "      <th>count</th>\n",
              "      <th>mean</th>\n",
              "      <th>std</th>\n",
              "      <th>min</th>\n",
              "      <th>25%</th>\n",
              "      <th>50%</th>\n",
              "      <th>75%</th>\n",
              "      <th>max</th>\n",
              "    </tr>\n",
              "  </thead>\n",
              "  <tbody>\n",
              "    <tr>\n",
              "      <th>Id</th>\n",
              "      <td>3129.0</td>\n",
              "      <td>2565.000000</td>\n",
              "      <td>903.408822</td>\n",
              "      <td>1001.000000</td>\n",
              "      <td>1783.000000</td>\n",
              "      <td>2565.000000</td>\n",
              "      <td>3347.000000</td>\n",
              "      <td>4129.000000</td>\n",
              "    </tr>\n",
              "    <tr>\n",
              "      <th>HR</th>\n",
              "      <td>3020.0</td>\n",
              "      <td>86.361053</td>\n",
              "      <td>16.924526</td>\n",
              "      <td>15.172000</td>\n",
              "      <td>76.205333</td>\n",
              "      <td>83.305717</td>\n",
              "      <td>92.804811</td>\n",
              "      <td>357.372000</td>\n",
              "    </tr>\n",
              "    <tr>\n",
              "      <th>interval in seconds</th>\n",
              "      <td>3129.0</td>\n",
              "      <td>0.809254</td>\n",
              "      <td>0.109722</td>\n",
              "      <td>0.549744</td>\n",
              "      <td>0.739073</td>\n",
              "      <td>0.811056</td>\n",
              "      <td>0.890853</td>\n",
              "      <td>1.061888</td>\n",
              "    </tr>\n",
              "    <tr>\n",
              "      <th>NNRR</th>\n",
              "      <td>3071.0</td>\n",
              "      <td>0.975838</td>\n",
              "      <td>0.002457</td>\n",
              "      <td>0.971068</td>\n",
              "      <td>0.974164</td>\n",
              "      <td>0.975480</td>\n",
              "      <td>0.977753</td>\n",
              "      <td>0.981961</td>\n",
              "    </tr>\n",
              "    <tr>\n",
              "      <th>AVNN</th>\n",
              "      <td>3055.0</td>\n",
              "      <td>0.809462</td>\n",
              "      <td>0.110010</td>\n",
              "      <td>0.549970</td>\n",
              "      <td>0.739242</td>\n",
              "      <td>0.811925</td>\n",
              "      <td>0.889935</td>\n",
              "      <td>1.060160</td>\n",
              "    </tr>\n",
              "    <tr>\n",
              "      <th>SDNN</th>\n",
              "      <td>3039.0</td>\n",
              "      <td>0.064251</td>\n",
              "      <td>0.033905</td>\n",
              "      <td>0.006600</td>\n",
              "      <td>0.038537</td>\n",
              "      <td>0.052700</td>\n",
              "      <td>0.096019</td>\n",
              "      <td>0.171178</td>\n",
              "    </tr>\n",
              "    <tr>\n",
              "      <th>RMSSD</th>\n",
              "      <td>3129.0</td>\n",
              "      <td>0.030399</td>\n",
              "      <td>0.016892</td>\n",
              "      <td>0.003200</td>\n",
              "      <td>0.017058</td>\n",
              "      <td>0.025945</td>\n",
              "      <td>0.046200</td>\n",
              "      <td>0.084181</td>\n",
              "    </tr>\n",
              "    <tr>\n",
              "      <th>pNN50</th>\n",
              "      <td>3129.0</td>\n",
              "      <td>0.039350</td>\n",
              "      <td>0.025085</td>\n",
              "      <td>0.005000</td>\n",
              "      <td>0.030641</td>\n",
              "      <td>0.032027</td>\n",
              "      <td>0.035303</td>\n",
              "      <td>0.262143</td>\n",
              "    </tr>\n",
              "    <tr>\n",
              "      <th>TP</th>\n",
              "      <td>2910.0</td>\n",
              "      <td>inf</td>\n",
              "      <td>NaN</td>\n",
              "      <td>0.000037</td>\n",
              "      <td>0.014432</td>\n",
              "      <td>0.031994</td>\n",
              "      <td>0.105576</td>\n",
              "      <td>inf</td>\n",
              "    </tr>\n",
              "    <tr>\n",
              "      <th>ULF</th>\n",
              "      <td>3006.0</td>\n",
              "      <td>inf</td>\n",
              "      <td>NaN</td>\n",
              "      <td>0.000000</td>\n",
              "      <td>0.009644</td>\n",
              "      <td>0.027414</td>\n",
              "      <td>0.104646</td>\n",
              "      <td>inf</td>\n",
              "    </tr>\n",
              "    <tr>\n",
              "      <th>VLF</th>\n",
              "      <td>3033.0</td>\n",
              "      <td>0.001377</td>\n",
              "      <td>0.003244</td>\n",
              "      <td>0.000640</td>\n",
              "      <td>0.000640</td>\n",
              "      <td>0.000640</td>\n",
              "      <td>0.000640</td>\n",
              "      <td>0.036283</td>\n",
              "    </tr>\n",
              "    <tr>\n",
              "      <th>LF</th>\n",
              "      <td>3033.0</td>\n",
              "      <td>0.000004</td>\n",
              "      <td>0.000032</td>\n",
              "      <td>0.000000</td>\n",
              "      <td>0.000000</td>\n",
              "      <td>0.000000</td>\n",
              "      <td>0.000000</td>\n",
              "      <td>0.000616</td>\n",
              "    </tr>\n",
              "    <tr>\n",
              "      <th>HF</th>\n",
              "      <td>3033.0</td>\n",
              "      <td>0.000001</td>\n",
              "      <td>0.000011</td>\n",
              "      <td>0.000000</td>\n",
              "      <td>0.000000</td>\n",
              "      <td>0.000000</td>\n",
              "      <td>0.000000</td>\n",
              "      <td>0.000261</td>\n",
              "    </tr>\n",
              "    <tr>\n",
              "      <th>LF_HF</th>\n",
              "      <td>48.0</td>\n",
              "      <td>3.528605</td>\n",
              "      <td>2.043720</td>\n",
              "      <td>0.418526</td>\n",
              "      <td>2.196648</td>\n",
              "      <td>3.272245</td>\n",
              "      <td>4.868695</td>\n",
              "      <td>8.793470</td>\n",
              "    </tr>\n",
              "    <tr>\n",
              "      <th>stress</th>\n",
              "      <td>3129.0</td>\n",
              "      <td>0.974113</td>\n",
              "      <td>0.720743</td>\n",
              "      <td>0.000000</td>\n",
              "      <td>0.000000</td>\n",
              "      <td>1.000000</td>\n",
              "      <td>1.000000</td>\n",
              "      <td>2.000000</td>\n",
              "    </tr>\n",
              "  </tbody>\n",
              "</table>\n",
              "</div>\n",
              "      <button class=\"colab-df-convert\" onclick=\"convertToInteractive('df-cafea7f7-654a-4505-a941-ebc1941934bc')\"\n",
              "              title=\"Convert this dataframe to an interactive table.\"\n",
              "              style=\"display:none;\">\n",
              "        \n",
              "  <svg xmlns=\"http://www.w3.org/2000/svg\" height=\"24px\"viewBox=\"0 0 24 24\"\n",
              "       width=\"24px\">\n",
              "    <path d=\"M0 0h24v24H0V0z\" fill=\"none\"/>\n",
              "    <path d=\"M18.56 5.44l.94 2.06.94-2.06 2.06-.94-2.06-.94-.94-2.06-.94 2.06-2.06.94zm-11 1L8.5 8.5l.94-2.06 2.06-.94-2.06-.94L8.5 2.5l-.94 2.06-2.06.94zm10 10l.94 2.06.94-2.06 2.06-.94-2.06-.94-.94-2.06-.94 2.06-2.06.94z\"/><path d=\"M17.41 7.96l-1.37-1.37c-.4-.4-.92-.59-1.43-.59-.52 0-1.04.2-1.43.59L10.3 9.45l-7.72 7.72c-.78.78-.78 2.05 0 2.83L4 21.41c.39.39.9.59 1.41.59.51 0 1.02-.2 1.41-.59l7.78-7.78 2.81-2.81c.8-.78.8-2.07 0-2.86zM5.41 20L4 18.59l7.72-7.72 1.47 1.35L5.41 20z\"/>\n",
              "  </svg>\n",
              "      </button>\n",
              "      \n",
              "  <style>\n",
              "    .colab-df-container {\n",
              "      display:flex;\n",
              "      flex-wrap:wrap;\n",
              "      gap: 12px;\n",
              "    }\n",
              "\n",
              "    .colab-df-convert {\n",
              "      background-color: #E8F0FE;\n",
              "      border: none;\n",
              "      border-radius: 50%;\n",
              "      cursor: pointer;\n",
              "      display: none;\n",
              "      fill: #1967D2;\n",
              "      height: 32px;\n",
              "      padding: 0 0 0 0;\n",
              "      width: 32px;\n",
              "    }\n",
              "\n",
              "    .colab-df-convert:hover {\n",
              "      background-color: #E2EBFA;\n",
              "      box-shadow: 0px 1px 2px rgba(60, 64, 67, 0.3), 0px 1px 3px 1px rgba(60, 64, 67, 0.15);\n",
              "      fill: #174EA6;\n",
              "    }\n",
              "\n",
              "    [theme=dark] .colab-df-convert {\n",
              "      background-color: #3B4455;\n",
              "      fill: #D2E3FC;\n",
              "    }\n",
              "\n",
              "    [theme=dark] .colab-df-convert:hover {\n",
              "      background-color: #434B5C;\n",
              "      box-shadow: 0px 1px 3px 1px rgba(0, 0, 0, 0.15);\n",
              "      filter: drop-shadow(0px 1px 2px rgba(0, 0, 0, 0.3));\n",
              "      fill: #FFFFFF;\n",
              "    }\n",
              "  </style>\n",
              "\n",
              "      <script>\n",
              "        const buttonEl =\n",
              "          document.querySelector('#df-cafea7f7-654a-4505-a941-ebc1941934bc button.colab-df-convert');\n",
              "        buttonEl.style.display =\n",
              "          google.colab.kernel.accessAllowed ? 'block' : 'none';\n",
              "\n",
              "        async function convertToInteractive(key) {\n",
              "          const element = document.querySelector('#df-cafea7f7-654a-4505-a941-ebc1941934bc');\n",
              "          const dataTable =\n",
              "            await google.colab.kernel.invokeFunction('convertToInteractive',\n",
              "                                                     [key], {});\n",
              "          if (!dataTable) return;\n",
              "\n",
              "          const docLinkHtml = 'Like what you see? Visit the ' +\n",
              "            '<a target=\"_blank\" href=https://colab.research.google.com/notebooks/data_table.ipynb>data table notebook</a>'\n",
              "            + ' to learn more about interactive tables.';\n",
              "          element.innerHTML = '';\n",
              "          dataTable['output_type'] = 'display_data';\n",
              "          await google.colab.output.renderOutput(dataTable, element);\n",
              "          const docLink = document.createElement('div');\n",
              "          docLink.innerHTML = docLinkHtml;\n",
              "          element.appendChild(docLink);\n",
              "        }\n",
              "      </script>\n",
              "    </div>\n",
              "  </div>\n",
              "  "
            ]
          },
          "metadata": {},
          "execution_count": 259
        }
      ]
    },
    {
      "cell_type": "code",
      "source": [
        "dfy_all = df_train['stress']"
      ],
      "metadata": {
        "id": "LhRonZOviKZj"
      },
      "execution_count": 343,
      "outputs": []
    },
    {
      "cell_type": "code",
      "source": [
        "df_test_all = load_csv(\"/content/drive/MyDrive/Spring_22/AInHC/a2/kaggle_2.csv\")\n",
        "print(\"Number of rows and colums:\", df_test_all.shape)\n",
        "print(df_test_all.head(5))\n"
      ],
      "metadata": {
        "colab": {
          "base_uri": "https://localhost:8080/"
        },
        "id": "5TipbuuQMpAh",
        "outputId": "5931d7ef-6fdd-434a-bd2b-362f549358bd"
      },
      "execution_count": 341,
      "outputs": [
        {
          "output_type": "stream",
          "name": "stdout",
          "text": [
            "Number of rows and colums: (1000, 14)\n",
            "   Id         HR  interval in seconds      NNRR      AVNN      SDNN     RMSSD  \\\n",
            "0   0  95.135158             0.890853  0.974164  0.889935  0.096018  0.046200   \n",
            "1   1  82.564200             0.628600  0.980480  0.629127  0.085506  0.040439   \n",
            "2   2  90.010889             0.944939  0.972702  0.943657  0.121277  0.058594   \n",
            "3   3  81.102854             0.811532  0.976090  0.811925  0.049806  0.023856   \n",
            "4   4  89.572000             0.844262  0.974839  0.843826  0.050792  0.024407   \n",
            "\n",
            "      pNN50        TP       ULF      VLF   LF   HF  LF_HF  \n",
            "0  0.032778  0.105342  0.105342  0.00064  0.0  0.0    NaN  \n",
            "1  0.025833  0.104875  0.104875  0.00064  0.0  0.0    NaN  \n",
            "2  0.034412  0.166643  0.166643  0.00064  0.0  0.0    NaN  \n",
            "3  0.030641  0.026524  0.026524  0.00064  0.0  0.0    NaN  \n",
            "4  0.032027  0.025992  0.025992  0.00064  0.0  0.0    NaN  \n"
          ]
        }
      ]
    },
    {
      "cell_type": "code",
      "source": [
        "df_test.info()"
      ],
      "metadata": {
        "colab": {
          "base_uri": "https://localhost:8080/"
        },
        "id": "6YolxnPPMpio",
        "outputId": "2d0c1be9-191f-4b10-fd29-aea5cac9ce74"
      },
      "execution_count": 261,
      "outputs": [
        {
          "output_type": "stream",
          "name": "stdout",
          "text": [
            "<class 'pandas.core.frame.DataFrame'>\n",
            "RangeIndex: 1000 entries, 0 to 999\n",
            "Data columns (total 14 columns):\n",
            " #   Column               Non-Null Count  Dtype  \n",
            "---  ------               --------------  -----  \n",
            " 0   Id                   1000 non-null   int64  \n",
            " 1   HR                   1000 non-null   float64\n",
            " 2   interval in seconds  1000 non-null   float64\n",
            " 3   NNRR                 1000 non-null   float64\n",
            " 4   AVNN                 1000 non-null   float64\n",
            " 5   SDNN                 968 non-null    float64\n",
            " 6   RMSSD                1000 non-null   float64\n",
            " 7   pNN50                1000 non-null   float64\n",
            " 8   TP                   920 non-null    float64\n",
            " 9   ULF                  951 non-null    float64\n",
            " 10  VLF                  969 non-null    float64\n",
            " 11  LF                   969 non-null    float64\n",
            " 12  HF                   969 non-null    float64\n",
            " 13  LF_HF                10 non-null     float64\n",
            "dtypes: float64(13), int64(1)\n",
            "memory usage: 109.5 KB\n"
          ]
        }
      ]
    },
    {
      "cell_type": "markdown",
      "source": [
        "# Part 1 - Data cleaning, normalization and missing value fillup"
      ],
      "metadata": {
        "id": "I9om9G-cfwWb"
      }
    },
    {
      "cell_type": "code",
      "source": [
        "columns = ['Id','LF_HF','TP']\n",
        "df_train_new = df_train.drop(columns, inplace=False, axis=1)"
      ],
      "metadata": {
        "id": "YA6OPG4xNGim"
      },
      "execution_count": 262,
      "outputs": []
    },
    {
      "cell_type": "code",
      "source": [
        "# Experiment 2\n",
        "columns_2 = ['Id','LF_HF', 'NNRR', 'pNN50', 'ULF', 'VLF', 'LF', 'HF']\n",
        "df_train_new_2 = df_train.drop(columns_2, inplace=False, axis=1)"
      ],
      "metadata": {
        "id": "eL6FKRI7JOfI"
      },
      "execution_count": 263,
      "outputs": []
    },
    {
      "cell_type": "code",
      "source": [
        "df_test_new  = df_test.drop(columns, inplace=False, axis=1)"
      ],
      "metadata": {
        "id": "zHmhQ4DAb1At"
      },
      "execution_count": null,
      "outputs": []
    },
    {
      "cell_type": "code",
      "source": [
        "# Experiment 2\n",
        "df_test_new_2  = df_test.drop(columns_2, inplace=False, axis=1)"
      ],
      "metadata": {
        "id": "-1wSy1G7Lg4o"
      },
      "execution_count": 265,
      "outputs": []
    },
    {
      "cell_type": "code",
      "source": [
        "df_train_new.count()"
      ],
      "metadata": {
        "colab": {
          "base_uri": "https://localhost:8080/"
        },
        "id": "tAAHj2wyNmsa",
        "outputId": "f5ed5576-95c7-4268-daf4-1011d15db1a9"
      },
      "execution_count": null,
      "outputs": [
        {
          "output_type": "execute_result",
          "data": {
            "text/plain": [
              "HR                     3020\n",
              "interval in seconds    3129\n",
              "NNRR                   3071\n",
              "AVNN                   3055\n",
              "SDNN                   3039\n",
              "RMSSD                  3129\n",
              "pNN50                  3129\n",
              "ULF                    3006\n",
              "VLF                    3033\n",
              "LF                     3033\n",
              "HF                     3033\n",
              "stress                 3129\n",
              "dtype: int64"
            ]
          },
          "metadata": {},
          "execution_count": 143
        }
      ]
    },
    {
      "cell_type": "code",
      "source": [
        "# Experiment 2\n",
        "df_train_new_2.count()"
      ],
      "metadata": {
        "colab": {
          "base_uri": "https://localhost:8080/"
        },
        "id": "r6RVc09DLnke",
        "outputId": "805c8817-ea2c-43bb-bf68-dd8e80bc217a"
      },
      "execution_count": 267,
      "outputs": [
        {
          "output_type": "execute_result",
          "data": {
            "text/plain": [
              "HR                     3020\n",
              "interval in seconds    3129\n",
              "AVNN                   3055\n",
              "SDNN                   3039\n",
              "RMSSD                  3129\n",
              "TP                     2910\n",
              "stress                 3129\n",
              "dtype: int64"
            ]
          },
          "metadata": {},
          "execution_count": 267
        }
      ]
    },
    {
      "cell_type": "markdown",
      "source": [
        "Missing values method 1\n",
        "replacing NANs with mean"
      ],
      "metadata": {
        "id": "OxUmxGPeCJuv"
      }
    },
    {
      "cell_type": "code",
      "source": [
        "#replacing nan with mean values\n",
        "df_train_mean = df_train_new.fillna(df_train_new.mean())"
      ],
      "metadata": {
        "id": "OWP45Sf7Pipv"
      },
      "execution_count": null,
      "outputs": []
    },
    {
      "cell_type": "code",
      "source": [
        "# Experiment 2\n",
        "df_train_mean_2 = df_train_new_2.fillna(df_train_new_2.mean())"
      ],
      "metadata": {
        "id": "-MdphWDEL8Ka"
      },
      "execution_count": 269,
      "outputs": []
    },
    {
      "cell_type": "code",
      "source": [
        "df_train_mean.count()"
      ],
      "metadata": {
        "colab": {
          "base_uri": "https://localhost:8080/"
        },
        "id": "36UjkczHoGys",
        "outputId": "cecf5254-2be1-41b1-b65e-2648c5bdba04"
      },
      "execution_count": null,
      "outputs": [
        {
          "output_type": "execute_result",
          "data": {
            "text/plain": [
              "HR                     3129\n",
              "interval in seconds    3129\n",
              "NNRR                   3129\n",
              "AVNN                   3129\n",
              "SDNN                   3129\n",
              "RMSSD                  3129\n",
              "pNN50                  3129\n",
              "ULF                    3129\n",
              "VLF                    3129\n",
              "LF                     3129\n",
              "HF                     3129\n",
              "stress                 3129\n",
              "dtype: int64"
            ]
          },
          "metadata": {},
          "execution_count": 145
        }
      ]
    },
    {
      "cell_type": "markdown",
      "source": [
        "dropping inf values "
      ],
      "metadata": {
        "id": "hTfbeP98nUbO"
      }
    },
    {
      "cell_type": "code",
      "source": [
        "# Only select rows that have all finite entries.\n",
        "df_train_noINF = df_train_mean[np.all(np.isfinite(df_train_mean), axis=1)]"
      ],
      "metadata": {
        "id": "ere4KBhwnM2a"
      },
      "execution_count": null,
      "outputs": []
    },
    {
      "cell_type": "code",
      "source": [
        "# Experiment 2\n",
        "df_train_noINF_2 = df_train_mean_2[np.all(np.isfinite(df_train_mean_2), axis=1)]"
      ],
      "metadata": {
        "id": "4rzbm6JpMFCV"
      },
      "execution_count": 270,
      "outputs": []
    },
    {
      "cell_type": "code",
      "source": [
        "df_train_noINF.count()"
      ],
      "metadata": {
        "colab": {
          "base_uri": "https://localhost:8080/"
        },
        "id": "DTOBQVqiob4Y",
        "outputId": "79554b9a-0902-40fb-d7a0-494a8416712a"
      },
      "execution_count": null,
      "outputs": [
        {
          "output_type": "execute_result",
          "data": {
            "text/plain": [
              "HR                     2989\n",
              "interval in seconds    2989\n",
              "NNRR                   2989\n",
              "AVNN                   2989\n",
              "SDNN                   2989\n",
              "RMSSD                  2989\n",
              "pNN50                  2989\n",
              "ULF                    2989\n",
              "VLF                    2989\n",
              "LF                     2989\n",
              "HF                     2989\n",
              "stress                 2989\n",
              "dtype: int64"
            ]
          },
          "metadata": {},
          "execution_count": 147
        }
      ]
    },
    {
      "cell_type": "code",
      "source": [
        "df_train_noINF_2.count()"
      ],
      "metadata": {
        "colab": {
          "base_uri": "https://localhost:8080/"
        },
        "id": "4nA7Ip9vMKOG",
        "outputId": "618beb29-1a2a-4f5b-e343-c208c5df2f99"
      },
      "execution_count": 271,
      "outputs": [
        {
          "output_type": "execute_result",
          "data": {
            "text/plain": [
              "HR                     2893\n",
              "interval in seconds    2893\n",
              "AVNN                   2893\n",
              "SDNN                   2893\n",
              "RMSSD                  2893\n",
              "TP                     2893\n",
              "stress                 2893\n",
              "dtype: int64"
            ]
          },
          "metadata": {},
          "execution_count": 271
        }
      ]
    },
    {
      "cell_type": "code",
      "source": [
        "# creating a copy of the saleprice\n",
        "dfy = df_train_noINF['stress']"
      ],
      "metadata": {
        "id": "IBJ_Y1yzQzDj"
      },
      "execution_count": null,
      "outputs": []
    },
    {
      "cell_type": "code",
      "source": [
        "dfy_2 = df_train_noINF_2['stress']"
      ],
      "metadata": {
        "id": "DFmaaBZaMP-E"
      },
      "execution_count": 272,
      "outputs": []
    },
    {
      "cell_type": "code",
      "source": [
        "dfy.count()"
      ],
      "metadata": {
        "colab": {
          "base_uri": "https://localhost:8080/"
        },
        "id": "TO2BVplIpG_c",
        "outputId": "2490bd7d-b908-4f01-969c-23c73e21d4aa"
      },
      "execution_count": null,
      "outputs": [
        {
          "output_type": "execute_result",
          "data": {
            "text/plain": [
              "2989"
            ]
          },
          "metadata": {},
          "execution_count": 149
        }
      ]
    },
    {
      "cell_type": "code",
      "source": [
        "dfy_2.count()"
      ],
      "metadata": {
        "colab": {
          "base_uri": "https://localhost:8080/"
        },
        "id": "lF06cWnoMS51",
        "outputId": "da86aa90-439e-4619-fcca-5c4d7bb55161"
      },
      "execution_count": 273,
      "outputs": [
        {
          "output_type": "execute_result",
          "data": {
            "text/plain": [
              "2893"
            ]
          },
          "metadata": {},
          "execution_count": 273
        }
      ]
    },
    {
      "cell_type": "code",
      "source": [
        "# dropping the saleprice from train\n",
        "df_train_nostress = df_train_noINF.drop('stress', inplace=False, axis=1)"
      ],
      "metadata": {
        "id": "DjvkAwqPPiKV"
      },
      "execution_count": null,
      "outputs": []
    },
    {
      "cell_type": "code",
      "source": [
        "df_train_nostress_2 = df_train_noINF_2.drop('stress', inplace=False, axis=1)"
      ],
      "metadata": {
        "id": "Xeg6i8EQMWBR"
      },
      "execution_count": 274,
      "outputs": []
    },
    {
      "cell_type": "code",
      "source": [
        "df_train_nostress.count()"
      ],
      "metadata": {
        "colab": {
          "base_uri": "https://localhost:8080/"
        },
        "id": "7dIt5D15n6oF",
        "outputId": "3ef7a83b-3a1b-4901-87e1-e571829039f6"
      },
      "execution_count": null,
      "outputs": [
        {
          "output_type": "execute_result",
          "data": {
            "text/plain": [
              "HR                     2989\n",
              "interval in seconds    2989\n",
              "NNRR                   2989\n",
              "AVNN                   2989\n",
              "SDNN                   2989\n",
              "RMSSD                  2989\n",
              "pNN50                  2989\n",
              "ULF                    2989\n",
              "VLF                    2989\n",
              "LF                     2989\n",
              "HF                     2989\n",
              "dtype: int64"
            ]
          },
          "metadata": {},
          "execution_count": 152
        }
      ]
    },
    {
      "cell_type": "markdown",
      "source": [
        "Standardising the dataset"
      ],
      "metadata": {
        "id": "07kdaFrtCQFg"
      }
    },
    {
      "cell_type": "code",
      "source": [
        "from sklearn.preprocessing import StandardScaler\n",
        "\n",
        "# standardising X datapoints\n",
        "scaler_train = StandardScaler()\n",
        "scaler_train.fit(df_train_nostress) # computes mean and std for every column, dont do for test\n",
        "df_train_nostress_transformed = scaler_train.transform(df_train_nostress)"
      ],
      "metadata": {
        "id": "WUA7ikLFB-iQ"
      },
      "execution_count": 296,
      "outputs": []
    },
    {
      "cell_type": "code",
      "source": [
        "from sklearn.preprocessing import StandardScaler\n",
        "\n",
        "# standardising X datapoints\n",
        "scaler_train = StandardScaler()\n",
        "scaler_train.fit(df_train_nostress_2) # computes mean and std for every column, dont do for test\n",
        "df_train_nostress_transformed_2 = scaler_train.transform(df_train_nostress_2)"
      ],
      "metadata": {
        "id": "TT6kiK1hRbLZ"
      },
      "execution_count": 303,
      "outputs": []
    },
    {
      "cell_type": "code",
      "source": [
        "df_train_nostress_transformed_2"
      ],
      "metadata": {
        "colab": {
          "base_uri": "https://localhost:8080/"
        },
        "id": "jOl90_W2RgPk",
        "outputId": "c54c401a-278c-4745-f05c-85de3b73eae2"
      },
      "execution_count": 304,
      "outputs": [
        {
          "output_type": "execute_result",
          "data": {
            "text/plain": [
              "array([[ 0.03406061, -1.27697893, -1.28337141, -1.12428204, -1.23711355,\n",
              "        -1.0104999 ],\n",
              "       [ 0.03406061, -0.86507114, -0.87251015, -1.11020122, -0.58466287,\n",
              "        -1.01103699],\n",
              "       [ 0.14605869, -0.90584824, -0.9145625 , -1.00195279, -1.22245098,\n",
              "        -1.00598027],\n",
              "       ...,\n",
              "       [ 0.03406061,  1.09148602,  1.10401552,  0.87964206,  1.04132577,\n",
              "         0.51896068],\n",
              "       [ 0.03406061,  1.05684417,  1.05132721,  1.5442358 ,  0.99957261,\n",
              "         1.57978137],\n",
              "       [ 0.03406061,  0.4448415 ,  0.41912312,  0.71866854, -0.20855376,\n",
              "         0.46395501]])"
            ]
          },
          "metadata": {},
          "execution_count": 304
        }
      ]
    },
    {
      "cell_type": "code",
      "source": [
        "df_train_nostress_transformed"
      ],
      "metadata": {
        "colab": {
          "base_uri": "https://localhost:8080/"
        },
        "id": "K7dNexpRkKQS",
        "outputId": "7dd8f999-c4de-4de4-b419-e0efca7b9764"
      },
      "execution_count": 297,
      "outputs": [
        {
          "output_type": "execute_result",
          "data": {
            "text/plain": [
              "array([[ 1.31386361, -1.31089728,  1.40778986, ..., -0.01057511,\n",
              "        -0.00530564, -0.00514616],\n",
              "       [ 0.28656685, -1.32354833,  1.40778986, ..., -0.01057511,\n",
              "        -0.00530564, -0.00514616],\n",
              "       [ 0.35370215, -1.32354833,  1.40778986, ..., -0.01057511,\n",
              "        -0.00530564, -0.00514616],\n",
              "       ...,\n",
              "       [ 0.00597358,  1.12167741, -1.2660234 , ..., -0.2363536 ,\n",
              "        -0.11858115, -0.11501658],\n",
              "       [ 0.00597358,  1.08723625, -0.95714265, ..., -0.2363536 ,\n",
              "        -0.11858115, -0.11501658],\n",
              "       [ 0.00597358,  0.47877922, -0.38709109, ..., -0.2363536 ,\n",
              "        -0.11858115, -0.11501658]])"
            ]
          },
          "metadata": {},
          "execution_count": 297
        }
      ]
    },
    {
      "cell_type": "code",
      "source": [
        "# standardising Y datapoints\n",
        "dfy_train = dfy.values.reshape(-1,1)\n",
        "scaler_ytrain = StandardScaler()\n",
        "scaler_ytrain.fit(dfy_train)\n",
        "dfy_train_transformed = scaler_ytrain.transform(dfy_train ) #normalised saleprice"
      ],
      "metadata": {
        "id": "5sEpfDpWHDXW"
      },
      "execution_count": 298,
      "outputs": []
    },
    {
      "cell_type": "code",
      "source": [
        "# standardising Y datapoints\n",
        "dfy_train_2 = dfy_2.values.reshape(-1,1)\n",
        "scaler_ytrain = StandardScaler()\n",
        "scaler_ytrain.fit(dfy_train_2)\n",
        "dfy_train_transformed_2 = scaler_ytrain.transform(dfy_train_2) #normalised saleprice"
      ],
      "metadata": {
        "id": "sEBB-W8jRjlc"
      },
      "execution_count": 305,
      "outputs": []
    },
    {
      "cell_type": "code",
      "source": [
        "dfy_train_transformed_2"
      ],
      "metadata": {
        "colab": {
          "base_uri": "https://localhost:8080/"
        },
        "id": "y_esw2fzRzo_",
        "outputId": "6445e5fe-06a5-47b2-82fa-eef3b900fc0d"
      },
      "execution_count": 308,
      "outputs": [
        {
          "output_type": "execute_result",
          "data": {
            "text/plain": [
              "array([[-1.3856161 ],\n",
              "       [-1.3856161 ],\n",
              "       [-1.3856161 ],\n",
              "       ...,\n",
              "       [ 0.02041244],\n",
              "       [ 0.02041244],\n",
              "       [ 0.02041244]])"
            ]
          },
          "metadata": {},
          "execution_count": 308
        }
      ]
    },
    {
      "cell_type": "code",
      "source": [
        "dfy_train_transformed"
      ],
      "metadata": {
        "colab": {
          "base_uri": "https://localhost:8080/"
        },
        "id": "YO0CH9eARolR",
        "outputId": "b5b18639-721b-43b9-84d1-d5dd8bc1dd67"
      },
      "execution_count": 299,
      "outputs": [
        {
          "output_type": "execute_result",
          "data": {
            "text/plain": [
              "array([[-1.37029635],\n",
              "       [-1.37029635],\n",
              "       [-1.37029635],\n",
              "       ...,\n",
              "       [ 0.01952916],\n",
              "       [ 0.01952916],\n",
              "       [ 0.01952916]])"
            ]
          },
          "metadata": {},
          "execution_count": 299
        }
      ]
    },
    {
      "cell_type": "code",
      "source": [
        "# def missing_filler1():\n",
        "#   # Take input the raw data and fillup the missing values using first algorithm.\n",
        "#   # YOUR CODE HERE\n",
        "#   #replacing nan with mean values\n",
        "  "
      ],
      "metadata": {
        "id": "XbLj1nS9gG_Z"
      },
      "execution_count": null,
      "outputs": []
    },
    {
      "cell_type": "code",
      "source": [
        ""
      ],
      "metadata": {
        "id": "YJhj_Jqim6DQ"
      },
      "execution_count": null,
      "outputs": []
    },
    {
      "cell_type": "code",
      "source": [
        "from sklearn.impute import KNNImputer\n",
        "def missing_filler2(data):\n",
        "  # Take input the raw data and fillup the missing values using second algorithm.\n",
        "  # YOUR CODE HERE\n",
        "  for col in data.columns[:-1]:\n",
        "     infData = data[col].isin([np.inf, -np.inf])\n",
        "     infIndex = data[col].loc[infData]\n",
        "     data = data.drop(infIndex.index)\n",
        "  \n",
        "  hot_deck = KNNImputer(n_neighbors=2, weights = 'uniform')\n",
        "  new_data = hot_deck.fit_transform(data)\n",
        "  return new_data"
      ],
      "metadata": {
        "id": "c3RtnXkLgUSc"
      },
      "execution_count": null,
      "outputs": []
    },
    {
      "cell_type": "code",
      "source": [
        "features = df_train_nostress.columns"
      ],
      "metadata": {
        "id": "Iqxv2Si-GeqF"
      },
      "execution_count": null,
      "outputs": []
    },
    {
      "cell_type": "code",
      "source": [
        "data_hotdeck = missing_filler2(df_train_nostress)\n",
        "df_hotdeck = pd.DataFrame(data_hotdeck, columns = features)\n",
        "print(df_hotdeck)"
      ],
      "metadata": {
        "colab": {
          "base_uri": "https://localhost:8080/"
        },
        "id": "6GV_Ix8k9pY4",
        "outputId": "5a08f43e-1625-4717-e683-d501959341cb"
      },
      "execution_count": null,
      "outputs": [
        {
          "output_type": "stream",
          "name": "stdout",
          "text": [
            "              HR  interval in seconds      NNRR      AVNN      SDNN     RMSSD  \\\n",
            "0     108.329447             0.668183  0.979203  0.666800  0.006600  0.003200   \n",
            "1      91.074128             0.666800  0.979203  0.666800  0.006600  0.003200   \n",
            "2      92.201787             0.666800  0.979203  0.666800  0.006600  0.003200   \n",
            "3      94.776255             0.666800  0.979203  0.666800  0.006600  0.003200   \n",
            "4      86.361053             0.676691  0.978741  0.676911  0.030424  0.012999   \n",
            "...          ...                  ...       ...       ...       ...       ...   \n",
            "2984   86.361053             0.894274  0.974164  0.893449  0.087878  0.048848   \n",
            "2985   86.361053             0.899405  0.974164  0.898719  0.073491  0.035367   \n",
            "2986   86.361053             0.934106  0.972702  0.934371  0.095306  0.048829   \n",
            "2987   86.361053             0.930341  0.973453  0.928689  0.116824  0.048173   \n",
            "2988   86.361053             0.863826  0.974839  0.860511  0.090094  0.029174   \n",
            "\n",
            "         pNN50       ULF       VLF        LF        HF  \n",
            "0     0.005000  0.000000  0.001377  0.000004  0.000001  \n",
            "1     0.005000  0.000000  0.001377  0.000004  0.000001  \n",
            "2     0.005000  0.000000  0.001377  0.000004  0.000001  \n",
            "3     0.005000  0.000000  0.001377  0.000004  0.000001  \n",
            "4     0.027727  0.000000  0.000863  0.000292  0.000033  \n",
            "...        ...       ...       ...       ...       ...  \n",
            "2984  0.088333  0.085428  0.000640  0.000000  0.000000  \n",
            "2985  0.032778  0.059481  0.000640  0.000000  0.000000  \n",
            "2986  0.063824  0.090722  0.000640  0.000000  0.000000  \n",
            "2987  0.062143  0.153265  0.000640  0.000000  0.000000  \n",
            "2988  0.086081  0.087479  0.000640  0.000000  0.000000  \n",
            "\n",
            "[2989 rows x 11 columns]\n"
          ]
        }
      ]
    },
    {
      "cell_type": "code",
      "source": [
        ""
      ],
      "metadata": {
        "id": "hBw6YZOlnBNT"
      },
      "execution_count": null,
      "outputs": []
    },
    {
      "cell_type": "code",
      "source": [
        "def cleaning():\n",
        "  # Take all the features as input, and do any data cleaning necessary.\n",
        "  # YOUR CODE HERE"
      ],
      "metadata": {
        "id": "OL7SYLfhgeMy"
      },
      "execution_count": null,
      "outputs": []
    },
    {
      "cell_type": "code",
      "source": [
        "def normalizer(dataset):\n",
        "  # Taken input the output of cleaning function, and perform data normalization independently for all the features.\n",
        "  # YOUR CODE HERE\n",
        "\n",
        "  dataNorm = ((dataset-dataset.min())/(dataset.max()-dataset.min()))\n",
        "  return dataNorm"
      ],
      "metadata": {
        "id": "78nU0IK7f_2E"
      },
      "execution_count": null,
      "outputs": []
    },
    {
      "cell_type": "code",
      "source": [
        "data_norm_3 = normalizer(df_train_nostress_transformed_2)\n",
        "data_norm_3"
      ],
      "metadata": {
        "colab": {
          "base_uri": "https://localhost:8080/"
        },
        "id": "pNHrN9TWSBkc",
        "outputId": "13bf1b41-187e-46f9-f01c-7afd5878548b"
      },
      "execution_count": 310,
      "outputs": [
        {
          "output_type": "execute_result",
          "data": {
            "text/plain": [
              "array([[0.20803347, 0.14468554, 0.14437666, 0.15206368, 0.14661179,\n",
              "        0.1575615 ],\n",
              "       [0.20803347, 0.16458845, 0.16422901, 0.15274404, 0.17813746,\n",
              "        0.15753555],\n",
              "       [0.21344509, 0.16261815, 0.16219708, 0.15797449, 0.14732026,\n",
              "        0.15777988],\n",
              "       ...,\n",
              "       [0.20803347, 0.25912706, 0.25973247, 0.248891  , 0.25670337,\n",
              "        0.23146329],\n",
              "       [0.20803347, 0.2574532 , 0.25718663, 0.28100341, 0.25468591,\n",
              "        0.28272093],\n",
              "       [0.20803347, 0.22788193, 0.22663925, 0.24111294, 0.19631062,\n",
              "        0.22880548]])"
            ]
          },
          "metadata": {},
          "execution_count": 310
        }
      ]
    },
    {
      "cell_type": "code",
      "source": [
        "data_norm = normalizer(df_train_nostress)\n",
        "data_norm.head(5)"
      ],
      "metadata": {
        "colab": {
          "base_uri": "https://localhost:8080/",
          "height": 206
        },
        "id": "qIV2ZVeDG3e5",
        "outputId": "bf4f35e9-c74b-40d8-9675-bd9cb23f2a6e"
      },
      "execution_count": null,
      "outputs": [
        {
          "output_type": "execute_result",
          "data": {
            "text/plain": [
              "         HR  interval in seconds      NNRR      AVNN          SDNN     RMSSD  \\\n",
              "0  0.272231             0.231260  0.746810  0.228993  8.846869e-08  0.000000   \n",
              "1  0.221806             0.228560  0.746810  0.228993  8.846869e-08  0.000000   \n",
              "2  0.225102             0.228560  0.746810  0.228993  8.846869e-08  0.000000   \n",
              "3  0.232625             0.228560  0.746810  0.228993  8.846869e-08  0.000000   \n",
              "4  0.208033             0.247873  0.704397  0.248811  1.447605e-01  0.121006   \n",
              "\n",
              "      pNN50  ULF       VLF        LF        HF  \n",
              "0  0.000000  0.0  0.020673  0.005956  0.004511  \n",
              "1  0.000000  0.0  0.020673  0.005956  0.004511  \n",
              "2  0.000000  0.0  0.020673  0.005956  0.004511  \n",
              "3  0.000000  0.0  0.020673  0.005956  0.004511  \n",
              "4  0.088384  0.0  0.006257  0.474330  0.127099  "
            ],
            "text/html": [
              "\n",
              "  <div id=\"df-77539678-600d-47a2-bf51-18ea660fc5f6\">\n",
              "    <div class=\"colab-df-container\">\n",
              "      <div>\n",
              "<style scoped>\n",
              "    .dataframe tbody tr th:only-of-type {\n",
              "        vertical-align: middle;\n",
              "    }\n",
              "\n",
              "    .dataframe tbody tr th {\n",
              "        vertical-align: top;\n",
              "    }\n",
              "\n",
              "    .dataframe thead th {\n",
              "        text-align: right;\n",
              "    }\n",
              "</style>\n",
              "<table border=\"1\" class=\"dataframe\">\n",
              "  <thead>\n",
              "    <tr style=\"text-align: right;\">\n",
              "      <th></th>\n",
              "      <th>HR</th>\n",
              "      <th>interval in seconds</th>\n",
              "      <th>NNRR</th>\n",
              "      <th>AVNN</th>\n",
              "      <th>SDNN</th>\n",
              "      <th>RMSSD</th>\n",
              "      <th>pNN50</th>\n",
              "      <th>ULF</th>\n",
              "      <th>VLF</th>\n",
              "      <th>LF</th>\n",
              "      <th>HF</th>\n",
              "    </tr>\n",
              "  </thead>\n",
              "  <tbody>\n",
              "    <tr>\n",
              "      <th>0</th>\n",
              "      <td>0.272231</td>\n",
              "      <td>0.231260</td>\n",
              "      <td>0.746810</td>\n",
              "      <td>0.228993</td>\n",
              "      <td>8.846869e-08</td>\n",
              "      <td>0.000000</td>\n",
              "      <td>0.000000</td>\n",
              "      <td>0.0</td>\n",
              "      <td>0.020673</td>\n",
              "      <td>0.005956</td>\n",
              "      <td>0.004511</td>\n",
              "    </tr>\n",
              "    <tr>\n",
              "      <th>1</th>\n",
              "      <td>0.221806</td>\n",
              "      <td>0.228560</td>\n",
              "      <td>0.746810</td>\n",
              "      <td>0.228993</td>\n",
              "      <td>8.846869e-08</td>\n",
              "      <td>0.000000</td>\n",
              "      <td>0.000000</td>\n",
              "      <td>0.0</td>\n",
              "      <td>0.020673</td>\n",
              "      <td>0.005956</td>\n",
              "      <td>0.004511</td>\n",
              "    </tr>\n",
              "    <tr>\n",
              "      <th>2</th>\n",
              "      <td>0.225102</td>\n",
              "      <td>0.228560</td>\n",
              "      <td>0.746810</td>\n",
              "      <td>0.228993</td>\n",
              "      <td>8.846869e-08</td>\n",
              "      <td>0.000000</td>\n",
              "      <td>0.000000</td>\n",
              "      <td>0.0</td>\n",
              "      <td>0.020673</td>\n",
              "      <td>0.005956</td>\n",
              "      <td>0.004511</td>\n",
              "    </tr>\n",
              "    <tr>\n",
              "      <th>3</th>\n",
              "      <td>0.232625</td>\n",
              "      <td>0.228560</td>\n",
              "      <td>0.746810</td>\n",
              "      <td>0.228993</td>\n",
              "      <td>8.846869e-08</td>\n",
              "      <td>0.000000</td>\n",
              "      <td>0.000000</td>\n",
              "      <td>0.0</td>\n",
              "      <td>0.020673</td>\n",
              "      <td>0.005956</td>\n",
              "      <td>0.004511</td>\n",
              "    </tr>\n",
              "    <tr>\n",
              "      <th>4</th>\n",
              "      <td>0.208033</td>\n",
              "      <td>0.247873</td>\n",
              "      <td>0.704397</td>\n",
              "      <td>0.248811</td>\n",
              "      <td>1.447605e-01</td>\n",
              "      <td>0.121006</td>\n",
              "      <td>0.088384</td>\n",
              "      <td>0.0</td>\n",
              "      <td>0.006257</td>\n",
              "      <td>0.474330</td>\n",
              "      <td>0.127099</td>\n",
              "    </tr>\n",
              "  </tbody>\n",
              "</table>\n",
              "</div>\n",
              "      <button class=\"colab-df-convert\" onclick=\"convertToInteractive('df-77539678-600d-47a2-bf51-18ea660fc5f6')\"\n",
              "              title=\"Convert this dataframe to an interactive table.\"\n",
              "              style=\"display:none;\">\n",
              "        \n",
              "  <svg xmlns=\"http://www.w3.org/2000/svg\" height=\"24px\"viewBox=\"0 0 24 24\"\n",
              "       width=\"24px\">\n",
              "    <path d=\"M0 0h24v24H0V0z\" fill=\"none\"/>\n",
              "    <path d=\"M18.56 5.44l.94 2.06.94-2.06 2.06-.94-2.06-.94-.94-2.06-.94 2.06-2.06.94zm-11 1L8.5 8.5l.94-2.06 2.06-.94-2.06-.94L8.5 2.5l-.94 2.06-2.06.94zm10 10l.94 2.06.94-2.06 2.06-.94-2.06-.94-.94-2.06-.94 2.06-2.06.94z\"/><path d=\"M17.41 7.96l-1.37-1.37c-.4-.4-.92-.59-1.43-.59-.52 0-1.04.2-1.43.59L10.3 9.45l-7.72 7.72c-.78.78-.78 2.05 0 2.83L4 21.41c.39.39.9.59 1.41.59.51 0 1.02-.2 1.41-.59l7.78-7.78 2.81-2.81c.8-.78.8-2.07 0-2.86zM5.41 20L4 18.59l7.72-7.72 1.47 1.35L5.41 20z\"/>\n",
              "  </svg>\n",
              "      </button>\n",
              "      \n",
              "  <style>\n",
              "    .colab-df-container {\n",
              "      display:flex;\n",
              "      flex-wrap:wrap;\n",
              "      gap: 12px;\n",
              "    }\n",
              "\n",
              "    .colab-df-convert {\n",
              "      background-color: #E8F0FE;\n",
              "      border: none;\n",
              "      border-radius: 50%;\n",
              "      cursor: pointer;\n",
              "      display: none;\n",
              "      fill: #1967D2;\n",
              "      height: 32px;\n",
              "      padding: 0 0 0 0;\n",
              "      width: 32px;\n",
              "    }\n",
              "\n",
              "    .colab-df-convert:hover {\n",
              "      background-color: #E2EBFA;\n",
              "      box-shadow: 0px 1px 2px rgba(60, 64, 67, 0.3), 0px 1px 3px 1px rgba(60, 64, 67, 0.15);\n",
              "      fill: #174EA6;\n",
              "    }\n",
              "\n",
              "    [theme=dark] .colab-df-convert {\n",
              "      background-color: #3B4455;\n",
              "      fill: #D2E3FC;\n",
              "    }\n",
              "\n",
              "    [theme=dark] .colab-df-convert:hover {\n",
              "      background-color: #434B5C;\n",
              "      box-shadow: 0px 1px 3px 1px rgba(0, 0, 0, 0.15);\n",
              "      filter: drop-shadow(0px 1px 2px rgba(0, 0, 0, 0.3));\n",
              "      fill: #FFFFFF;\n",
              "    }\n",
              "  </style>\n",
              "\n",
              "      <script>\n",
              "        const buttonEl =\n",
              "          document.querySelector('#df-77539678-600d-47a2-bf51-18ea660fc5f6 button.colab-df-convert');\n",
              "        buttonEl.style.display =\n",
              "          google.colab.kernel.accessAllowed ? 'block' : 'none';\n",
              "\n",
              "        async function convertToInteractive(key) {\n",
              "          const element = document.querySelector('#df-77539678-600d-47a2-bf51-18ea660fc5f6');\n",
              "          const dataTable =\n",
              "            await google.colab.kernel.invokeFunction('convertToInteractive',\n",
              "                                                     [key], {});\n",
              "          if (!dataTable) return;\n",
              "\n",
              "          const docLinkHtml = 'Like what you see? Visit the ' +\n",
              "            '<a target=\"_blank\" href=https://colab.research.google.com/notebooks/data_table.ipynb>data table notebook</a>'\n",
              "            + ' to learn more about interactive tables.';\n",
              "          element.innerHTML = '';\n",
              "          dataTable['output_type'] = 'display_data';\n",
              "          await google.colab.output.renderOutput(dataTable, element);\n",
              "          const docLink = document.createElement('div');\n",
              "          docLink.innerHTML = docLinkHtml;\n",
              "          element.appendChild(docLink);\n",
              "        }\n",
              "      </script>\n",
              "    </div>\n",
              "  </div>\n",
              "  "
            ]
          },
          "metadata": {},
          "execution_count": 157
        }
      ]
    },
    {
      "cell_type": "code",
      "source": [
        "data_norm_2 = normalizer(df_train_nostress_2)\n",
        "data_norm_2.head(5)"
      ],
      "metadata": {
        "colab": {
          "base_uri": "https://localhost:8080/",
          "height": 206
        },
        "id": "_JXGe5nVMdSo",
        "outputId": "59e28341-63ce-4e2c-fb50-55d0846be726"
      },
      "execution_count": 275,
      "outputs": [
        {
          "output_type": "execute_result",
          "data": {
            "text/plain": [
              "          HR  interval in seconds      AVNN      SDNN     RMSSD        TP\n",
              "4   0.208033             0.247873  0.248811  0.103705  0.080207  0.001551\n",
              "7   0.208033             0.335286  0.335657  0.106608  0.212788  0.001455\n",
              "23  0.213445             0.326633  0.326768  0.128926  0.083187  0.002359\n",
              "24  0.236293             0.242062  0.240071  0.069911  0.078792  0.000777\n",
              "25  0.234962             0.152051  0.150591  0.151382  0.074215  0.002842"
            ],
            "text/html": [
              "\n",
              "  <div id=\"df-4b7c0088-66fa-4d26-9a22-7a6962808ad9\">\n",
              "    <div class=\"colab-df-container\">\n",
              "      <div>\n",
              "<style scoped>\n",
              "    .dataframe tbody tr th:only-of-type {\n",
              "        vertical-align: middle;\n",
              "    }\n",
              "\n",
              "    .dataframe tbody tr th {\n",
              "        vertical-align: top;\n",
              "    }\n",
              "\n",
              "    .dataframe thead th {\n",
              "        text-align: right;\n",
              "    }\n",
              "</style>\n",
              "<table border=\"1\" class=\"dataframe\">\n",
              "  <thead>\n",
              "    <tr style=\"text-align: right;\">\n",
              "      <th></th>\n",
              "      <th>HR</th>\n",
              "      <th>interval in seconds</th>\n",
              "      <th>AVNN</th>\n",
              "      <th>SDNN</th>\n",
              "      <th>RMSSD</th>\n",
              "      <th>TP</th>\n",
              "    </tr>\n",
              "  </thead>\n",
              "  <tbody>\n",
              "    <tr>\n",
              "      <th>4</th>\n",
              "      <td>0.208033</td>\n",
              "      <td>0.247873</td>\n",
              "      <td>0.248811</td>\n",
              "      <td>0.103705</td>\n",
              "      <td>0.080207</td>\n",
              "      <td>0.001551</td>\n",
              "    </tr>\n",
              "    <tr>\n",
              "      <th>7</th>\n",
              "      <td>0.208033</td>\n",
              "      <td>0.335286</td>\n",
              "      <td>0.335657</td>\n",
              "      <td>0.106608</td>\n",
              "      <td>0.212788</td>\n",
              "      <td>0.001455</td>\n",
              "    </tr>\n",
              "    <tr>\n",
              "      <th>23</th>\n",
              "      <td>0.213445</td>\n",
              "      <td>0.326633</td>\n",
              "      <td>0.326768</td>\n",
              "      <td>0.128926</td>\n",
              "      <td>0.083187</td>\n",
              "      <td>0.002359</td>\n",
              "    </tr>\n",
              "    <tr>\n",
              "      <th>24</th>\n",
              "      <td>0.236293</td>\n",
              "      <td>0.242062</td>\n",
              "      <td>0.240071</td>\n",
              "      <td>0.069911</td>\n",
              "      <td>0.078792</td>\n",
              "      <td>0.000777</td>\n",
              "    </tr>\n",
              "    <tr>\n",
              "      <th>25</th>\n",
              "      <td>0.234962</td>\n",
              "      <td>0.152051</td>\n",
              "      <td>0.150591</td>\n",
              "      <td>0.151382</td>\n",
              "      <td>0.074215</td>\n",
              "      <td>0.002842</td>\n",
              "    </tr>\n",
              "  </tbody>\n",
              "</table>\n",
              "</div>\n",
              "      <button class=\"colab-df-convert\" onclick=\"convertToInteractive('df-4b7c0088-66fa-4d26-9a22-7a6962808ad9')\"\n",
              "              title=\"Convert this dataframe to an interactive table.\"\n",
              "              style=\"display:none;\">\n",
              "        \n",
              "  <svg xmlns=\"http://www.w3.org/2000/svg\" height=\"24px\"viewBox=\"0 0 24 24\"\n",
              "       width=\"24px\">\n",
              "    <path d=\"M0 0h24v24H0V0z\" fill=\"none\"/>\n",
              "    <path d=\"M18.56 5.44l.94 2.06.94-2.06 2.06-.94-2.06-.94-.94-2.06-.94 2.06-2.06.94zm-11 1L8.5 8.5l.94-2.06 2.06-.94-2.06-.94L8.5 2.5l-.94 2.06-2.06.94zm10 10l.94 2.06.94-2.06 2.06-.94-2.06-.94-.94-2.06-.94 2.06-2.06.94z\"/><path d=\"M17.41 7.96l-1.37-1.37c-.4-.4-.92-.59-1.43-.59-.52 0-1.04.2-1.43.59L10.3 9.45l-7.72 7.72c-.78.78-.78 2.05 0 2.83L4 21.41c.39.39.9.59 1.41.59.51 0 1.02-.2 1.41-.59l7.78-7.78 2.81-2.81c.8-.78.8-2.07 0-2.86zM5.41 20L4 18.59l7.72-7.72 1.47 1.35L5.41 20z\"/>\n",
              "  </svg>\n",
              "      </button>\n",
              "      \n",
              "  <style>\n",
              "    .colab-df-container {\n",
              "      display:flex;\n",
              "      flex-wrap:wrap;\n",
              "      gap: 12px;\n",
              "    }\n",
              "\n",
              "    .colab-df-convert {\n",
              "      background-color: #E8F0FE;\n",
              "      border: none;\n",
              "      border-radius: 50%;\n",
              "      cursor: pointer;\n",
              "      display: none;\n",
              "      fill: #1967D2;\n",
              "      height: 32px;\n",
              "      padding: 0 0 0 0;\n",
              "      width: 32px;\n",
              "    }\n",
              "\n",
              "    .colab-df-convert:hover {\n",
              "      background-color: #E2EBFA;\n",
              "      box-shadow: 0px 1px 2px rgba(60, 64, 67, 0.3), 0px 1px 3px 1px rgba(60, 64, 67, 0.15);\n",
              "      fill: #174EA6;\n",
              "    }\n",
              "\n",
              "    [theme=dark] .colab-df-convert {\n",
              "      background-color: #3B4455;\n",
              "      fill: #D2E3FC;\n",
              "    }\n",
              "\n",
              "    [theme=dark] .colab-df-convert:hover {\n",
              "      background-color: #434B5C;\n",
              "      box-shadow: 0px 1px 3px 1px rgba(0, 0, 0, 0.15);\n",
              "      filter: drop-shadow(0px 1px 2px rgba(0, 0, 0, 0.3));\n",
              "      fill: #FFFFFF;\n",
              "    }\n",
              "  </style>\n",
              "\n",
              "      <script>\n",
              "        const buttonEl =\n",
              "          document.querySelector('#df-4b7c0088-66fa-4d26-9a22-7a6962808ad9 button.colab-df-convert');\n",
              "        buttonEl.style.display =\n",
              "          google.colab.kernel.accessAllowed ? 'block' : 'none';\n",
              "\n",
              "        async function convertToInteractive(key) {\n",
              "          const element = document.querySelector('#df-4b7c0088-66fa-4d26-9a22-7a6962808ad9');\n",
              "          const dataTable =\n",
              "            await google.colab.kernel.invokeFunction('convertToInteractive',\n",
              "                                                     [key], {});\n",
              "          if (!dataTable) return;\n",
              "\n",
              "          const docLinkHtml = 'Like what you see? Visit the ' +\n",
              "            '<a target=\"_blank\" href=https://colab.research.google.com/notebooks/data_table.ipynb>data table notebook</a>'\n",
              "            + ' to learn more about interactive tables.';\n",
              "          element.innerHTML = '';\n",
              "          dataTable['output_type'] = 'display_data';\n",
              "          await google.colab.output.renderOutput(dataTable, element);\n",
              "          const docLink = document.createElement('div');\n",
              "          docLink.innerHTML = docLinkHtml;\n",
              "          element.appendChild(docLink);\n",
              "        }\n",
              "      </script>\n",
              "    </div>\n",
              "  </div>\n",
              "  "
            ]
          },
          "metadata": {},
          "execution_count": 275
        }
      ]
    },
    {
      "cell_type": "code",
      "source": [
        "data_norm.count()"
      ],
      "metadata": {
        "colab": {
          "base_uri": "https://localhost:8080/"
        },
        "id": "4tZp3UdqntOh",
        "outputId": "1f8ff0ff-9c54-42bb-e4ec-55644ace8895"
      },
      "execution_count": null,
      "outputs": [
        {
          "output_type": "execute_result",
          "data": {
            "text/plain": [
              "HR                     2989\n",
              "interval in seconds    2989\n",
              "NNRR                   2989\n",
              "AVNN                   2989\n",
              "SDNN                   2989\n",
              "RMSSD                  2989\n",
              "pNN50                  2989\n",
              "ULF                    2989\n",
              "VLF                    2989\n",
              "LF                     2989\n",
              "HF                     2989\n",
              "dtype: int64"
            ]
          },
          "metadata": {},
          "execution_count": 158
        }
      ]
    },
    {
      "cell_type": "markdown",
      "source": [
        "Correlation Matrix"
      ],
      "metadata": {
        "id": "RElUDkHPY1vX"
      }
    },
    {
      "cell_type": "code",
      "source": [
        "import matplotlib.pyplot as plt\n",
        "\n",
        "def correlationMatrix(dataset):\n",
        "  # Include an option in the function to find correlation with/without the target variable\n",
        "  # Output: A heatmap plot of the correlation matrix\n",
        "  # Hint: Use the definition of correlation matrix to construct one for the features at hand\n",
        "  data_corr = dataset.corr()\n",
        "  fig, ax = plt.subplots(figsize=(8,5))   \n",
        "\n",
        "  data_heatmap = sns.heatmap(data_corr,vmax=1, square=True,cmap=\"Blues\",annot=True, fmt='.1f')\n",
        "\n",
        "  return data_corr, data_heatmap"
      ],
      "metadata": {
        "id": "oW0JGaGYUog7"
      },
      "execution_count": null,
      "outputs": []
    },
    {
      "cell_type": "code",
      "source": [
        "data_corr, data_heatmap = correlationMatrix(data_norm_2)\n",
        "print(data_corr)\n",
        "\n",
        "plt.title('Correlation between different attributes')"
      ],
      "metadata": {
        "colab": {
          "base_uri": "https://localhost:8080/",
          "height": 706
        },
        "id": "o34C_oAAMlhM",
        "outputId": "87fef86e-921d-4514-ecde-67b5b04b4786"
      },
      "execution_count": 276,
      "outputs": [
        {
          "output_type": "stream",
          "name": "stdout",
          "text": [
            "                           HR  interval in seconds      AVNN      SDNN  \\\n",
            "HR                   1.000000            -0.495203 -0.493653 -0.266055   \n",
            "interval in seconds -0.495203             1.000000  0.996156  0.692802   \n",
            "AVNN                -0.493653             0.996156  1.000000  0.697763   \n",
            "SDNN                -0.266055             0.692802  0.697763  1.000000   \n",
            "RMSSD               -0.269497             0.692222  0.697345  0.978686   \n",
            "TP                  -0.221662             0.631554  0.637753  0.969196   \n",
            "\n",
            "                        RMSSD        TP  \n",
            "HR                  -0.269497 -0.221662  \n",
            "interval in seconds  0.692222  0.631554  \n",
            "AVNN                 0.697345  0.637753  \n",
            "SDNN                 0.978686  0.969196  \n",
            "RMSSD                1.000000  0.945565  \n",
            "TP                   0.945565  1.000000  \n"
          ]
        },
        {
          "output_type": "execute_result",
          "data": {
            "text/plain": [
              "Text(0.5, 1.0, 'Correlation between different attributes')"
            ]
          },
          "metadata": {},
          "execution_count": 276
        },
        {
          "output_type": "display_data",
          "data": {
            "text/plain": [
              "<Figure size 576x360 with 2 Axes>"
            ],
            "image/png": "[encoded data removed]"
          },
          "metadata": {
            "needs_background": "light"
          }
        }
      ]
    },
    {
      "cell_type": "code",
      "source": [
        "data_corr, data_heatmap = correlationMatrix(data_norm)\n",
        "print(data_corr)\n",
        "\n",
        "plt.title('Correlation between different attributes')"
      ],
      "metadata": {
        "colab": {
          "base_uri": "https://localhost:8080/",
          "height": 1000
        },
        "id": "ggfmEsflUrP8",
        "outputId": "5eddc760-b3fe-4ade-83b4-0ed186cce169"
      },
      "execution_count": null,
      "outputs": [
        {
          "output_type": "stream",
          "name": "stdout",
          "text": [
            "                           HR  interval in seconds      NNRR      AVNN  \\\n",
            "HR                   1.000000            -0.505839  0.493202 -0.502009   \n",
            "interval in seconds -0.505839             1.000000 -0.977078  0.994034   \n",
            "NNRR                 0.493202            -0.977078  1.000000 -0.969702   \n",
            "AVNN                -0.502009             0.994034 -0.969702  1.000000   \n",
            "SDNN                -0.294554             0.704122 -0.677959  0.704314   \n",
            "RMSSD               -0.295441             0.705712 -0.682403  0.706244   \n",
            "pNN50               -0.124209             0.179930 -0.182046  0.175564   \n",
            "ULF                 -0.232543             0.638794 -0.605441  0.642930   \n",
            "VLF                 -0.107727             0.103030 -0.107548  0.102880   \n",
            "LF                   0.076125            -0.128667  0.131007 -0.129861   \n",
            "HF                   0.078408            -0.123434  0.124969 -0.124519   \n",
            "\n",
            "                         SDNN     RMSSD     pNN50       ULF       VLF  \\\n",
            "HR                  -0.294554 -0.295441 -0.124209 -0.232543 -0.107727   \n",
            "interval in seconds  0.704122  0.705712  0.179930  0.638794  0.103030   \n",
            "NNRR                -0.677959 -0.682403 -0.182046 -0.605441 -0.107548   \n",
            "AVNN                 0.704314  0.706244  0.175564  0.642930  0.102880   \n",
            "SDNN                 1.000000  0.961757  0.212297  0.953956  0.107580   \n",
            "RMSSD                0.961757  1.000000  0.293969  0.934611  0.103317   \n",
            "pNN50                0.212297  0.293969  1.000000  0.119158  0.042640   \n",
            "ULF                  0.953956  0.934611  0.119158  1.000000 -0.000943   \n",
            "VLF                  0.107580  0.103317  0.042640 -0.000943  1.000000   \n",
            "LF                  -0.116063 -0.114382  0.034837 -0.115727 -0.014209   \n",
            "HF                  -0.113769 -0.104417  0.067359 -0.112248 -0.013545   \n",
            "\n",
            "                           LF        HF  \n",
            "HR                   0.076125  0.078408  \n",
            "interval in seconds -0.128667 -0.123434  \n",
            "NNRR                 0.131007  0.124969  \n",
            "AVNN                -0.129861 -0.124519  \n",
            "SDNN                -0.116063 -0.113769  \n",
            "RMSSD               -0.114382 -0.104417  \n",
            "pNN50                0.034837  0.067359  \n",
            "ULF                 -0.115727 -0.112248  \n",
            "VLF                 -0.014209 -0.013545  \n",
            "LF                   1.000000  0.856257  \n",
            "HF                   0.856257  1.000000  \n"
          ]
        },
        {
          "output_type": "execute_result",
          "data": {
            "text/plain": [
              "Text(0.5, 1.0, 'Correlation between different attributes')"
            ]
          },
          "metadata": {},
          "execution_count": 160
        },
        {
          "output_type": "display_data",
          "data": {
            "text/plain": [
              "<Figure size 576x360 with 2 Axes>"
            ],
            "image/png": "[encoded data removed]"
          },
          "metadata": {
            "needs_background": "light"
          }
        }
      ]
    },
    {
      "cell_type": "code",
      "source": [
        "data_corr"
      ],
      "metadata": {
        "colab": {
          "base_uri": "https://localhost:8080/",
          "height": 473
        },
        "id": "aq_IXvAeU864",
        "outputId": "075daad7-6c2a-4b08-9ab5-5c8b2c7eeda6"
      },
      "execution_count": null,
      "outputs": [
        {
          "output_type": "execute_result",
          "data": {
            "text/plain": [
              "                           HR  interval in seconds      NNRR      AVNN  \\\n",
              "HR                   1.000000            -0.505839  0.493202 -0.502009   \n",
              "interval in seconds -0.505839             1.000000 -0.977078  0.994034   \n",
              "NNRR                 0.493202            -0.977078  1.000000 -0.969702   \n",
              "AVNN                -0.502009             0.994034 -0.969702  1.000000   \n",
              "SDNN                -0.294554             0.704122 -0.677959  0.704314   \n",
              "RMSSD               -0.295441             0.705712 -0.682403  0.706244   \n",
              "pNN50               -0.124209             0.179930 -0.182046  0.175564   \n",
              "ULF                 -0.232543             0.638794 -0.605441  0.642930   \n",
              "VLF                 -0.107727             0.103030 -0.107548  0.102880   \n",
              "LF                   0.076125            -0.128667  0.131007 -0.129861   \n",
              "HF                   0.078408            -0.123434  0.124969 -0.124519   \n",
              "\n",
              "                         SDNN     RMSSD     pNN50       ULF       VLF  \\\n",
              "HR                  -0.294554 -0.295441 -0.124209 -0.232543 -0.107727   \n",
              "interval in seconds  0.704122  0.705712  0.179930  0.638794  0.103030   \n",
              "NNRR                -0.677959 -0.682403 -0.182046 -0.605441 -0.107548   \n",
              "AVNN                 0.704314  0.706244  0.175564  0.642930  0.102880   \n",
              "SDNN                 1.000000  0.961757  0.212297  0.953956  0.107580   \n",
              "RMSSD                0.961757  1.000000  0.293969  0.934611  0.103317   \n",
              "pNN50                0.212297  0.293969  1.000000  0.119158  0.042640   \n",
              "ULF                  0.953956  0.934611  0.119158  1.000000 -0.000943   \n",
              "VLF                  0.107580  0.103317  0.042640 -0.000943  1.000000   \n",
              "LF                  -0.116063 -0.114382  0.034837 -0.115727 -0.014209   \n",
              "HF                  -0.113769 -0.104417  0.067359 -0.112248 -0.013545   \n",
              "\n",
              "                           LF        HF  \n",
              "HR                   0.076125  0.078408  \n",
              "interval in seconds -0.128667 -0.123434  \n",
              "NNRR                 0.131007  0.124969  \n",
              "AVNN                -0.129861 -0.124519  \n",
              "SDNN                -0.116063 -0.113769  \n",
              "RMSSD               -0.114382 -0.104417  \n",
              "pNN50                0.034837  0.067359  \n",
              "ULF                 -0.115727 -0.112248  \n",
              "VLF                 -0.014209 -0.013545  \n",
              "LF                   1.000000  0.856257  \n",
              "HF                   0.856257  1.000000  "
            ],
            "text/html": [
              "\n",
              "  <div id=\"df-5cc74530-e4af-4054-96d8-2cd4334a5897\">\n",
              "    <div class=\"colab-df-container\">\n",
              "      <div>\n",
              "<style scoped>\n",
              "    .dataframe tbody tr th:only-of-type {\n",
              "        vertical-align: middle;\n",
              "    }\n",
              "\n",
              "    .dataframe tbody tr th {\n",
              "        vertical-align: top;\n",
              "    }\n",
              "\n",
              "    .dataframe thead th {\n",
              "        text-align: right;\n",
              "    }\n",
              "</style>\n",
              "<table border=\"1\" class=\"dataframe\">\n",
              "  <thead>\n",
              "    <tr style=\"text-align: right;\">\n",
              "      <th></th>\n",
              "      <th>HR</th>\n",
              "      <th>interval in seconds</th>\n",
              "      <th>NNRR</th>\n",
              "      <th>AVNN</th>\n",
              "      <th>SDNN</th>\n",
              "      <th>RMSSD</th>\n",
              "      <th>pNN50</th>\n",
              "      <th>ULF</th>\n",
              "      <th>VLF</th>\n",
              "      <th>LF</th>\n",
              "      <th>HF</th>\n",
              "    </tr>\n",
              "  </thead>\n",
              "  <tbody>\n",
              "    <tr>\n",
              "      <th>HR</th>\n",
              "      <td>1.000000</td>\n",
              "      <td>-0.505839</td>\n",
              "      <td>0.493202</td>\n",
              "      <td>-0.502009</td>\n",
              "      <td>-0.294554</td>\n",
              "      <td>-0.295441</td>\n",
              "      <td>-0.124209</td>\n",
              "      <td>-0.232543</td>\n",
              "      <td>-0.107727</td>\n",
              "      <td>0.076125</td>\n",
              "      <td>0.078408</td>\n",
              "    </tr>\n",
              "    <tr>\n",
              "      <th>interval in seconds</th>\n",
              "      <td>-0.505839</td>\n",
              "      <td>1.000000</td>\n",
              "      <td>-0.977078</td>\n",
              "      <td>0.994034</td>\n",
              "      <td>0.704122</td>\n",
              "      <td>0.705712</td>\n",
              "      <td>0.179930</td>\n",
              "      <td>0.638794</td>\n",
              "      <td>0.103030</td>\n",
              "      <td>-0.128667</td>\n",
              "      <td>-0.123434</td>\n",
              "    </tr>\n",
              "    <tr>\n",
              "      <th>NNRR</th>\n",
              "      <td>0.493202</td>\n",
              "      <td>-0.977078</td>\n",
              "      <td>1.000000</td>\n",
              "      <td>-0.969702</td>\n",
              "      <td>-0.677959</td>\n",
              "      <td>-0.682403</td>\n",
              "      <td>-0.182046</td>\n",
              "      <td>-0.605441</td>\n",
              "      <td>-0.107548</td>\n",
              "      <td>0.131007</td>\n",
              "      <td>0.124969</td>\n",
              "    </tr>\n",
              "    <tr>\n",
              "      <th>AVNN</th>\n",
              "      <td>-0.502009</td>\n",
              "      <td>0.994034</td>\n",
              "      <td>-0.969702</td>\n",
              "      <td>1.000000</td>\n",
              "      <td>0.704314</td>\n",
              "      <td>0.706244</td>\n",
              "      <td>0.175564</td>\n",
              "      <td>0.642930</td>\n",
              "      <td>0.102880</td>\n",
              "      <td>-0.129861</td>\n",
              "      <td>-0.124519</td>\n",
              "    </tr>\n",
              "    <tr>\n",
              "      <th>SDNN</th>\n",
              "      <td>-0.294554</td>\n",
              "      <td>0.704122</td>\n",
              "      <td>-0.677959</td>\n",
              "      <td>0.704314</td>\n",
              "      <td>1.000000</td>\n",
              "      <td>0.961757</td>\n",
              "      <td>0.212297</td>\n",
              "      <td>0.953956</td>\n",
              "      <td>0.107580</td>\n",
              "      <td>-0.116063</td>\n",
              "      <td>-0.113769</td>\n",
              "    </tr>\n",
              "    <tr>\n",
              "      <th>RMSSD</th>\n",
              "      <td>-0.295441</td>\n",
              "      <td>0.705712</td>\n",
              "      <td>-0.682403</td>\n",
              "      <td>0.706244</td>\n",
              "      <td>0.961757</td>\n",
              "      <td>1.000000</td>\n",
              "      <td>0.293969</td>\n",
              "      <td>0.934611</td>\n",
              "      <td>0.103317</td>\n",
              "      <td>-0.114382</td>\n",
              "      <td>-0.104417</td>\n",
              "    </tr>\n",
              "    <tr>\n",
              "      <th>pNN50</th>\n",
              "      <td>-0.124209</td>\n",
              "      <td>0.179930</td>\n",
              "      <td>-0.182046</td>\n",
              "      <td>0.175564</td>\n",
              "      <td>0.212297</td>\n",
              "      <td>0.293969</td>\n",
              "      <td>1.000000</td>\n",
              "      <td>0.119158</td>\n",
              "      <td>0.042640</td>\n",
              "      <td>0.034837</td>\n",
              "      <td>0.067359</td>\n",
              "    </tr>\n",
              "    <tr>\n",
              "      <th>ULF</th>\n",
              "      <td>-0.232543</td>\n",
              "      <td>0.638794</td>\n",
              "      <td>-0.605441</td>\n",
              "      <td>0.642930</td>\n",
              "      <td>0.953956</td>\n",
              "      <td>0.934611</td>\n",
              "      <td>0.119158</td>\n",
              "      <td>1.000000</td>\n",
              "      <td>-0.000943</td>\n",
              "      <td>-0.115727</td>\n",
              "      <td>-0.112248</td>\n",
              "    </tr>\n",
              "    <tr>\n",
              "      <th>VLF</th>\n",
              "      <td>-0.107727</td>\n",
              "      <td>0.103030</td>\n",
              "      <td>-0.107548</td>\n",
              "      <td>0.102880</td>\n",
              "      <td>0.107580</td>\n",
              "      <td>0.103317</td>\n",
              "      <td>0.042640</td>\n",
              "      <td>-0.000943</td>\n",
              "      <td>1.000000</td>\n",
              "      <td>-0.014209</td>\n",
              "      <td>-0.013545</td>\n",
              "    </tr>\n",
              "    <tr>\n",
              "      <th>LF</th>\n",
              "      <td>0.076125</td>\n",
              "      <td>-0.128667</td>\n",
              "      <td>0.131007</td>\n",
              "      <td>-0.129861</td>\n",
              "      <td>-0.116063</td>\n",
              "      <td>-0.114382</td>\n",
              "      <td>0.034837</td>\n",
              "      <td>-0.115727</td>\n",
              "      <td>-0.014209</td>\n",
              "      <td>1.000000</td>\n",
              "      <td>0.856257</td>\n",
              "    </tr>\n",
              "    <tr>\n",
              "      <th>HF</th>\n",
              "      <td>0.078408</td>\n",
              "      <td>-0.123434</td>\n",
              "      <td>0.124969</td>\n",
              "      <td>-0.124519</td>\n",
              "      <td>-0.113769</td>\n",
              "      <td>-0.104417</td>\n",
              "      <td>0.067359</td>\n",
              "      <td>-0.112248</td>\n",
              "      <td>-0.013545</td>\n",
              "      <td>0.856257</td>\n",
              "      <td>1.000000</td>\n",
              "    </tr>\n",
              "  </tbody>\n",
              "</table>\n",
              "</div>\n",
              "      <button class=\"colab-df-convert\" onclick=\"convertToInteractive('df-5cc74530-e4af-4054-96d8-2cd4334a5897')\"\n",
              "              title=\"Convert this dataframe to an interactive table.\"\n",
              "              style=\"display:none;\">\n",
              "        \n",
              "  <svg xmlns=\"http://www.w3.org/2000/svg\" height=\"24px\"viewBox=\"0 0 24 24\"\n",
              "       width=\"24px\">\n",
              "    <path d=\"M0 0h24v24H0V0z\" fill=\"none\"/>\n",
              "    <path d=\"M18.56 5.44l.94 2.06.94-2.06 2.06-.94-2.06-.94-.94-2.06-.94 2.06-2.06.94zm-11 1L8.5 8.5l.94-2.06 2.06-.94-2.06-.94L8.5 2.5l-.94 2.06-2.06.94zm10 10l.94 2.06.94-2.06 2.06-.94-2.06-.94-.94-2.06-.94 2.06-2.06.94z\"/><path d=\"M17.41 7.96l-1.37-1.37c-.4-.4-.92-.59-1.43-.59-.52 0-1.04.2-1.43.59L10.3 9.45l-7.72 7.72c-.78.78-.78 2.05 0 2.83L4 21.41c.39.39.9.59 1.41.59.51 0 1.02-.2 1.41-.59l7.78-7.78 2.81-2.81c.8-.78.8-2.07 0-2.86zM5.41 20L4 18.59l7.72-7.72 1.47 1.35L5.41 20z\"/>\n",
              "  </svg>\n",
              "      </button>\n",
              "      \n",
              "  <style>\n",
              "    .colab-df-container {\n",
              "      display:flex;\n",
              "      flex-wrap:wrap;\n",
              "      gap: 12px;\n",
              "    }\n",
              "\n",
              "    .colab-df-convert {\n",
              "      background-color: #E8F0FE;\n",
              "      border: none;\n",
              "      border-radius: 50%;\n",
              "      cursor: pointer;\n",
              "      display: none;\n",
              "      fill: #1967D2;\n",
              "      height: 32px;\n",
              "      padding: 0 0 0 0;\n",
              "      width: 32px;\n",
              "    }\n",
              "\n",
              "    .colab-df-convert:hover {\n",
              "      background-color: #E2EBFA;\n",
              "      box-shadow: 0px 1px 2px rgba(60, 64, 67, 0.3), 0px 1px 3px 1px rgba(60, 64, 67, 0.15);\n",
              "      fill: #174EA6;\n",
              "    }\n",
              "\n",
              "    [theme=dark] .colab-df-convert {\n",
              "      background-color: #3B4455;\n",
              "      fill: #D2E3FC;\n",
              "    }\n",
              "\n",
              "    [theme=dark] .colab-df-convert:hover {\n",
              "      background-color: #434B5C;\n",
              "      box-shadow: 0px 1px 3px 1px rgba(0, 0, 0, 0.15);\n",
              "      filter: drop-shadow(0px 1px 2px rgba(0, 0, 0, 0.3));\n",
              "      fill: #FFFFFF;\n",
              "    }\n",
              "  </style>\n",
              "\n",
              "      <script>\n",
              "        const buttonEl =\n",
              "          document.querySelector('#df-5cc74530-e4af-4054-96d8-2cd4334a5897 button.colab-df-convert');\n",
              "        buttonEl.style.display =\n",
              "          google.colab.kernel.accessAllowed ? 'block' : 'none';\n",
              "\n",
              "        async function convertToInteractive(key) {\n",
              "          const element = document.querySelector('#df-5cc74530-e4af-4054-96d8-2cd4334a5897');\n",
              "          const dataTable =\n",
              "            await google.colab.kernel.invokeFunction('convertToInteractive',\n",
              "                                                     [key], {});\n",
              "          if (!dataTable) return;\n",
              "\n",
              "          const docLinkHtml = 'Like what you see? Visit the ' +\n",
              "            '<a target=\"_blank\" href=https://colab.research.google.com/notebooks/data_table.ipynb>data table notebook</a>'\n",
              "            + ' to learn more about interactive tables.';\n",
              "          element.innerHTML = '';\n",
              "          dataTable['output_type'] = 'display_data';\n",
              "          await google.colab.output.renderOutput(dataTable, element);\n",
              "          const docLink = document.createElement('div');\n",
              "          docLink.innerHTML = docLinkHtml;\n",
              "          element.appendChild(docLink);\n",
              "        }\n",
              "      </script>\n",
              "    </div>\n",
              "  </div>\n",
              "  "
            ]
          },
          "metadata": {},
          "execution_count": 161
        }
      ]
    },
    {
      "cell_type": "markdown",
      "source": [
        "# Part 2 - Model training and testing"
      ],
      "metadata": {
        "id": "09lUBNIAgf7e"
      }
    },
    {
      "cell_type": "code",
      "source": [
        "dfy = dfy.astype(int)"
      ],
      "metadata": {
        "id": "d0LBP-gFM4Jl"
      },
      "execution_count": null,
      "outputs": []
    },
    {
      "cell_type": "code",
      "source": [
        "dfy_2 = dfy_2.astype(int)"
      ],
      "metadata": {
        "id": "Bf91Dq3GM8At"
      },
      "execution_count": 278,
      "outputs": []
    },
    {
      "cell_type": "code",
      "source": [
        "dfy_2.count()"
      ],
      "metadata": {
        "colab": {
          "base_uri": "https://localhost:8080/"
        },
        "id": "KxCdIauBM-jm",
        "outputId": "679fb3ac-af4a-4ad6-9ad3-63582626c8ed"
      },
      "execution_count": 314,
      "outputs": [
        {
          "output_type": "execute_result",
          "data": {
            "text/plain": [
              "2893"
            ]
          },
          "metadata": {},
          "execution_count": 314
        }
      ]
    },
    {
      "cell_type": "code",
      "source": [
        "X_3 = data_norm_3"
      ],
      "metadata": {
        "id": "VjOE93h4SQEg"
      },
      "execution_count": 311,
      "outputs": []
    },
    {
      "cell_type": "code",
      "source": [
        "y_3 = dfy_2"
      ],
      "metadata": {
        "id": "iX1U_d2OSmr6"
      },
      "execution_count": 315,
      "outputs": []
    },
    {
      "cell_type": "code",
      "source": [
        "y_3 = dfy_2"
      ],
      "metadata": {
        "id": "J75d-E1iSVcy"
      },
      "execution_count": 312,
      "outputs": []
    },
    {
      "cell_type": "code",
      "source": [
        "print(\"*****Splitting data into Features and Target*****\")\n",
        "print(\"Number of Features :\", X_3.shape)\n",
        "print(\"Target shape :\", y_3.shape)\n",
        "\n",
        "print(\"\\n*****Splitting data into Train and Validation*****\")\n",
        "\n",
        "X_train_3, X_val_3, y_train_3, y_val_3 = train_test_split(X_3, y_3, test_size = 0.2,random_state=42)\n",
        "\n",
        "print(\"X_train :\", X_train_2.shape)\n",
        "print(\"y_train : \",y_train_2.shape)\n",
        "print(\"X_val :\", X_val_2.shape)\n",
        "print(\"y_val :\", y_val_2.shape)"
      ],
      "metadata": {
        "colab": {
          "base_uri": "https://localhost:8080/"
        },
        "id": "-5eBcqikSXEK",
        "outputId": "9193643e-1c0f-46a1-8ec1-cf369030924a"
      },
      "execution_count": 316,
      "outputs": [
        {
          "output_type": "stream",
          "name": "stdout",
          "text": [
            "*****Splitting data into Features and Target*****\n",
            "Number of Features : (2893, 6)\n",
            "Target shape : (2893,)\n",
            "\n",
            "*****Splitting data into Train and Validation*****\n",
            "X_train : (2314, 6)\n",
            "y_train :  (2314,)\n",
            "X_val : (579, 6)\n",
            "y_val : (579,)\n"
          ]
        }
      ]
    },
    {
      "cell_type": "code",
      "source": [
        "# Splitting the dataset into train, val and test sets.\n",
        "# 2.0\n",
        "X_2 = data_norm_2\n",
        "y_2 = dfy_2\n",
        "print(\"*****Splitting data into Features and Target*****\")\n",
        "print(\"Number of Features :\", X.shape)\n",
        "print(\"Target shape :\", y.shape)\n",
        "\n",
        "print(\"\\n*****Splitting data into Train and Validation*****\")\n",
        "\n",
        "X_train_2, X_val_2, y_train_2, y_val_2 = train_test_split(X_2, y_2, test_size = 0.2,random_state=42)\n",
        "\n",
        "print(\"X_train :\", X_train_2.shape)\n",
        "print(\"y_train : \",y_train_2.shape)\n",
        "print(\"X_val :\", X_val_2.shape)\n",
        "print(\"y_val :\", y_val_2.shape)\n",
        "\n"
      ],
      "metadata": {
        "id": "1Nk576OvahOi",
        "colab": {
          "base_uri": "https://localhost:8080/"
        },
        "outputId": "03f69b39-2551-47b9-b2cd-5ae9b536aa9a"
      },
      "execution_count": 280,
      "outputs": [
        {
          "output_type": "stream",
          "name": "stdout",
          "text": [
            "*****Splitting data into Features and Target*****\n",
            "Number of Features : (2989, 11)\n",
            "Target shape : (2989,)\n",
            "\n",
            "*****Splitting data into Train and Validation*****\n",
            "X_train : (2314, 6)\n",
            "y_train :  (2314,)\n",
            "X_val : (579, 6)\n",
            "y_val : (579,)\n"
          ]
        }
      ]
    },
    {
      "cell_type": "code",
      "source": [
        "y_3 = dfy_train_transformed\n",
        "X_3 = df_train_nostress_transformed"
      ],
      "metadata": {
        "id": "OJbrmWOMMqPg"
      },
      "execution_count": 300,
      "outputs": []
    },
    {
      "cell_type": "code",
      "source": [
        "print(\"*****Splitting data into Features and Target*****\")\n",
        "print(\"Number of Features :\", X_3.shape)\n",
        "print(\"Target shape :\", y_3.shape)\n"
      ],
      "metadata": {
        "colab": {
          "base_uri": "https://localhost:8080/"
        },
        "id": "A_pqH31vQApM",
        "outputId": "c6d27279-2798-4317-d553-76eaafde6d23"
      },
      "execution_count": 302,
      "outputs": [
        {
          "output_type": "stream",
          "name": "stdout",
          "text": [
            "*****Splitting data into Features and Target*****\n",
            "Number of Features : (2989, 11)\n",
            "Target shape : (2989, 1)\n"
          ]
        }
      ]
    },
    {
      "cell_type": "code",
      "source": [
        "# Splitting the dataset into train, val and test sets.\n",
        "# 2.0\n",
        "X = data_norm\n",
        "y = dfy\n",
        "print(\"*****Splitting data into Features and Target*****\")\n",
        "print(\"Number of Features :\", X.shape)\n",
        "print(\"Target shape :\", y.shape)\n",
        "\n",
        "print(\"\\n*****Splitting data into Train and Validation*****\")\n",
        "\n",
        "X_train, X_val, y_train, y_val = train_test_split(X, y, test_size = 0.2,random_state=42)\n",
        "\n",
        "print(\"X_train :\", X_train.shape)\n",
        "print(\"y_train : \",y_train.shape)\n",
        "print(\"X_val :\", X_val.shape)\n",
        "print(\"y_val :\", y_val.shape)\n"
      ],
      "metadata": {
        "colab": {
          "base_uri": "https://localhost:8080/"
        },
        "id": "NEPYtd3dV2a6",
        "outputId": "23611f46-233e-470d-af04-1f7961315f59"
      },
      "execution_count": null,
      "outputs": [
        {
          "output_type": "stream",
          "name": "stdout",
          "text": [
            "*****Splitting data into Features and Target*****\n",
            "Number of Features : (2989, 11)\n",
            "Target shape : (2989,)\n",
            "\n",
            "*****Splitting data into Train and Validation*****\n",
            "X_train : (2391, 11)\n",
            "y_train :  (2391,)\n",
            "X_val : (598, 11)\n",
            "y_val : (598,)\n"
          ]
        }
      ]
    },
    {
      "cell_type": "markdown",
      "source": [
        "Machine Learning models"
      ],
      "metadata": {
        "id": "SDLShh14W14_"
      }
    },
    {
      "cell_type": "markdown",
      "source": [
        "# Linear Regression"
      ],
      "metadata": {
        "id": "JBpPXiUGW-iv"
      }
    },
    {
      "cell_type": "code",
      "source": [
        "from sklearn.linear_model import LinearRegression\n",
        "import sklearn.metrics as metrics\n",
        "\n",
        "\n",
        "model_linear = LinearRegression()\n",
        "\n",
        "model_linear.fit(X_train,y_train)\n",
        "y_pred_train = model_linear.predict(X_train)\n",
        "y_pred_val = model_linear.predict(X_val)\n",
        "\n",
        "# calculating the accuracies\n",
        "print(\"Training Accuracy :\",model_linear.score(X_train,y_train)*100)\n",
        "print(\"Validation Accuracy :\",model_linear.score(X_val,y_val)*100)\n"
      ],
      "metadata": {
        "colab": {
          "base_uri": "https://localhost:8080/"
        },
        "id": "i0WZ_2uxWteW",
        "outputId": "352baff9-97d6-4770-cbbc-b5e3c70cec43"
      },
      "execution_count": null,
      "outputs": [
        {
          "output_type": "stream",
          "name": "stdout",
          "text": [
            "Training Accuracy : 11.970359020115662\n",
            "Validation Accuracy : 10.172813462131147\n"
          ]
        }
      ]
    },
    {
      "cell_type": "code",
      "source": [
        "rms_train = metrics.mean_squared_error(y_train, y_pred_train, squared=False)\n",
        "print(\"Training RMSE :\", rms_train)\n",
        "\n",
        "rms_val= metrics.mean_squared_error(y_val, y_pred_val, squared=False)\n",
        "print(\"Validation RMSE :\", rms_val)\n"
      ],
      "metadata": {
        "colab": {
          "base_uri": "https://localhost:8080/"
        },
        "id": "IXY2n1dqW5ve",
        "outputId": "19ef6a3a-20b5-41be-ca4d-7ff33f31ea9d"
      },
      "execution_count": null,
      "outputs": [
        {
          "output_type": "stream",
          "name": "stdout",
          "text": [
            "Training RMSE : 0.675289314700885\n",
            "Validation RMSE : 0.6810677347247899\n"
          ]
        }
      ]
    },
    {
      "cell_type": "markdown",
      "source": [
        "# Logistic Regression"
      ],
      "metadata": {
        "id": "JSUerpfoXBwv"
      }
    },
    {
      "cell_type": "code",
      "source": [
        "# 2.1\n",
        "import \n",
        "def LogisticRegression():\n",
        "  # You can use the LR sci-kit learn solver but capture any other hyper-parameter settings\n",
        "  # or model settings in this method\n",
        "  model_lgr = LogisticRegression()\n",
        "  log_preds = model_lgr.fit(X_train,y_train)\n",
        "  return log_preds"
      ],
      "metadata": {
        "id": "kTHv-127Zz4V"
      },
      "execution_count": null,
      "outputs": []
    },
    {
      "cell_type": "code",
      "source": [
        "model_lgr = LogisticRegression()"
      ],
      "metadata": {
        "id": "hb_KstquaQ9U"
      },
      "execution_count": null,
      "outputs": []
    },
    {
      "cell_type": "code",
      "source": [
        "# For small datasets, ‘liblinear’ is a good choice, \n",
        "# whereas ‘sag’ and ‘saga’ are faster for large ones;\n",
        "# ‘liblinear’ is limited to one-versus-rest schemes.\n",
        "model_lgr.fit(X_train,y_train)\n",
        "print(\"Logistic Regression Model coeff and intercept:\\n\", model_lgr.coef_, model_lgr.intercept_)"
      ],
      "metadata": {
        "id": "CxynCYSWZ3Ne"
      },
      "execution_count": null,
      "outputs": []
    },
    {
      "cell_type": "code",
      "source": [
        "model_lgr = LogisticRegression()"
      ],
      "metadata": {
        "id": "cEipOVnIXmoX"
      },
      "execution_count": null,
      "outputs": []
    },
    {
      "cell_type": "code",
      "source": [
        "log_preds = model_lgr.fit(X_train,y_train)"
      ],
      "metadata": {
        "id": "T638XXixZ9nS"
      },
      "execution_count": null,
      "outputs": []
    },
    {
      "cell_type": "code",
      "source": [
        "print(log_preds)"
      ],
      "metadata": {
        "id": "7brRq_7IaAXV"
      },
      "execution_count": null,
      "outputs": []
    },
    {
      "cell_type": "code",
      "source": [
        "def LogisticRegression(solver):\n",
        "  # You can use the LR sci-kit learn solver but capture any other hyper-parameter settings\n",
        "  # or model settings in this method\n",
        "  model_lgr = LogisticRegression(solver= 'liblinear')\n",
        "  log_preds = model_lgr.fit(X_train,y_train)\n",
        "  return log_preds"
      ],
      "metadata": {
        "id": "MJzR7GoHXHOv"
      },
      "execution_count": null,
      "outputs": []
    },
    {
      "cell_type": "code",
      "source": [
        "model_lgr = LogisticRegression()\n",
        "# For small datasets, ‘liblinear’ is a good choice, \n",
        "# whereas ‘sag’ and ‘saga’ are faster for large ones;\n",
        "# ‘liblinear’ is limited to one-versus-rest schemes.\n",
        "model_lgr.fit(X_train,y_train)\n",
        "print(\"Logistic Regression Model coeff and intercept:\\n\", model_lgr.coef_, model_lgr.intercept_)"
      ],
      "metadata": {
        "id": "SzNFoD30AocU"
      },
      "execution_count": null,
      "outputs": []
    },
    {
      "cell_type": "code",
      "source": [
        "y_pred = model_lgr.predict(X_val)\n",
        "y_pred"
      ],
      "metadata": {
        "colab": {
          "base_uri": "https://localhost:8080/"
        },
        "id": "WZuLwhHkBC0X",
        "outputId": "d5fa5c73-feca-418d-8874-1fbf65528b7a"
      },
      "execution_count": null,
      "outputs": [
        {
          "output_type": "execute_result",
          "data": {
            "text/plain": [
              "array([0., 0., 0., 0., 1., 1., 0., 1., 1., 0., 1., 1., 1., 0., 1., 0., 0.,\n",
              "       0., 1., 0., 1., 0., 0., 1., 1., 0., 0., 0., 0., 0., 0., 1., 1., 1.,\n",
              "       1., 1., 1., 1., 1., 1., 1., 0., 0., 1., 0., 1., 1., 1., 0., 1., 1.,\n",
              "       0., 0., 1., 0., 0., 1., 0.])"
            ]
          },
          "metadata": {},
          "execution_count": 298
        }
      ]
    },
    {
      "cell_type": "code",
      "source": [
        "model_score_lgr = model_lgr.score(X_val,y_val)\n",
        "print(\"Logistic Regression model score is {}\". format(model_score_lgr))"
      ],
      "metadata": {
        "colab": {
          "base_uri": "https://localhost:8080/"
        },
        "id": "mwxRorBYBXO2",
        "outputId": "dbd812b0-47aa-49c7-df7b-f1d3c67324f2"
      },
      "execution_count": null,
      "outputs": [
        {
          "output_type": "stream",
          "name": "stdout",
          "text": [
            "Logistic Regression model score is 0.8448275862068966\n"
          ]
        }
      ]
    },
    {
      "cell_type": "code",
      "source": [
        "from sklearn.metrics import confusion_matrix\n",
        "\n",
        "conf_matrix_lgr = confusion_matrix(y_val, y_pred, labels=[1,0])\n",
        "\n",
        "df_cm = pd.DataFrame(conf_matrix_lgr, index= [i for i in ['1','0']], \n",
        "                     columns = [i for i in ['Predict 1','Predict 0']])\n",
        "plt.figure(figsize = (7,5))\n",
        "sns.heatmap(df_cm,annot=True, cmap='YlGnBu')\n",
        "plt.title(\"Confusion Matrix for Logistic Regression\")"
      ],
      "metadata": {
        "id": "z43KDWVBAoXY"
      },
      "execution_count": null,
      "outputs": []
    },
    {
      "cell_type": "code",
      "source": [
        "from sklearn.metrics import precision_score,recall_score,f1_score\n",
        "\n",
        "print(\"Comprehensive Classfication Report of Logistic Model on overall Dataset\\n\")\n",
        "lgr_metrics = metrics.classification_report(y_val,y_pred,labels=[1,0])\n",
        "print(lgr_metrics)"
      ],
      "metadata": {
        "id": "wNLbBm8UDDb1"
      },
      "execution_count": null,
      "outputs": []
    },
    {
      "cell_type": "code",
      "source": [
        "#The top ten features are\n",
        "model_params_lgr = model_lgr.coef_ \n",
        "print(model_params_lgr)\n",
        "inc_arg_sort_lgr = np.argsort(model_params_lgr)\n",
        "dec_arg_sort_lgr = inc_arg_sort_lgr[:]\n",
        "print(dec_arg_sort_lgr)\n",
        "top_features_lgr = data_norm.columns[dec_arg_sort_lgr[:]]\n",
        "print(\" Top features from Logistic Regression Model are:\\n \",\n",
        "      top_features_lgr)"
      ],
      "metadata": {
        "id": "iGGTxl0mcdYC"
      },
      "execution_count": null,
      "outputs": []
    },
    {
      "cell_type": "code",
      "source": [
        "#The top ten features are after we take absolute value\n",
        "model_params_lgr = model_lgr.coef_ \n",
        "abscoeff = abs(model_params_lgr )\n",
        "print(abscoeff)\n",
        "inc_arg_sort_lgr = np.argsort(abscoeff)\n",
        "print(inc_arg_sort_lgr)\n",
        "top_features_lgr = data_norm.columns[inc_arg_sort_lgr[:]]\n",
        "print(top_features_lgr)"
      ],
      "metadata": {
        "id": "cMfMGx72Z0Y_"
      },
      "execution_count": null,
      "outputs": []
    },
    {
      "cell_type": "code",
      "source": [
        ""
      ],
      "metadata": {
        "id": "7dsHamboXNYP"
      },
      "execution_count": null,
      "outputs": []
    },
    {
      "cell_type": "code",
      "source": [
        "# Create function which calculates F1score, precision, recall and accuracy score for true and predicted labels.\n",
        "def metrics(y_pred, y_true):\n",
        "  pass\n",
        "  # Takes input the predicted and true labels.\n",
        "  # Your code here for precision, recall, F1score, accuracy\n",
        "  # You can call this code to compute metrics for your models"
      ],
      "metadata": {
        "id": "yn2M8HOIhPGi"
      },
      "execution_count": null,
      "outputs": []
    },
    {
      "cell_type": "code",
      "source": [
        ""
      ],
      "metadata": {
        "id": "pAs8fk2kZDPp"
      },
      "execution_count": null,
      "outputs": []
    },
    {
      "cell_type": "code",
      "source": [
        ""
      ],
      "metadata": {
        "id": "2R3Nis60ZFyb"
      },
      "execution_count": null,
      "outputs": []
    },
    {
      "cell_type": "markdown",
      "source": [
        "# SVM "
      ],
      "metadata": {
        "id": "wS3zOZuPfDoX"
      }
    },
    {
      "cell_type": "code",
      "source": [
        "from sklearn.svm import SVC\n",
        "clf_svm = SVC(kernel='linear')\n",
        "\n",
        "clf_svm.fit(X_train, y_train)"
      ],
      "metadata": {
        "id": "CzlW5Ej8cqus",
        "colab": {
          "base_uri": "https://localhost:8080/"
        },
        "outputId": "172a9e3b-62f0-4965-d7ba-81a40b844f23"
      },
      "execution_count": 201,
      "outputs": [
        {
          "output_type": "execute_result",
          "data": {
            "text/plain": [
              "SVC(kernel='linear')"
            ]
          },
          "metadata": {},
          "execution_count": 201
        }
      ]
    },
    {
      "cell_type": "code",
      "source": [
        "clf_svm_2 = SVC(kernel='linear')\n",
        "clf_svm_2.fit(X_train_2, y_train_2)"
      ],
      "metadata": {
        "colab": {
          "base_uri": "https://localhost:8080/"
        },
        "id": "wEs4G4woNX9d",
        "outputId": "e9fab615-18e4-4ef7-cd1d-1e6437f1852e"
      },
      "execution_count": 281,
      "outputs": [
        {
          "output_type": "execute_result",
          "data": {
            "text/plain": [
              "SVC(kernel='linear')"
            ]
          },
          "metadata": {},
          "execution_count": 281
        }
      ]
    },
    {
      "cell_type": "code",
      "source": [
        "svm_score = clf_svm.score(X_val, y_val)"
      ],
      "metadata": {
        "id": "rRT7FTIUeeeQ"
      },
      "execution_count": 202,
      "outputs": []
    },
    {
      "cell_type": "code",
      "source": [
        "svm_score_2 = clf_svm_2.score(X_val_2, y_val_2)"
      ],
      "metadata": {
        "id": "bwRfrpVKNfHP"
      },
      "execution_count": 284,
      "outputs": []
    },
    {
      "cell_type": "code",
      "source": [
        "print(\"Accuracy on Validation data:\", svm_score)"
      ],
      "metadata": {
        "colab": {
          "base_uri": "https://localhost:8080/"
        },
        "id": "4No_8eKQevkQ",
        "outputId": "bdfbf888-439d-40cb-ea1b-e0188206ed5c"
      },
      "execution_count": 203,
      "outputs": [
        {
          "output_type": "stream",
          "name": "stdout",
          "text": [
            "Accuracy on Validation data: 0.4866220735785953\n"
          ]
        }
      ]
    },
    {
      "cell_type": "code",
      "source": [
        "print(\"Accuracy on Validation data:\", svm_score_2)"
      ],
      "metadata": {
        "colab": {
          "base_uri": "https://localhost:8080/"
        },
        "id": "Hq1cmMZlNmgr",
        "outputId": "05045ab1-8a75-44d6-b4e4-3a7ba8753f29"
      },
      "execution_count": 285,
      "outputs": [
        {
          "output_type": "stream",
          "name": "stdout",
          "text": [
            "Accuracy on Validation data: 0.45768566493955093\n"
          ]
        }
      ]
    },
    {
      "cell_type": "code",
      "source": [
        "y_pred = clf_svm.predict(X_val)\n",
        "y_pred"
      ],
      "metadata": {
        "colab": {
          "base_uri": "https://localhost:8080/"
        },
        "id": "UUnwddytfDCm",
        "outputId": "8b6ae1ef-798d-4f58-e8f1-cb12ae440b1f"
      },
      "execution_count": 204,
      "outputs": [
        {
          "output_type": "execute_result",
          "data": {
            "text/plain": [
              "array([1, 1, 1, 1, 1, 1, 1, 1, 1, 1, 1, 1, 1, 1, 1, 2, 2, 1, 1, 1, 1, 1,\n",
              "       1, 1, 1, 1, 1, 1, 1, 1, 1, 1, 1, 1, 1, 1, 1, 1, 1, 1, 1, 1, 1, 1,\n",
              "       1, 1, 1, 1, 1, 1, 1, 1, 1, 1, 1, 1, 1, 1, 1, 1, 1, 1, 1, 1, 1, 1,\n",
              "       1, 1, 1, 1, 1, 1, 1, 1, 1, 1, 1, 1, 1, 1, 1, 1, 1, 1, 2, 1, 1, 1,\n",
              "       1, 1, 1, 1, 1, 1, 1, 1, 1, 1, 1, 1, 1, 1, 1, 1, 1, 1, 1, 1, 1, 1,\n",
              "       1, 1, 1, 1, 1, 1, 1, 1, 1, 1, 1, 1, 1, 1, 1, 1, 1, 1, 1, 1, 1, 1,\n",
              "       1, 1, 1, 1, 1, 1, 1, 1, 1, 1, 1, 1, 1, 1, 1, 1, 1, 1, 1, 1, 1, 1,\n",
              "       1, 1, 1, 1, 1, 1, 1, 1, 1, 1, 1, 1, 1, 1, 1, 1, 2, 1, 1, 1, 1, 1,\n",
              "       1, 1, 1, 1, 1, 1, 1, 1, 1, 1, 1, 1, 1, 1, 1, 1, 1, 1, 1, 1, 1, 1,\n",
              "       2, 2, 1, 1, 1, 1, 1, 1, 1, 1, 1, 1, 1, 1, 1, 1, 1, 1, 1, 1, 1, 1,\n",
              "       1, 1, 1, 1, 1, 1, 1, 1, 1, 1, 1, 1, 1, 1, 1, 1, 1, 1, 1, 1, 1, 1,\n",
              "       1, 1, 1, 1, 1, 1, 1, 1, 1, 1, 1, 1, 1, 1, 1, 1, 1, 1, 1, 1, 1, 1,\n",
              "       1, 1, 1, 1, 1, 1, 1, 1, 1, 1, 1, 1, 1, 1, 1, 1, 1, 1, 1, 1, 1, 1,\n",
              "       1, 2, 1, 1, 1, 1, 1, 1, 1, 1, 1, 1, 1, 1, 1, 1, 1, 1, 1, 1, 1, 1,\n",
              "       1, 1, 1, 1, 1, 1, 1, 1, 1, 1, 1, 1, 1, 1, 1, 1, 1, 1, 1, 1, 1, 1,\n",
              "       1, 1, 1, 1, 1, 1, 2, 1, 1, 1, 1, 1, 1, 1, 1, 1, 1, 1, 1, 1, 1, 1,\n",
              "       1, 1, 1, 1, 1, 1, 2, 1, 1, 1, 1, 1, 1, 1, 1, 1, 1, 1, 1, 1, 1, 1,\n",
              "       1, 1, 1, 1, 1, 1, 1, 1, 1, 1, 1, 1, 1, 1, 1, 1, 1, 1, 1, 1, 1, 1,\n",
              "       1, 1, 1, 1, 1, 1, 1, 1, 1, 1, 1, 1, 1, 1, 1, 1, 1, 1, 1, 1, 1, 1,\n",
              "       1, 1, 1, 2, 1, 1, 1, 1, 1, 1, 1, 1, 1, 1, 1, 1, 1, 1, 1, 1, 1, 1,\n",
              "       1, 1, 2, 1, 1, 1, 1, 1, 1, 1, 1, 1, 1, 1, 1, 1, 1, 1, 1, 1, 1, 1,\n",
              "       1, 1, 1, 1, 1, 1, 1, 1, 1, 1, 1, 1, 1, 1, 1, 1, 1, 1, 1, 1, 1, 1,\n",
              "       1, 1, 1, 1, 1, 1, 1, 1, 1, 1, 1, 1, 1, 1, 1, 1, 1, 1, 1, 1, 1, 1,\n",
              "       1, 1, 1, 1, 1, 1, 1, 1, 1, 1, 1, 1, 1, 1, 1, 1, 1, 1, 1, 1, 1, 1,\n",
              "       1, 1, 1, 1, 1, 1, 1, 1, 1, 1, 1, 1, 1, 1, 1, 1, 1, 1, 1, 1, 1, 1,\n",
              "       1, 1, 1, 1, 1, 1, 1, 1, 1, 1, 1, 2, 1, 1, 1, 1, 1, 1, 1, 1, 1, 1,\n",
              "       1, 1, 1, 1, 1, 1, 1, 1, 0, 1, 1, 1, 1, 1, 1, 1, 1, 1, 1, 1, 1, 1,\n",
              "       1, 1, 1, 1])"
            ]
          },
          "metadata": {},
          "execution_count": 204
        }
      ]
    },
    {
      "cell_type": "code",
      "source": [
        "from sklearn.metrics import confusion_matrix\n",
        "cnf_matrix_svm = confusion_matrix(y_val,y_pred)\n",
        "print(\"Confusion Matrix for upport Vector Machines: \\n\", cnf_matrix_svm)\n",
        "\n",
        "# visualize Confusion matrix\n",
        "class_names=[0,1] # Name  of classes\n",
        "fig, ax = plt.subplots()\n",
        "tick_marks = np.arange(len(class_names))\n",
        "plt.xticks(tick_marks, class_names)\n",
        "plt.yticks(tick_marks, class_names)\n",
        "# create heatmap\n",
        "sns.heatmap(pd.DataFrame(cnf_matrix_svm), annot=True, cmap=\"YlGnBu\" ,fmt='g')\n",
        "ax.xaxis.set_label_position(\"top\")\n",
        "plt.tight_layout()\n",
        "plt.title('Confusion matrix for Support Vector Machines', y=1.1)\n",
        "plt.ylabel('Actual label')\n",
        "plt.xlabel('Predicted label')\n"
      ],
      "metadata": {
        "colab": {
          "base_uri": "https://localhost:8080/",
          "height": 414
        },
        "id": "fqPwK7EghQFu",
        "outputId": "8ebeabd7-484f-40e5-8816-54c5eec24b94"
      },
      "execution_count": 221,
      "outputs": [
        {
          "output_type": "stream",
          "name": "stdout",
          "text": [
            "Confusion Matrix for upport Vector Machines: \n",
            " [[  1 156   3]\n",
            " [  0 285   4]\n",
            " [  0 144   5]]\n"
          ]
        },
        {
          "output_type": "execute_result",
          "data": {
            "text/plain": [
              "Text(0.5, 257.44, 'Predicted label')"
            ]
          },
          "metadata": {},
          "execution_count": 221
        },
        {
          "output_type": "display_data",
          "data": {
            "text/plain": [
              "<Figure size 432x288 with 2 Axes>"
            ],
            "image/png": "[encoded data removed]"
          },
          "metadata": {
            "needs_background": "light"
          }
        }
      ]
    },
    {
      "cell_type": "code",
      "source": [
        "from sklearn.metrics import precision_score,recall_score,f1_score\n",
        "\n",
        "print(\"Comprehensive Classfication Report of Support Vector Machines on overall Dataset\\n\")\n",
        "lgr_metrics = metrics.classification_report(y_val,y_pred,labels=[2,1,0])\n",
        "print(lgr_metrics)"
      ],
      "metadata": {
        "colab": {
          "base_uri": "https://localhost:8080/"
        },
        "id": "MylmduxVfm9M",
        "outputId": "fb625271-447f-4510-c5f8-c0410b16a4f5"
      },
      "execution_count": 222,
      "outputs": [
        {
          "output_type": "stream",
          "name": "stdout",
          "text": [
            "Comprehensive Classfication Report of Support Vector Machines on overall Dataset\n",
            "\n",
            "              precision    recall  f1-score   support\n",
            "\n",
            "           2       0.42      0.03      0.06       149\n",
            "           1       0.49      0.99      0.65       289\n",
            "           0       1.00      0.01      0.01       160\n",
            "\n",
            "    accuracy                           0.49       598\n",
            "   macro avg       0.63      0.34      0.24       598\n",
            "weighted avg       0.61      0.49      0.33       598\n",
            "\n"
          ]
        }
      ]
    },
    {
      "cell_type": "code",
      "source": [
        "#The top ten features are\n",
        "model_params_svm = clf_svm.coef_ \n",
        "print(model_params_svm)\n",
        "inc_arg_sort_svm = np.argsort(model_params_svm)\n",
        "dec_arg_sort_svm = inc_arg_sort_svm[:]\n",
        "print(dec_arg_sort_svm)\n",
        "top_features_svm = data_norm.columns[dec_arg_sort_svm[:]]\n",
        "print(\" \\nTop features from Support Vector Machines Model are:\\n \",\n",
        "      top_features_svm)"
      ],
      "metadata": {
        "colab": {
          "base_uri": "https://localhost:8080/"
        },
        "id": "dbd6smWXfm9M",
        "outputId": "addc2367-cff9-405b-e34d-c0e85ace24e5"
      },
      "execution_count": 223,
      "outputs": [
        {
          "output_type": "stream",
          "name": "stdout",
          "text": [
            "[[-2.05043247e+00  2.90721496e+00  3.28628709e+00  1.85297952e+00\n",
            "   9.64636317e-01 -1.11417960e+00 -1.79449396e-01 -1.07579296e+00\n",
            "  -1.45957027e-01  8.39278562e-01  1.04347495e+00]\n",
            " [-5.73163978e+00  4.74776637e+00  3.27003544e+00  2.99281362e+00\n",
            "   1.86199360e+00 -3.15475673e+00  4.22468655e-01 -2.43589052e+00\n",
            "  -1.14766748e+00 -3.96552056e-01 -5.34081316e-01]\n",
            " [-3.52797235e-04  8.06133832e-02  1.79237545e-04 -8.01943337e-02\n",
            "  -2.60338480e-03  2.93636515e-04  8.41297701e-04  2.36278271e-03\n",
            "   4.01785707e-04 -1.27610835e+00 -2.34615659e+00]]\n",
            "[[ 0  5  7  6  8  9  4 10  3  1  2]\n",
            " [ 0  5  7  8 10  9  6  4  3  2  1]\n",
            " [10  9  3  4  0  2  5  8  6  7  1]]\n",
            " \n",
            "Top features from Support Vector Machines Model are:\n",
            "  [['HR' 'RMSSD' 'ULF' 'pNN50' 'VLF' 'LF' 'SDNN' 'HF' 'AVNN'\n",
            "  'interval in seconds' 'NNRR']\n",
            " ['HR' 'RMSSD' 'ULF' 'VLF' 'HF' 'LF' 'pNN50' 'SDNN' 'AVNN' 'NNRR'\n",
            "  'interval in seconds']\n",
            " ['HF' 'LF' 'AVNN' 'SDNN' 'HR' 'NNRR' 'RMSSD' 'VLF' 'pNN50' 'ULF'\n",
            "  'interval in seconds']]\n"
          ]
        },
        {
          "output_type": "stream",
          "name": "stderr",
          "text": [
            "/usr/local/lib/python3.7/dist-packages/ipykernel_launcher.py:7: FutureWarning: Support for multi-dimensional indexing (e.g. `obj[:, None]`) is deprecated and will be removed in a future version.  Convert to a numpy array before indexing instead.\n",
            "  import sys\n"
          ]
        }
      ]
    },
    {
      "cell_type": "markdown",
      "source": [
        "# Decision Tree 1"
      ],
      "metadata": {
        "id": "HyKJiQrnjeK9"
      }
    },
    {
      "cell_type": "code",
      "source": [
        "# 2.2\n",
        "\n",
        "  # You can use the DecisionTree sci-kit learn solver but capture any other hyper-parameter settings\n",
        "  # or model settings in this method\n",
        "\n",
        "\n",
        "def DecisionTree():\n",
        "  classifier = DecisionTreeClassifier()\n",
        "  classifier = classifier.fit(X_train, y_train)\n",
        "  #return classifier\n",
        "  # # predict\n",
        "  y_pred_decision = classifier.predict(X_val)\n",
        "  # # # predicted target is returned from DT\n",
        "  return y_pred_decision\n"
      ],
      "metadata": {
        "id": "wv1wrr9RAKzP"
      },
      "execution_count": 287,
      "outputs": []
    },
    {
      "cell_type": "code",
      "source": [
        "from sklearn.tree import DecisionTreeClassifier\n",
        "\n",
        "classifier_2 = DecisionTreeClassifier()\n",
        "clf_dt_2 = classifier_2.fit(X_train_2, y_train_2)\n",
        "print(clf_dt_2.feature_importances_)\n",
        "  # # predict\n",
        "y_pred_decision_2 = classifier_2.predict(X_val_2)\n",
        "  # # predicted target is returned from DT\n",
        "print(y_pred_decision_2)\n"
      ],
      "metadata": {
        "colab": {
          "base_uri": "https://localhost:8080/"
        },
        "id": "xS7iE1KPNuBZ",
        "outputId": "dc3002f0-b52f-4fbe-b09e-9c6dd491c1d3"
      },
      "execution_count": 288,
      "outputs": [
        {
          "output_type": "stream",
          "name": "stdout",
          "text": [
            "[0.3545938  0.07227498 0.07982598 0.08932782 0.05726962 0.34670781]\n",
            "[1 1 1 1 0 1 0 2 1 0 1 2 1 0 0 2 0 2 0 2 1 2 2 1 0 1 2 0 2 1 1 1 2 1 1 2 1\n",
            " 1 0 0 0 1 0 1 1 1 2 2 1 1 0 1 1 2 2 0 1 1 1 0 1 1 1 0 0 1 1 2 2 0 0 1 1 1\n",
            " 0 0 2 1 1 1 1 0 0 0 2 0 1 2 1 1 0 0 2 1 1 1 0 0 1 1 2 1 1 2 1 0 2 1 0 2 0\n",
            " 1 1 0 2 2 1 1 0 0 2 0 0 1 1 2 2 2 1 1 1 2 2 1 1 1 1 1 2 2 1 2 1 1 1 0 0 1\n",
            " 0 0 1 2 1 1 0 1 1 0 2 0 2 0 2 1 0 0 0 1 2 0 1 1 2 1 0 1 1 1 1 0 1 1 2 1 0\n",
            " 2 1 2 1 1 1 1 1 0 1 0 1 2 2 0 0 0 2 1 0 0 0 2 2 0 1 0 1 1 1 1 0 0 0 1 2 0\n",
            " 0 1 1 2 1 1 0 2 1 0 1 2 2 1 2 1 1 0 1 1 0 2 1 1 2 0 0 0 0 1 1 1 2 0 0 0 0\n",
            " 0 2 2 1 1 1 2 0 1 2 1 2 1 2 1 1 0 1 1 1 1 2 2 1 0 1 0 0 2 2 2 2 2 1 1 0 1\n",
            " 0 0 1 1 2 2 0 0 1 1 1 1 2 0 0 2 0 1 2 0 1 1 2 1 0 2 0 0 2 1 1 1 0 0 0 2 2\n",
            " 1 1 2 1 1 2 1 1 1 1 1 1 1 2 0 1 1 0 2 2 0 1 1 2 2 2 2 1 1 2 1 2 2 1 1 1 0\n",
            " 1 2 1 2 0 2 0 0 1 1 1 0 2 1 1 1 0 2 2 1 0 1 1 2 0 0 0 1 2 1 2 1 1 1 0 2 2\n",
            " 1 2 1 2 2 1 1 0 2 2 0 2 1 2 1 2 1 1 0 0 2 1 2 2 2 1 2 2 1 0 2 1 0 1 1 1 1\n",
            " 0 1 0 0 1 1 1 2 1 0 2 0 1 0 2 2 2 2 1 1 0 2 1 1 1 1 0 1 2 0 2 2 0 1 2 0 2\n",
            " 2 1 1 1 0 1 1 1 2 2 2 0 2 1 1 2 1 1 1 1 1 1 0 0 1 1 0 1 0 1 1 1 1 0 1 1 1\n",
            " 1 1 0 1 1 1 0 1 1 0 1 1 0 2 0 1 2 1 1 1 0 2 1 2 2 1 0 2 0 1 2 1 1 2 0 1 1\n",
            " 0 1 1 1 0 2 1 1 0 1 0 0 2 0 2 2 2 1 0 0 2 1 2 1]\n"
          ]
        }
      ]
    },
    {
      "cell_type": "code",
      "source": [
        "from sklearn.tree import DecisionTreeClassifier\n",
        "\n",
        "classifier = DecisionTreeClassifier()\n",
        "clf_dt = classifier.fit(X_train, y_train)\n",
        "print(clf_dt.feature_importances_)\n",
        "  # # predict\n",
        "y_pred_decision = classifier.predict(X_val)\n",
        "  # # predicted target is returned from DT\n",
        "print(y_pred_decision)\n"
      ],
      "metadata": {
        "colab": {
          "base_uri": "https://localhost:8080/"
        },
        "id": "afUSLlwHQKmi",
        "outputId": "a3bc56c6-92a4-4f61-bc94-7b9f594bb96d"
      },
      "execution_count": 215,
      "outputs": [
        {
          "output_type": "stream",
          "name": "stdout",
          "text": [
            "[0.34085894 0.0914328  0.02401946 0.06917694 0.06617837 0.03848135\n",
            " 0.02866898 0.31780185 0.02338131 0.         0.        ]\n",
            "[2 0 2 2 0 0 1 1 1 2 1 1 1 0 1 2 2 0 0 0 2 2 1 2 1 2 1 1 2 1 2 1 0 1 1 1 2\n",
            " 2 2 2 1 1 2 0 1 0 0 0 1 2 1 1 0 0 1 1 1 1 2 1 1 1 1 1 1 1 1 1 1 1 0 1 1 2\n",
            " 1 1 2 1 0 0 0 0 2 0 1 2 1 0 0 2 2 0 1 1 2 0 1 1 2 2 0 0 1 2 0 1 0 2 0 0 1\n",
            " 2 0 1 0 0 1 0 0 1 1 1 1 2 2 1 1 2 0 1 1 0 0 1 2 1 0 1 2 0 1 2 0 0 0 1 1 1\n",
            " 1 1 1 0 0 2 0 1 1 0 1 2 1 1 2 2 1 0 1 1 1 1 1 2 0 2 1 1 1 1 1 1 0 2 2 0 1\n",
            " 0 1 0 1 1 1 2 1 0 1 1 1 1 0 2 1 0 1 2 2 0 1 1 2 0 1 0 2 2 0 0 2 0 2 0 1 2\n",
            " 1 1 1 0 1 0 0 2 1 2 0 2 1 2 0 1 0 2 2 1 1 2 2 1 0 2 2 1 0 1 0 1 1 0 1 0 0\n",
            " 0 2 0 0 1 1 0 0 1 1 1 2 2 1 2 2 1 1 1 2 1 1 1 1 2 2 2 2 1 1 1 0 0 2 2 0 0\n",
            " 2 1 1 1 0 1 1 1 2 2 1 1 1 1 2 1 2 1 1 1 1 2 1 2 1 2 2 2 1 1 1 2 1 2 1 0 1\n",
            " 2 0 2 2 1 1 0 1 1 1 0 0 0 1 1 0 1 1 1 2 0 2 1 0 1 2 0 0 1 0 0 1 1 1 1 1 1\n",
            " 0 0 0 0 2 2 1 1 0 0 1 1 2 0 1 1 1 0 0 1 2 0 2 1 1 2 0 2 0 0 0 2 1 0 1 1 1\n",
            " 1 1 1 0 0 1 2 1 0 1 1 1 1 1 2 0 0 1 1 1 2 0 0 0 2 2 0 1 0 1 1 1 2 0 1 2 2\n",
            " 0 2 0 2 2 1 2 1 2 1 1 1 0 2 0 0 1 1 2 0 1 0 2 0 0 2 0 1 2 0 2 1 1 1 0 1 2\n",
            " 1 1 0 1 1 2 1 1 0 0 2 1 1 1 0 1 1 1 0 2 0 1 1 2 1 1 2 1 0 1 1 0 1 1 1 2 1\n",
            " 2 1 1 1 1 0 0 2 2 1 0 0 2 1 1 1 0 1 0 1 1 0 1 2 1 1 1 1 1 0 1 1 1 0 1 1 1\n",
            " 2 0 2 2 0 1 2 2 0 0 2 1 0 2 0 1 2 2 1 2 1 1 0 0 0 0 0 0 0 1 2 1 2 1 1 1 1\n",
            " 1 1 1 2 0 1]\n"
          ]
        }
      ]
    },
    {
      "cell_type": "code",
      "source": [
        "3 # predicted target is returned from DT\n",
        "DecisionTree() "
      ],
      "metadata": {
        "colab": {
          "base_uri": "https://localhost:8080/"
        },
        "id": "-Q7DCYscAY_V",
        "outputId": "030f3d8b-dc55-4ed8-9584-12c2c76baa40"
      },
      "execution_count": 216,
      "outputs": [
        {
          "output_type": "execute_result",
          "data": {
            "text/plain": [
              "array([2, 0, 2, 2, 0, 2, 1, 1, 2, 2, 1, 1, 1, 0, 1, 2, 2, 0, 0, 0, 2, 2,\n",
              "       1, 2, 1, 2, 1, 1, 2, 1, 2, 1, 0, 1, 1, 2, 2, 2, 2, 2, 1, 1, 2, 0,\n",
              "       1, 0, 0, 0, 0, 2, 0, 1, 0, 1, 1, 1, 1, 1, 2, 1, 1, 1, 1, 1, 1, 1,\n",
              "       2, 1, 1, 1, 0, 1, 1, 2, 1, 1, 2, 1, 0, 0, 0, 0, 2, 0, 0, 2, 1, 0,\n",
              "       0, 2, 2, 0, 1, 1, 2, 0, 1, 1, 2, 2, 0, 0, 1, 2, 0, 1, 0, 2, 0, 0,\n",
              "       1, 2, 0, 1, 0, 0, 1, 0, 0, 1, 1, 1, 1, 2, 2, 1, 1, 2, 2, 1, 1, 0,\n",
              "       0, 1, 2, 1, 0, 1, 2, 0, 1, 2, 0, 0, 0, 1, 1, 1, 1, 1, 1, 0, 0, 2,\n",
              "       0, 1, 1, 0, 1, 2, 0, 1, 2, 2, 1, 0, 2, 1, 1, 1, 1, 2, 1, 2, 1, 1,\n",
              "       1, 1, 1, 1, 0, 2, 0, 0, 1, 0, 1, 1, 1, 1, 1, 1, 1, 0, 1, 1, 1, 1,\n",
              "       0, 2, 1, 0, 1, 2, 0, 0, 1, 1, 2, 0, 1, 0, 2, 2, 0, 0, 2, 0, 2, 0,\n",
              "       1, 2, 1, 1, 1, 0, 1, 0, 0, 2, 1, 0, 0, 2, 2, 2, 0, 1, 0, 2, 2, 1,\n",
              "       1, 2, 2, 1, 0, 1, 2, 1, 0, 1, 0, 1, 1, 0, 1, 0, 0, 0, 1, 0, 0, 1,\n",
              "       1, 0, 0, 0, 1, 1, 2, 2, 1, 2, 2, 1, 1, 1, 1, 1, 1, 1, 1, 2, 2, 2,\n",
              "       2, 1, 1, 1, 0, 0, 2, 2, 0, 0, 2, 1, 1, 1, 1, 1, 1, 1, 2, 2, 1, 2,\n",
              "       1, 1, 2, 1, 2, 1, 2, 1, 1, 2, 1, 2, 2, 2, 2, 2, 1, 1, 1, 2, 1, 2,\n",
              "       1, 2, 2, 1, 0, 2, 2, 0, 1, 0, 1, 1, 1, 0, 0, 0, 1, 1, 0, 0, 1, 1,\n",
              "       2, 0, 1, 1, 0, 1, 2, 0, 0, 1, 0, 0, 1, 1, 1, 1, 1, 1, 0, 0, 0, 0,\n",
              "       0, 2, 1, 1, 0, 1, 1, 1, 2, 0, 1, 1, 1, 0, 0, 1, 2, 0, 0, 1, 2, 1,\n",
              "       0, 2, 0, 0, 0, 2, 1, 0, 1, 1, 1, 1, 1, 1, 0, 2, 1, 2, 1, 0, 1, 1,\n",
              "       1, 1, 1, 2, 2, 1, 1, 1, 1, 2, 0, 0, 0, 2, 2, 0, 1, 0, 1, 1, 1, 2,\n",
              "       0, 1, 2, 2, 0, 2, 0, 2, 2, 2, 2, 1, 0, 1, 1, 1, 0, 2, 0, 0, 1, 1,\n",
              "       2, 0, 1, 0, 2, 0, 0, 2, 0, 1, 2, 0, 2, 1, 1, 1, 0, 0, 2, 1, 1, 0,\n",
              "       1, 1, 2, 0, 1, 0, 0, 2, 1, 2, 1, 0, 1, 1, 1, 0, 2, 0, 1, 1, 2, 1,\n",
              "       1, 1, 1, 0, 1, 1, 0, 1, 1, 1, 2, 1, 2, 1, 0, 1, 1, 0, 0, 2, 2, 1,\n",
              "       0, 0, 2, 1, 1, 1, 0, 1, 0, 1, 1, 0, 1, 2, 1, 1, 2, 1, 1, 0, 1, 2,\n",
              "       1, 0, 1, 1, 1, 2, 0, 2, 2, 0, 1, 2, 2, 0, 0, 2, 1, 0, 2, 0, 2, 0,\n",
              "       2, 1, 2, 1, 1, 0, 0, 0, 0, 0, 0, 0, 1, 2, 1, 2, 2, 1, 1, 1, 1, 1,\n",
              "       2, 2, 0, 1])"
            ]
          },
          "metadata": {},
          "execution_count": 216
        }
      ]
    },
    {
      "cell_type": "code",
      "source": [
        "from sklearn.metrics import confusion_matrix\n",
        "cnf_matrix_dt = confusion_matrix(y_val, DecisionTree())\n",
        "print(\"Confusion Matrix for Decision Tree: \\n\", cnf_matrix_dt)\n",
        "\n",
        "# visualize Confusion matrix\n",
        "class_names=[0,1] # Name  of classes\n",
        "fig, ax = plt.subplots()\n",
        "tick_marks = np.arange(len(class_names))\n",
        "plt.xticks(tick_marks, class_names)\n",
        "plt.yticks(tick_marks, class_names)\n",
        "# create heatmap\n",
        "sns.heatmap(pd.DataFrame(cnf_matrix_dt), annot=True, cmap=\"YlGnBu\" ,fmt='g')\n",
        "ax.xaxis.set_label_position(\"top\")\n",
        "plt.tight_layout()\n",
        "plt.title('Confusion matrix for Decision Tree', y=1.1)\n",
        "plt.ylabel('Actual label')\n",
        "plt.xlabel('Predicted label')\n"
      ],
      "metadata": {
        "colab": {
          "base_uri": "https://localhost:8080/",
          "height": 414
        },
        "id": "VFVYj8kOKMKi",
        "outputId": "a90957c7-801f-4546-8fcd-c67ac2d90d0f"
      },
      "execution_count": 217,
      "outputs": [
        {
          "output_type": "stream",
          "name": "stdout",
          "text": [
            "Confusion Matrix for Decision Tree: \n",
            " [[ 97  48  15]\n",
            " [ 56 163  70]\n",
            " [ 23  61  65]]\n"
          ]
        },
        {
          "output_type": "execute_result",
          "data": {
            "text/plain": [
              "Text(0.5, 257.44, 'Predicted label')"
            ]
          },
          "metadata": {},
          "execution_count": 217
        },
        {
          "output_type": "display_data",
          "data": {
            "text/plain": [
              "<Figure size 432x288 with 2 Axes>"
            ],
            "image/png": "[encoded data removed]"
          },
          "metadata": {
            "needs_background": "light"
          }
        }
      ]
    },
    {
      "cell_type": "code",
      "source": [
        "dt_accuracy = metrics.accuracy_score(y_val,DecisionTree())\n",
        "print(\"Accuracy of Decision Tree:\", dt_accuracy)"
      ],
      "metadata": {
        "colab": {
          "base_uri": "https://localhost:8080/"
        },
        "id": "2-4oF74PkaTt",
        "outputId": "bb06eb15-60db-4f34-cb6c-259cab34a248"
      },
      "execution_count": 224,
      "outputs": [
        {
          "output_type": "stream",
          "name": "stdout",
          "text": [
            "Accuracy of Decision Tree: 0.540133779264214\n"
          ]
        }
      ]
    },
    {
      "cell_type": "code",
      "source": [
        "dt_accuracy_2 = metrics.accuracy_score(y_val_2,y_pred_decision_2)\n",
        "print(\"Accuracy of Decision Tree:\", dt_accuracy_2)"
      ],
      "metadata": {
        "colab": {
          "base_uri": "https://localhost:8080/"
        },
        "id": "HLEmIaEUOEo-",
        "outputId": "5263dcd4-fcbd-4ed0-89be-f07b2c1a9f22"
      },
      "execution_count": 290,
      "outputs": [
        {
          "output_type": "stream",
          "name": "stdout",
          "text": [
            "Accuracy of Decision Tree: 0.5146804835924007\n"
          ]
        }
      ]
    },
    {
      "cell_type": "code",
      "source": [
        "print(\"Comprehensive Report of the Decision Tree Model On overall Dataset\\n\")\n",
        "dt_metrics = metrics.classification_report(y_val, DecisionTree())\n",
        "print(dt_metrics)"
      ],
      "metadata": {
        "colab": {
          "base_uri": "https://localhost:8080/"
        },
        "id": "sOGwEpftziI0",
        "outputId": "239d489e-3e48-4a59-fda5-9f1a99775034"
      },
      "execution_count": 225,
      "outputs": [
        {
          "output_type": "stream",
          "name": "stdout",
          "text": [
            "Comprehensive Report of the Decision Tree Model On overall Dataset\n",
            "\n",
            "              precision    recall  f1-score   support\n",
            "\n",
            "           0       0.57      0.62      0.59       160\n",
            "           1       0.60      0.56      0.58       289\n",
            "           2       0.43      0.44      0.43       149\n",
            "\n",
            "    accuracy                           0.55       598\n",
            "   macro avg       0.53      0.54      0.53       598\n",
            "weighted avg       0.55      0.55      0.55       598\n",
            "\n"
          ]
        }
      ]
    },
    {
      "cell_type": "code",
      "source": [
        "#feature_cols = ['age','sex','bmi','bp','s1','s2','s3','s4','s5','s6']"
      ],
      "metadata": {
        "id": "-djvjdaTBcZz"
      },
      "execution_count": null,
      "outputs": []
    },
    {
      "cell_type": "code",
      "source": [
        "#Display the decision tree as a graph\n",
        "from six import StringIO\n",
        "from IPython.display import Image  \n",
        "from sklearn.tree import export_graphviz\n",
        "import pydotplus\n",
        "dot_data = StringIO()\n",
        "\n",
        "export_graphviz(classifier, out_file=dot_data,  \n",
        "                filled=True, rounded=True,\n",
        "                special_characters=True, feature_names = feature_cols,\n",
        "                class_names=['0','1'])\n",
        "\n",
        "graph = pydotplus.graph_from_dot_data(dot_data.getvalue())  \n",
        "graph.write_png('STRESS.png')\n",
        "Image(graph.create_png())"
      ],
      "metadata": {
        "id": "gD6DSfDABETK"
      },
      "execution_count": null,
      "outputs": []
    },
    {
      "cell_type": "code",
      "source": [
        "clf_dt.predict_proba(X_train)\n",
        "clf_dt.predict_proba(X_train)\n",
        "clf_dt.predict(X_train)\n",
        "\n",
        "#clf_dt.predict_proba([[1,1, 5, 1.5]])'\n"
      ],
      "metadata": {
        "colab": {
          "base_uri": "https://localhost:8080/"
        },
        "id": "n_SWQPs95n43",
        "outputId": "e245f6c5-8bdf-4f3b-ab83-45f21292e74e"
      },
      "execution_count": 226,
      "outputs": [
        {
          "output_type": "execute_result",
          "data": {
            "text/plain": [
              "array([2, 1, 1, ..., 1, 1, 1])"
            ]
          },
          "metadata": {},
          "execution_count": 226
        }
      ]
    },
    {
      "cell_type": "code",
      "source": [
        "#Feature important order\n",
        "feature_names = X.columns.values\n",
        "columns = X.columns\n",
        "coefficients = clf_dt.feature_importances_.reshape(X.columns.shape[0], 1)\n",
        "absCoefficients = abs(coefficients)\n",
        "fullList = pd.concat((pd.DataFrame(columns, columns = ['Variable']), pd.DataFrame(absCoefficients, columns = ['absCoefficient'])), axis = 1).sort_values(by='absCoefficient', ascending = False)\n",
        "print('DecisionTreeClassifier - Feature Importance:')\n",
        "print('\\n',fullList,'\\n')"
      ],
      "metadata": {
        "colab": {
          "base_uri": "https://localhost:8080/"
        },
        "id": "2rLAYugBNBXq",
        "outputId": "b322e443-578c-4781-8bc3-6d1d193cd49e"
      },
      "execution_count": 227,
      "outputs": [
        {
          "output_type": "stream",
          "name": "stdout",
          "text": [
            "DecisionTreeClassifier - Feature Importance:\n",
            "\n",
            "                Variable  absCoefficient\n",
            "0                    HR        0.340859\n",
            "7                   ULF        0.317802\n",
            "1   interval in seconds        0.091433\n",
            "3                  AVNN        0.069177\n",
            "4                  SDNN        0.066178\n",
            "5                 RMSSD        0.038481\n",
            "6                 pNN50        0.028669\n",
            "2                  NNRR        0.024019\n",
            "8                   VLF        0.023381\n",
            "9                    LF        0.000000\n",
            "10                   HF        0.000000 \n",
            "\n"
          ]
        }
      ]
    },
    {
      "cell_type": "code",
      "source": [
        ""
      ],
      "metadata": {
        "id": "UHQXse9PiKti"
      },
      "execution_count": null,
      "outputs": []
    },
    {
      "cell_type": "markdown",
      "source": [
        "#PCA"
      ],
      "metadata": {
        "id": "NHkiRdlNiqfm"
      }
    },
    {
      "cell_type": "code",
      "source": [
        "from sklearn.decomposition import PCA\n",
        "\n",
        "pca = PCA(3)\n",
        "X_pca = pca.fit_transform(X_train)"
      ],
      "metadata": {
        "id": "BA-dvSXICqBA"
      },
      "execution_count": 228,
      "outputs": []
    },
    {
      "cell_type": "code",
      "source": [
        "print(pca.explained_variance_ratio_)"
      ],
      "metadata": {
        "colab": {
          "base_uri": "https://localhost:8080/"
        },
        "id": "ZWPDKm_zCtEF",
        "outputId": "7d3f0d98-12a0-4fac-ce4d-6ccd1afcabb8"
      },
      "execution_count": 229,
      "outputs": [
        {
          "output_type": "stream",
          "name": "stdout",
          "text": [
            "[0.76932255 0.13744686 0.03287581]\n"
          ]
        }
      ]
    },
    {
      "cell_type": "code",
      "source": [
        ""
      ],
      "metadata": {
        "id": "7i-4fkXUi24i"
      },
      "execution_count": null,
      "outputs": []
    },
    {
      "cell_type": "code",
      "source": [
        ""
      ],
      "metadata": {
        "id": "aRLt2NAOjEmV"
      },
      "execution_count": null,
      "outputs": []
    },
    {
      "cell_type": "code",
      "source": [
        ""
      ],
      "metadata": {
        "id": "LeX6e24xjEdf"
      },
      "execution_count": null,
      "outputs": []
    },
    {
      "cell_type": "markdown",
      "source": [
        "#Random Forest"
      ],
      "metadata": {
        "id": "FI-ypL_RCyY8"
      }
    },
    {
      "cell_type": "code",
      "source": [
        ""
      ],
      "metadata": {
        "id": "MYiw2TXqnNuR"
      },
      "execution_count": null,
      "outputs": []
    },
    {
      "cell_type": "code",
      "source": [
        "from sklearn.ensemble import RandomForestClassifier\n",
        "rfc = RandomForestClassifier()\n",
        "rfc.fit(X_train, y_train)\n"
      ],
      "metadata": {
        "colab": {
          "base_uri": "https://localhost:8080/"
        },
        "id": "uD4ybBrzC00L",
        "outputId": "e7714b31-b685-4be1-ef0b-fc2658603fae"
      },
      "execution_count": 349,
      "outputs": [
        {
          "output_type": "execute_result",
          "data": {
            "text/plain": [
              "RandomForestClassifier()"
            ]
          },
          "metadata": {},
          "execution_count": 349
        }
      ]
    },
    {
      "cell_type": "code",
      "source": [
        "rfc_1 = RandomForestClassifier()\n",
        "rfc_1.fit(data_hotdeck,dfy)"
      ],
      "metadata": {
        "colab": {
          "base_uri": "https://localhost:8080/"
        },
        "id": "UlaTBJMWnVn-",
        "outputId": "161e88a8-2bb6-444b-8a2f-82902c2a9e98"
      },
      "execution_count": 350,
      "outputs": [
        {
          "output_type": "execute_result",
          "data": {
            "text/plain": [
              "RandomForestClassifier()"
            ]
          },
          "metadata": {},
          "execution_count": 350
        }
      ]
    },
    {
      "cell_type": "code",
      "source": [
        "y_preds_rfc = rfc.predict(X_val)\n",
        "acc_rfc = accuracy_score(y_preds_rfc,y_val)\n",
        "acc_rfc"
      ],
      "metadata": {
        "colab": {
          "base_uri": "https://localhost:8080/"
        },
        "id": "8MFz9BXZC5zs",
        "outputId": "c3334205-3d59-4f8b-fbe2-71e3a9b19b0a"
      },
      "execution_count": 232,
      "outputs": [
        {
          "output_type": "execute_result",
          "data": {
            "text/plain": [
              "0.596989966555184"
            ]
          },
          "metadata": {},
          "execution_count": 232
        }
      ]
    },
    {
      "cell_type": "code",
      "source": [
        "y_preds_rfc_1 = rfc_1.predict(X_val)\n",
        "acc_rfc_1 = accuracy_score(y_preds_rfc_1,y_val)\n",
        "acc_rfc_1"
      ],
      "metadata": {
        "colab": {
          "base_uri": "https://localhost:8080/"
        },
        "id": "ib6ln20nnenO",
        "outputId": "09848cd4-8d0b-4edb-8ed1-a4c6205726ff"
      },
      "execution_count": 351,
      "outputs": [
        {
          "output_type": "stream",
          "name": "stderr",
          "text": [
            "/usr/local/lib/python3.7/dist-packages/sklearn/base.py:444: UserWarning: X has feature names, but RandomForestClassifier was fitted without feature names\n",
            "  f\"X has feature names, but {self.__class__.__name__} was fitted without\"\n"
          ]
        },
        {
          "output_type": "execute_result",
          "data": {
            "text/plain": [
              "0.48327759197324416"
            ]
          },
          "metadata": {},
          "execution_count": 351
        }
      ]
    },
    {
      "cell_type": "markdown",
      "source": [
        "rfc_2 with 6 features only "
      ],
      "metadata": {
        "id": "WsbaWeQ3jmBv"
      }
    },
    {
      "cell_type": "code",
      "source": [
        "from sklearn.ensemble import RandomForestClassifier\n",
        "rfc_2 = RandomForestClassifier()\n",
        "rfc_2.fit(X_train_2, y_train_2)"
      ],
      "metadata": {
        "colab": {
          "base_uri": "https://localhost:8080/"
        },
        "id": "97H68GNBOTf-",
        "outputId": "b2c4e939-ce80-42a9-ae59-e00363d0c605"
      },
      "execution_count": 291,
      "outputs": [
        {
          "output_type": "execute_result",
          "data": {
            "text/plain": [
              "RandomForestClassifier()"
            ]
          },
          "metadata": {},
          "execution_count": 291
        }
      ]
    },
    {
      "cell_type": "code",
      "source": [
        "y_preds_rfc_2 = rfc_2.predict(X_val_2)\n",
        "acc_rfc_2 = accuracy_score(y_preds_rfc_2,y_val_2)\n",
        "acc_rfc_2"
      ],
      "metadata": {
        "colab": {
          "base_uri": "https://localhost:8080/"
        },
        "id": "tIygRryQOYzX",
        "outputId": "463ccf12-f366-4900-f8f4-71251c5aced3"
      },
      "execution_count": 295,
      "outputs": [
        {
          "output_type": "execute_result",
          "data": {
            "text/plain": [
              "0.5889464594127807"
            ]
          },
          "metadata": {},
          "execution_count": 295
        }
      ]
    },
    {
      "cell_type": "markdown",
      "source": [
        "rfc_3 after standardisng the data"
      ],
      "metadata": {
        "id": "lQXJvvFLjvYg"
      }
    },
    {
      "cell_type": "code",
      "source": [
        "rfc_3 = RandomForestClassifier()\n",
        "rfc_3.fit(X_train_3, y_train_3)\n",
        "\n",
        "y_preds_rfc_3 = rfc_3.predict(X_val_3)\n",
        "acc_rfc_3 = accuracy_score(y_preds_rfc_3,y_val_3)\n",
        "acc_rfc_3"
      ],
      "metadata": {
        "colab": {
          "base_uri": "https://localhost:8080/"
        },
        "id": "mK6089ygSsFO",
        "outputId": "b1da3fa4-7032-46e5-f7b4-ad5f105f556e"
      },
      "execution_count": 317,
      "outputs": [
        {
          "output_type": "execute_result",
          "data": {
            "text/plain": [
              "0.5613126079447323"
            ]
          },
          "metadata": {},
          "execution_count": 317
        }
      ]
    },
    {
      "cell_type": "markdown",
      "source": [
        "metrics using standard scalar dataset"
      ],
      "metadata": {
        "id": "OqpqLK9VpLrN"
      }
    },
    {
      "cell_type": "code",
      "source": [
        "print(\"Comprehensive Report of the Random forest Model with standard scalar \\n\")\n",
        "rfc_metrics_3 = metrics.classification_report(y_val_3, y_preds_rfc_3)\n",
        "print(rfc_metrics_3)"
      ],
      "metadata": {
        "colab": {
          "base_uri": "https://localhost:8080/"
        },
        "id": "sbGlZkhxjQXc",
        "outputId": "353c730d-0d24-421f-df43-f787859dc0b0"
      },
      "execution_count": 356,
      "outputs": [
        {
          "output_type": "stream",
          "name": "stdout",
          "text": [
            "Comprehensive Report of the Random forest Model with standard scalar \n",
            "\n",
            "              precision    recall  f1-score   support\n",
            "\n",
            "           0       0.74      0.56      0.64       183\n",
            "           1       0.55      0.66      0.60       265\n",
            "           2       0.39      0.37      0.38       131\n",
            "\n",
            "    accuracy                           0.56       579\n",
            "   macro avg       0.56      0.53      0.54       579\n",
            "weighted avg       0.57      0.56      0.56       579\n",
            "\n"
          ]
        }
      ]
    },
    {
      "cell_type": "markdown",
      "source": [
        "metrics for hotdeck RFC"
      ],
      "metadata": {
        "id": "vOrOdtvonrk6"
      }
    },
    {
      "cell_type": "code",
      "source": [
        "print(\"Comprehensive Report of the Random forest Model On overall Dataset\\n\")\n",
        "rfc_metrics_1 = metrics.classification_report(y_val, y_preds_rfc_1)\n",
        "print(rfc_metrics_1)"
      ],
      "metadata": {
        "colab": {
          "base_uri": "https://localhost:8080/"
        },
        "id": "LDpm5fYNnlrC",
        "outputId": "1641eb0a-7828-4f45-e694-c8f74f78b2ce"
      },
      "execution_count": 354,
      "outputs": [
        {
          "output_type": "stream",
          "name": "stdout",
          "text": [
            "Comprehensive Report of the Random forest Model On overall Dataset\n",
            "\n",
            "              precision    recall  f1-score   support\n",
            "\n",
            "           0       0.50      0.01      0.01       160\n",
            "           1       0.48      1.00      0.65       289\n",
            "           2       0.00      0.00      0.00       149\n",
            "\n",
            "    accuracy                           0.48       598\n",
            "   macro avg       0.33      0.33      0.22       598\n",
            "weighted avg       0.37      0.48      0.32       598\n",
            "\n"
          ]
        },
        {
          "output_type": "stream",
          "name": "stderr",
          "text": [
            "/usr/local/lib/python3.7/dist-packages/sklearn/metrics/_classification.py:1318: UndefinedMetricWarning: Precision and F-score are ill-defined and being set to 0.0 in labels with no predicted samples. Use `zero_division` parameter to control this behavior.\n",
            "  _warn_prf(average, modifier, msg_start, len(result))\n",
            "/usr/local/lib/python3.7/dist-packages/sklearn/metrics/_classification.py:1318: UndefinedMetricWarning: Precision and F-score are ill-defined and being set to 0.0 in labels with no predicted samples. Use `zero_division` parameter to control this behavior.\n",
            "  _warn_prf(average, modifier, msg_start, len(result))\n",
            "/usr/local/lib/python3.7/dist-packages/sklearn/metrics/_classification.py:1318: UndefinedMetricWarning: Precision and F-score are ill-defined and being set to 0.0 in labels with no predicted samples. Use `zero_division` parameter to control this behavior.\n",
            "  _warn_prf(average, modifier, msg_start, len(result))\n"
          ]
        }
      ]
    },
    {
      "cell_type": "markdown",
      "source": [
        "metrics for best RFC"
      ],
      "metadata": {
        "id": "lVzsReAWj3QG"
      }
    },
    {
      "cell_type": "code",
      "source": [
        "print(\"Comprehensive Report of the Random forest Model On overall Dataset\\n\")\n",
        "rfc_metrics = metrics.classification_report(y_val, y_preds_rfc)\n",
        "print(rfc_metrics)"
      ],
      "metadata": {
        "colab": {
          "base_uri": "https://localhost:8080/"
        },
        "outputId": "a4588d1e-42ab-4715-a0e7-12d969602fdd",
        "id": "4b15i6USjV-J"
      },
      "execution_count": 337,
      "outputs": [
        {
          "output_type": "stream",
          "name": "stdout",
          "text": [
            "Comprehensive Report of the Random forest Model On overall Dataset\n",
            "\n",
            "              precision    recall  f1-score   support\n",
            "\n",
            "           0       0.64      0.68      0.66       160\n",
            "           1       0.62      0.65      0.63       289\n",
            "           2       0.48      0.42      0.45       149\n",
            "\n",
            "    accuracy                           0.60       598\n",
            "   macro avg       0.58      0.58      0.58       598\n",
            "weighted avg       0.59      0.60      0.59       598\n",
            "\n"
          ]
        }
      ]
    },
    {
      "cell_type": "code",
      "source": [
        ""
      ],
      "metadata": {
        "id": "HvEyKuxQo-dj"
      },
      "execution_count": null,
      "outputs": []
    },
    {
      "cell_type": "code",
      "source": [
        "#Feature important order\n",
        "feature_names = X_2.columns.values\n",
        "columns = X_2.columns\n",
        "coefficients_2 = rfc_2.feature_importances_.reshape(X_2.columns.shape[0], 1)\n",
        "absCoefficients_2= abs(coefficients_2)\n",
        "fullList_2 = pd.concat((pd.DataFrame(columns, columns = ['Features']), pd.DataFrame(absCoefficients, columns = ['absCoefficient'])), axis = 1).sort_values(by='absCoefficient', ascending = False)\n",
        "print('Random forest - Feature Importance:')\n",
        "print('\\n',fullList_2,'\\n')"
      ],
      "metadata": {
        "colab": {
          "base_uri": "https://localhost:8080/"
        },
        "id": "piC0DDZLjb_a",
        "outputId": "37e5c2b3-ae13-46d3-aa73-27f277db1eea"
      },
      "execution_count": 328,
      "outputs": [
        {
          "output_type": "stream",
          "name": "stdout",
          "text": [
            "Random forest - Feature Importance:\n",
            "\n",
            "                Features  absCoefficient\n",
            "0                    HR        0.340859\n",
            "7                   NaN        0.317802\n",
            "1   interval in seconds        0.091433\n",
            "3                  SDNN        0.069177\n",
            "4                 RMSSD        0.066178\n",
            "5                    TP        0.038481\n",
            "6                   NaN        0.028669\n",
            "2                  AVNN        0.024019\n",
            "8                   NaN        0.023381\n",
            "9                   NaN        0.000000\n",
            "10                  NaN        0.000000 \n",
            "\n"
          ]
        }
      ]
    },
    {
      "cell_type": "code",
      "source": [
        "from sklearn.metrics import confusion_matrix\n",
        "cnf_matrix_rfc = confusion_matrix(y_val_2, y_preds_rfc_2)\n",
        "print(\"Confusion Matrix for random forest: \\n\", cnf_matrix_rfc)\n",
        "\n",
        "# visualize Confusion matrix\n",
        "class_names=[0,1,2] # Name  of classes\n",
        "fig, ax = plt.subplots()\n",
        "tick_marks = np.arange(len(class_names))\n",
        "plt.xticks(tick_marks, class_names)\n",
        "plt.yticks(tick_marks, class_names)\n",
        "# create heatmap\n",
        "sns.heatmap(pd.DataFrame(cnf_matrix_rfc), annot=True, cmap=\"YlGnBu\" ,fmt='g')\n",
        "ax.xaxis.set_label_position(\"top\")\n",
        "plt.tight_layout()\n",
        "plt.title('Confusion matrix for random Forest', y=1.1)\n",
        "plt.ylabel('Actual label')\n",
        "plt.xlabel('Predicted label')"
      ],
      "metadata": {
        "colab": {
          "base_uri": "https://localhost:8080/",
          "height": 414
        },
        "id": "t6wAVBXtf98K",
        "outputId": "574649c1-c053-4301-83d9-d0c63a859ef9"
      },
      "execution_count": 331,
      "outputs": [
        {
          "output_type": "stream",
          "name": "stdout",
          "text": [
            "Confusion Matrix for random forest: \n",
            " [[104  65  14]\n",
            " [ 27 187  51]\n",
            " [  6  75  50]]\n"
          ]
        },
        {
          "output_type": "execute_result",
          "data": {
            "text/plain": [
              "Text(0.5, 257.44, 'Predicted label')"
            ]
          },
          "metadata": {},
          "execution_count": 331
        },
        {
          "output_type": "display_data",
          "data": {
            "text/plain": [
              "<Figure size 432x288 with 2 Axes>"
            ],
            "image/png": "[encoded data removed]"
          },
          "metadata": {
            "needs_background": "light"
          }
        }
      ]
    },
    {
      "cell_type": "markdown",
      "source": [
        "# Part 3 - Interpretability"
      ],
      "metadata": {
        "id": "c1JgEU62iARH"
      }
    },
    {
      "cell_type": "markdown",
      "source": [
        "top features already implemented above"
      ],
      "metadata": {
        "id": "nqraMG9nq4a0"
      }
    },
    {
      "cell_type": "code",
      "source": [
        "# Look into using suitable functions from sklearn. Explain your code and findings clearly in the report document.\n",
        "# 3.1\n",
        "def FeatureImportance():\n",
        "  # Your code can based on measures of information gain or other feature selection methods\n",
        "  # Input: k - Number of features to pick\n",
        "  # Output should be a ranked list of features\n",
        "  # YOUR CODE HERE\n"
      ],
      "metadata": {
        "id": "Kdgdtw6liC0V"
      },
      "execution_count": null,
      "outputs": []
    },
    {
      "cell_type": "code",
      "source": [
        "def FeatureImportanceForPairs(Features, X_train,X_test,y_train, y_test):\n",
        "  # Find the best pairs of features which are useful for making the prediction.\n",
        "  # HINT: Can be done in a model agnostic way through pair generation and ranking.\n",
        "  # YOUR CODE HERE\n",
        "  best_pair = []\n",
        "  counter = 0\n",
        "  for i in range(len(Features)):\n",
        "    feat_one = Features[i]\n",
        "    for j in range(i+1,len(Features)):\n",
        "      two_feats = Features[j]\n",
        "      #rfc_2 = RandomForestClassifier()\n",
        "      #rfc_2.fit(X_train_2, y_train_2)\n",
        "      model = rfc_2(X_train[ [Features[i].Features[j] ]],y_train)\n",
        "      y_pred = model.predict(X_test[[Features[i],Features[j]]])\n",
        "      if accuracy_score(y_test,y_pred) > counter:\n",
        "                        best_pair = [[Features[i],Features[j]]]\n",
        "                        counter = accuracy_score(y_test_y_pred)\n",
        "  print('Best pair features is:',best_pair, \"accuracy is:\",counter)\n",
        "\n"
      ],
      "metadata": {
        "id": "kDYIvo2bk7UR"
      },
      "execution_count": 339,
      "outputs": []
    },
    {
      "cell_type": "code",
      "source": [
        ""
      ],
      "metadata": {
        "id": "27O9uItDgrso"
      },
      "execution_count": 339,
      "outputs": []
    },
    {
      "cell_type": "code",
      "source": [
        "Features = fullList_2['Features'].values.tolist()[:5]\n",
        "FeatureImportanceForPairs(Features,X_train_2, X_val_2, y_train_2, y_val_2)\n",
        "# X_train_2, X_val_2, y_train_2, y_val_2"
      ],
      "metadata": {
        "id": "_ynn1wkyeIlv"
      },
      "execution_count": null,
      "outputs": []
    },
    {
      "cell_type": "code",
      "source": [
        ""
      ],
      "metadata": {
        "id": "MmlmM3nUjl3L"
      },
      "execution_count": null,
      "outputs": []
    },
    {
      "cell_type": "code",
      "source": [
        ""
      ],
      "metadata": {
        "id": "Bj94dXUWjl0m"
      },
      "execution_count": null,
      "outputs": []
    },
    {
      "cell_type": "code",
      "source": [
        ""
      ],
      "metadata": {
        "id": "5B0aDuyzjmbY"
      },
      "execution_count": null,
      "outputs": []
    },
    {
      "cell_type": "markdown",
      "source": [
        "# TESTING"
      ],
      "metadata": {
        "id": "_Xzt5ROJjoDl"
      }
    },
    {
      "cell_type": "code",
      "source": [
        "df_test.head(5)"
      ],
      "metadata": {
        "colab": {
          "base_uri": "https://localhost:8080/",
          "height": 305
        },
        "id": "Zf5m7Lp3jrQB",
        "outputId": "a5917061-4138-4bd1-febc-124d16c0cc7e"
      },
      "execution_count": 235,
      "outputs": [
        {
          "output_type": "execute_result",
          "data": {
            "text/plain": [
              "   Id         HR  interval in seconds      NNRR      AVNN      SDNN     RMSSD  \\\n",
              "0   0  95.135158             0.890853  0.974164  0.889935  0.096018  0.046200   \n",
              "1   1  82.564200             0.628600  0.980480  0.629127  0.085506  0.040439   \n",
              "2   2  90.010889             0.944939  0.972702  0.943657  0.121277  0.058594   \n",
              "3   3  81.102854             0.811532  0.976090  0.811925  0.049806  0.023856   \n",
              "4   4  89.572000             0.844262  0.974839  0.843826  0.050792  0.024407   \n",
              "\n",
              "      pNN50        TP       ULF      VLF   LF   HF  LF_HF  \n",
              "0  0.032778  0.105342  0.105342  0.00064  0.0  0.0    NaN  \n",
              "1  0.025833  0.104875  0.104875  0.00064  0.0  0.0    NaN  \n",
              "2  0.034412  0.166643  0.166643  0.00064  0.0  0.0    NaN  \n",
              "3  0.030641  0.026524  0.026524  0.00064  0.0  0.0    NaN  \n",
              "4  0.032027  0.025992  0.025992  0.00064  0.0  0.0    NaN  "
            ],
            "text/html": [
              "\n",
              "  <div id=\"df-dc7fc80d-af8d-42fc-bb2f-88f0f50fbf02\">\n",
              "    <div class=\"colab-df-container\">\n",
              "      <div>\n",
              "<style scoped>\n",
              "    .dataframe tbody tr th:only-of-type {\n",
              "        vertical-align: middle;\n",
              "    }\n",
              "\n",
              "    .dataframe tbody tr th {\n",
              "        vertical-align: top;\n",
              "    }\n",
              "\n",
              "    .dataframe thead th {\n",
              "        text-align: right;\n",
              "    }\n",
              "</style>\n",
              "<table border=\"1\" class=\"dataframe\">\n",
              "  <thead>\n",
              "    <tr style=\"text-align: right;\">\n",
              "      <th></th>\n",
              "      <th>Id</th>\n",
              "      <th>HR</th>\n",
              "      <th>interval in seconds</th>\n",
              "      <th>NNRR</th>\n",
              "      <th>AVNN</th>\n",
              "      <th>SDNN</th>\n",
              "      <th>RMSSD</th>\n",
              "      <th>pNN50</th>\n",
              "      <th>TP</th>\n",
              "      <th>ULF</th>\n",
              "      <th>VLF</th>\n",
              "      <th>LF</th>\n",
              "      <th>HF</th>\n",
              "      <th>LF_HF</th>\n",
              "    </tr>\n",
              "  </thead>\n",
              "  <tbody>\n",
              "    <tr>\n",
              "      <th>0</th>\n",
              "      <td>0</td>\n",
              "      <td>95.135158</td>\n",
              "      <td>0.890853</td>\n",
              "      <td>0.974164</td>\n",
              "      <td>0.889935</td>\n",
              "      <td>0.096018</td>\n",
              "      <td>0.046200</td>\n",
              "      <td>0.032778</td>\n",
              "      <td>0.105342</td>\n",
              "      <td>0.105342</td>\n",
              "      <td>0.00064</td>\n",
              "      <td>0.0</td>\n",
              "      <td>0.0</td>\n",
              "      <td>NaN</td>\n",
              "    </tr>\n",
              "    <tr>\n",
              "      <th>1</th>\n",
              "      <td>1</td>\n",
              "      <td>82.564200</td>\n",
              "      <td>0.628600</td>\n",
              "      <td>0.980480</td>\n",
              "      <td>0.629127</td>\n",
              "      <td>0.085506</td>\n",
              "      <td>0.040439</td>\n",
              "      <td>0.025833</td>\n",
              "      <td>0.104875</td>\n",
              "      <td>0.104875</td>\n",
              "      <td>0.00064</td>\n",
              "      <td>0.0</td>\n",
              "      <td>0.0</td>\n",
              "      <td>NaN</td>\n",
              "    </tr>\n",
              "    <tr>\n",
              "      <th>2</th>\n",
              "      <td>2</td>\n",
              "      <td>90.010889</td>\n",
              "      <td>0.944939</td>\n",
              "      <td>0.972702</td>\n",
              "      <td>0.943657</td>\n",
              "      <td>0.121277</td>\n",
              "      <td>0.058594</td>\n",
              "      <td>0.034412</td>\n",
              "      <td>0.166643</td>\n",
              "      <td>0.166643</td>\n",
              "      <td>0.00064</td>\n",
              "      <td>0.0</td>\n",
              "      <td>0.0</td>\n",
              "      <td>NaN</td>\n",
              "    </tr>\n",
              "    <tr>\n",
              "      <th>3</th>\n",
              "      <td>3</td>\n",
              "      <td>81.102854</td>\n",
              "      <td>0.811532</td>\n",
              "      <td>0.976090</td>\n",
              "      <td>0.811925</td>\n",
              "      <td>0.049806</td>\n",
              "      <td>0.023856</td>\n",
              "      <td>0.030641</td>\n",
              "      <td>0.026524</td>\n",
              "      <td>0.026524</td>\n",
              "      <td>0.00064</td>\n",
              "      <td>0.0</td>\n",
              "      <td>0.0</td>\n",
              "      <td>NaN</td>\n",
              "    </tr>\n",
              "    <tr>\n",
              "      <th>4</th>\n",
              "      <td>4</td>\n",
              "      <td>89.572000</td>\n",
              "      <td>0.844262</td>\n",
              "      <td>0.974839</td>\n",
              "      <td>0.843826</td>\n",
              "      <td>0.050792</td>\n",
              "      <td>0.024407</td>\n",
              "      <td>0.032027</td>\n",
              "      <td>0.025992</td>\n",
              "      <td>0.025992</td>\n",
              "      <td>0.00064</td>\n",
              "      <td>0.0</td>\n",
              "      <td>0.0</td>\n",
              "      <td>NaN</td>\n",
              "    </tr>\n",
              "  </tbody>\n",
              "</table>\n",
              "</div>\n",
              "      <button class=\"colab-df-convert\" onclick=\"convertToInteractive('df-dc7fc80d-af8d-42fc-bb2f-88f0f50fbf02')\"\n",
              "              title=\"Convert this dataframe to an interactive table.\"\n",
              "              style=\"display:none;\">\n",
              "        \n",
              "  <svg xmlns=\"http://www.w3.org/2000/svg\" height=\"24px\"viewBox=\"0 0 24 24\"\n",
              "       width=\"24px\">\n",
              "    <path d=\"M0 0h24v24H0V0z\" fill=\"none\"/>\n",
              "    <path d=\"M18.56 5.44l.94 2.06.94-2.06 2.06-.94-2.06-.94-.94-2.06-.94 2.06-2.06.94zm-11 1L8.5 8.5l.94-2.06 2.06-.94-2.06-.94L8.5 2.5l-.94 2.06-2.06.94zm10 10l.94 2.06.94-2.06 2.06-.94-2.06-.94-.94-2.06-.94 2.06-2.06.94z\"/><path d=\"M17.41 7.96l-1.37-1.37c-.4-.4-.92-.59-1.43-.59-.52 0-1.04.2-1.43.59L10.3 9.45l-7.72 7.72c-.78.78-.78 2.05 0 2.83L4 21.41c.39.39.9.59 1.41.59.51 0 1.02-.2 1.41-.59l7.78-7.78 2.81-2.81c.8-.78.8-2.07 0-2.86zM5.41 20L4 18.59l7.72-7.72 1.47 1.35L5.41 20z\"/>\n",
              "  </svg>\n",
              "      </button>\n",
              "      \n",
              "  <style>\n",
              "    .colab-df-container {\n",
              "      display:flex;\n",
              "      flex-wrap:wrap;\n",
              "      gap: 12px;\n",
              "    }\n",
              "\n",
              "    .colab-df-convert {\n",
              "      background-color: #E8F0FE;\n",
              "      border: none;\n",
              "      border-radius: 50%;\n",
              "      cursor: pointer;\n",
              "      display: none;\n",
              "      fill: #1967D2;\n",
              "      height: 32px;\n",
              "      padding: 0 0 0 0;\n",
              "      width: 32px;\n",
              "    }\n",
              "\n",
              "    .colab-df-convert:hover {\n",
              "      background-color: #E2EBFA;\n",
              "      box-shadow: 0px 1px 2px rgba(60, 64, 67, 0.3), 0px 1px 3px 1px rgba(60, 64, 67, 0.15);\n",
              "      fill: #174EA6;\n",
              "    }\n",
              "\n",
              "    [theme=dark] .colab-df-convert {\n",
              "      background-color: #3B4455;\n",
              "      fill: #D2E3FC;\n",
              "    }\n",
              "\n",
              "    [theme=dark] .colab-df-convert:hover {\n",
              "      background-color: #434B5C;\n",
              "      box-shadow: 0px 1px 3px 1px rgba(0, 0, 0, 0.15);\n",
              "      filter: drop-shadow(0px 1px 2px rgba(0, 0, 0, 0.3));\n",
              "      fill: #FFFFFF;\n",
              "    }\n",
              "  </style>\n",
              "\n",
              "      <script>\n",
              "        const buttonEl =\n",
              "          document.querySelector('#df-dc7fc80d-af8d-42fc-bb2f-88f0f50fbf02 button.colab-df-convert');\n",
              "        buttonEl.style.display =\n",
              "          google.colab.kernel.accessAllowed ? 'block' : 'none';\n",
              "\n",
              "        async function convertToInteractive(key) {\n",
              "          const element = document.querySelector('#df-dc7fc80d-af8d-42fc-bb2f-88f0f50fbf02');\n",
              "          const dataTable =\n",
              "            await google.colab.kernel.invokeFunction('convertToInteractive',\n",
              "                                                     [key], {});\n",
              "          if (!dataTable) return;\n",
              "\n",
              "          const docLinkHtml = 'Like what you see? Visit the ' +\n",
              "            '<a target=\"_blank\" href=https://colab.research.google.com/notebooks/data_table.ipynb>data table notebook</a>'\n",
              "            + ' to learn more about interactive tables.';\n",
              "          element.innerHTML = '';\n",
              "          dataTable['output_type'] = 'display_data';\n",
              "          await google.colab.output.renderOutput(dataTable, element);\n",
              "          const docLink = document.createElement('div');\n",
              "          docLink.innerHTML = docLinkHtml;\n",
              "          element.appendChild(docLink);\n",
              "        }\n",
              "      </script>\n",
              "    </div>\n",
              "  </div>\n",
              "  "
            ]
          },
          "metadata": {},
          "execution_count": 235
        }
      ]
    },
    {
      "cell_type": "code",
      "source": [
        "test_file_index = df_test.iloc[:,0].copy()\n"
      ],
      "metadata": {
        "id": "HlvoniPu1qmO"
      },
      "execution_count": 236,
      "outputs": []
    },
    {
      "cell_type": "code",
      "source": [
        "df_test_new.head(2)"
      ],
      "metadata": {
        "colab": {
          "base_uri": "https://localhost:8080/",
          "height": 173
        },
        "id": "jiLpjTDPuipP",
        "outputId": "52311b21-f7be-403b-eed6-fee7340560e9"
      },
      "execution_count": 238,
      "outputs": [
        {
          "output_type": "execute_result",
          "data": {
            "text/plain": [
              "          HR  interval in seconds      NNRR      AVNN      SDNN     RMSSD  \\\n",
              "0  95.135158             0.890853  0.974164  0.889935  0.096018  0.046200   \n",
              "1  82.564200             0.628600  0.980480  0.629127  0.085506  0.040439   \n",
              "\n",
              "      pNN50       ULF      VLF   LF   HF  \n",
              "0  0.032778  0.105342  0.00064  0.0  0.0  \n",
              "1  0.025833  0.104875  0.00064  0.0  0.0  "
            ],
            "text/html": [
              "\n",
              "  <div id=\"df-98fab359-17ce-4b95-8c20-440b49f8c4fa\">\n",
              "    <div class=\"colab-df-container\">\n",
              "      <div>\n",
              "<style scoped>\n",
              "    .dataframe tbody tr th:only-of-type {\n",
              "        vertical-align: middle;\n",
              "    }\n",
              "\n",
              "    .dataframe tbody tr th {\n",
              "        vertical-align: top;\n",
              "    }\n",
              "\n",
              "    .dataframe thead th {\n",
              "        text-align: right;\n",
              "    }\n",
              "</style>\n",
              "<table border=\"1\" class=\"dataframe\">\n",
              "  <thead>\n",
              "    <tr style=\"text-align: right;\">\n",
              "      <th></th>\n",
              "      <th>HR</th>\n",
              "      <th>interval in seconds</th>\n",
              "      <th>NNRR</th>\n",
              "      <th>AVNN</th>\n",
              "      <th>SDNN</th>\n",
              "      <th>RMSSD</th>\n",
              "      <th>pNN50</th>\n",
              "      <th>ULF</th>\n",
              "      <th>VLF</th>\n",
              "      <th>LF</th>\n",
              "      <th>HF</th>\n",
              "    </tr>\n",
              "  </thead>\n",
              "  <tbody>\n",
              "    <tr>\n",
              "      <th>0</th>\n",
              "      <td>95.135158</td>\n",
              "      <td>0.890853</td>\n",
              "      <td>0.974164</td>\n",
              "      <td>0.889935</td>\n",
              "      <td>0.096018</td>\n",
              "      <td>0.046200</td>\n",
              "      <td>0.032778</td>\n",
              "      <td>0.105342</td>\n",
              "      <td>0.00064</td>\n",
              "      <td>0.0</td>\n",
              "      <td>0.0</td>\n",
              "    </tr>\n",
              "    <tr>\n",
              "      <th>1</th>\n",
              "      <td>82.564200</td>\n",
              "      <td>0.628600</td>\n",
              "      <td>0.980480</td>\n",
              "      <td>0.629127</td>\n",
              "      <td>0.085506</td>\n",
              "      <td>0.040439</td>\n",
              "      <td>0.025833</td>\n",
              "      <td>0.104875</td>\n",
              "      <td>0.00064</td>\n",
              "      <td>0.0</td>\n",
              "      <td>0.0</td>\n",
              "    </tr>\n",
              "  </tbody>\n",
              "</table>\n",
              "</div>\n",
              "      <button class=\"colab-df-convert\" onclick=\"convertToInteractive('df-98fab359-17ce-4b95-8c20-440b49f8c4fa')\"\n",
              "              title=\"Convert this dataframe to an interactive table.\"\n",
              "              style=\"display:none;\">\n",
              "        \n",
              "  <svg xmlns=\"http://www.w3.org/2000/svg\" height=\"24px\"viewBox=\"0 0 24 24\"\n",
              "       width=\"24px\">\n",
              "    <path d=\"M0 0h24v24H0V0z\" fill=\"none\"/>\n",
              "    <path d=\"M18.56 5.44l.94 2.06.94-2.06 2.06-.94-2.06-.94-.94-2.06-.94 2.06-2.06.94zm-11 1L8.5 8.5l.94-2.06 2.06-.94-2.06-.94L8.5 2.5l-.94 2.06-2.06.94zm10 10l.94 2.06.94-2.06 2.06-.94-2.06-.94-.94-2.06-.94 2.06-2.06.94z\"/><path d=\"M17.41 7.96l-1.37-1.37c-.4-.4-.92-.59-1.43-.59-.52 0-1.04.2-1.43.59L10.3 9.45l-7.72 7.72c-.78.78-.78 2.05 0 2.83L4 21.41c.39.39.9.59 1.41.59.51 0 1.02-.2 1.41-.59l7.78-7.78 2.81-2.81c.8-.78.8-2.07 0-2.86zM5.41 20L4 18.59l7.72-7.72 1.47 1.35L5.41 20z\"/>\n",
              "  </svg>\n",
              "      </button>\n",
              "      \n",
              "  <style>\n",
              "    .colab-df-container {\n",
              "      display:flex;\n",
              "      flex-wrap:wrap;\n",
              "      gap: 12px;\n",
              "    }\n",
              "\n",
              "    .colab-df-convert {\n",
              "      background-color: #E8F0FE;\n",
              "      border: none;\n",
              "      border-radius: 50%;\n",
              "      cursor: pointer;\n",
              "      display: none;\n",
              "      fill: #1967D2;\n",
              "      height: 32px;\n",
              "      padding: 0 0 0 0;\n",
              "      width: 32px;\n",
              "    }\n",
              "\n",
              "    .colab-df-convert:hover {\n",
              "      background-color: #E2EBFA;\n",
              "      box-shadow: 0px 1px 2px rgba(60, 64, 67, 0.3), 0px 1px 3px 1px rgba(60, 64, 67, 0.15);\n",
              "      fill: #174EA6;\n",
              "    }\n",
              "\n",
              "    [theme=dark] .colab-df-convert {\n",
              "      background-color: #3B4455;\n",
              "      fill: #D2E3FC;\n",
              "    }\n",
              "\n",
              "    [theme=dark] .colab-df-convert:hover {\n",
              "      background-color: #434B5C;\n",
              "      box-shadow: 0px 1px 3px 1px rgba(0, 0, 0, 0.15);\n",
              "      filter: drop-shadow(0px 1px 2px rgba(0, 0, 0, 0.3));\n",
              "      fill: #FFFFFF;\n",
              "    }\n",
              "  </style>\n",
              "\n",
              "      <script>\n",
              "        const buttonEl =\n",
              "          document.querySelector('#df-98fab359-17ce-4b95-8c20-440b49f8c4fa button.colab-df-convert');\n",
              "        buttonEl.style.display =\n",
              "          google.colab.kernel.accessAllowed ? 'block' : 'none';\n",
              "\n",
              "        async function convertToInteractive(key) {\n",
              "          const element = document.querySelector('#df-98fab359-17ce-4b95-8c20-440b49f8c4fa');\n",
              "          const dataTable =\n",
              "            await google.colab.kernel.invokeFunction('convertToInteractive',\n",
              "                                                     [key], {});\n",
              "          if (!dataTable) return;\n",
              "\n",
              "          const docLinkHtml = 'Like what you see? Visit the ' +\n",
              "            '<a target=\"_blank\" href=https://colab.research.google.com/notebooks/data_table.ipynb>data table notebook</a>'\n",
              "            + ' to learn more about interactive tables.';\n",
              "          element.innerHTML = '';\n",
              "          dataTable['output_type'] = 'display_data';\n",
              "          await google.colab.output.renderOutput(dataTable, element);\n",
              "          const docLink = document.createElement('div');\n",
              "          docLink.innerHTML = docLinkHtml;\n",
              "          element.appendChild(docLink);\n",
              "        }\n",
              "      </script>\n",
              "    </div>\n",
              "  </div>\n",
              "  "
            ]
          },
          "metadata": {},
          "execution_count": 238
        }
      ]
    },
    {
      "cell_type": "code",
      "source": [
        ""
      ],
      "metadata": {
        "id": "bSO7fQlmk3YV"
      },
      "execution_count": null,
      "outputs": []
    },
    {
      "cell_type": "code",
      "source": [
        "#test_dataf =((data-data.min())/(data.max()-data.min()))\n",
        "testdata_norm = ((df_test_new-df_test_new.min())/(df_test_new.max()-df_test_new.min()))\n",
        "testdata_norm.head(5)"
      ],
      "metadata": {
        "colab": {
          "base_uri": "https://localhost:8080/",
          "height": 250
        },
        "id": "4WUCqeZYwc8S",
        "outputId": "b6513b27-7500-47b1-a1c7-2f4476b3becc"
      },
      "execution_count": 239,
      "outputs": [
        {
          "output_type": "execute_result",
          "data": {
            "text/plain": [
              "         HR  interval in seconds      NNRR      AVNN      SDNN     RMSSD  \\\n",
              "0  0.159962             0.666040  0.284219  0.666350  0.543320  0.538152   \n",
              "1  0.122279             0.153972  0.864041  0.155152  0.479447  0.466053   \n",
              "2  0.144601             0.771647  0.150005  0.771648  0.696794  0.693265   \n",
              "3  0.117898             0.511160  0.461030  0.513446  0.262527  0.258519   \n",
              "4  0.143285             0.575067  0.346186  0.575974  0.268514  0.265415   \n",
              "\n",
              "      pNN50  ULF  VLF   LF   HF  \n",
              "0  0.108025  0.0  0.0  0.0  0.0  \n",
              "1  0.081018  0.0  0.0  0.0  0.0  \n",
              "2  0.114379  0.0  0.0  0.0  0.0  \n",
              "3  0.099715  0.0  0.0  0.0  0.0  \n",
              "4  0.105105  0.0  0.0  0.0  0.0  "
            ],
            "text/html": [
              "\n",
              "  <div id=\"df-02531ff3-c9f7-4c51-a32f-ee115156c282\">\n",
              "    <div class=\"colab-df-container\">\n",
              "      <div>\n",
              "<style scoped>\n",
              "    .dataframe tbody tr th:only-of-type {\n",
              "        vertical-align: middle;\n",
              "    }\n",
              "\n",
              "    .dataframe tbody tr th {\n",
              "        vertical-align: top;\n",
              "    }\n",
              "\n",
              "    .dataframe thead th {\n",
              "        text-align: right;\n",
              "    }\n",
              "</style>\n",
              "<table border=\"1\" class=\"dataframe\">\n",
              "  <thead>\n",
              "    <tr style=\"text-align: right;\">\n",
              "      <th></th>\n",
              "      <th>HR</th>\n",
              "      <th>interval in seconds</th>\n",
              "      <th>NNRR</th>\n",
              "      <th>AVNN</th>\n",
              "      <th>SDNN</th>\n",
              "      <th>RMSSD</th>\n",
              "      <th>pNN50</th>\n",
              "      <th>ULF</th>\n",
              "      <th>VLF</th>\n",
              "      <th>LF</th>\n",
              "      <th>HF</th>\n",
              "    </tr>\n",
              "  </thead>\n",
              "  <tbody>\n",
              "    <tr>\n",
              "      <th>0</th>\n",
              "      <td>0.159962</td>\n",
              "      <td>0.666040</td>\n",
              "      <td>0.284219</td>\n",
              "      <td>0.666350</td>\n",
              "      <td>0.543320</td>\n",
              "      <td>0.538152</td>\n",
              "      <td>0.108025</td>\n",
              "      <td>0.0</td>\n",
              "      <td>0.0</td>\n",
              "      <td>0.0</td>\n",
              "      <td>0.0</td>\n",
              "    </tr>\n",
              "    <tr>\n",
              "      <th>1</th>\n",
              "      <td>0.122279</td>\n",
              "      <td>0.153972</td>\n",
              "      <td>0.864041</td>\n",
              "      <td>0.155152</td>\n",
              "      <td>0.479447</td>\n",
              "      <td>0.466053</td>\n",
              "      <td>0.081018</td>\n",
              "      <td>0.0</td>\n",
              "      <td>0.0</td>\n",
              "      <td>0.0</td>\n",
              "      <td>0.0</td>\n",
              "    </tr>\n",
              "    <tr>\n",
              "      <th>2</th>\n",
              "      <td>0.144601</td>\n",
              "      <td>0.771647</td>\n",
              "      <td>0.150005</td>\n",
              "      <td>0.771648</td>\n",
              "      <td>0.696794</td>\n",
              "      <td>0.693265</td>\n",
              "      <td>0.114379</td>\n",
              "      <td>0.0</td>\n",
              "      <td>0.0</td>\n",
              "      <td>0.0</td>\n",
              "      <td>0.0</td>\n",
              "    </tr>\n",
              "    <tr>\n",
              "      <th>3</th>\n",
              "      <td>0.117898</td>\n",
              "      <td>0.511160</td>\n",
              "      <td>0.461030</td>\n",
              "      <td>0.513446</td>\n",
              "      <td>0.262527</td>\n",
              "      <td>0.258519</td>\n",
              "      <td>0.099715</td>\n",
              "      <td>0.0</td>\n",
              "      <td>0.0</td>\n",
              "      <td>0.0</td>\n",
              "      <td>0.0</td>\n",
              "    </tr>\n",
              "    <tr>\n",
              "      <th>4</th>\n",
              "      <td>0.143285</td>\n",
              "      <td>0.575067</td>\n",
              "      <td>0.346186</td>\n",
              "      <td>0.575974</td>\n",
              "      <td>0.268514</td>\n",
              "      <td>0.265415</td>\n",
              "      <td>0.105105</td>\n",
              "      <td>0.0</td>\n",
              "      <td>0.0</td>\n",
              "      <td>0.0</td>\n",
              "      <td>0.0</td>\n",
              "    </tr>\n",
              "  </tbody>\n",
              "</table>\n",
              "</div>\n",
              "      <button class=\"colab-df-convert\" onclick=\"convertToInteractive('df-02531ff3-c9f7-4c51-a32f-ee115156c282')\"\n",
              "              title=\"Convert this dataframe to an interactive table.\"\n",
              "              style=\"display:none;\">\n",
              "        \n",
              "  <svg xmlns=\"http://www.w3.org/2000/svg\" height=\"24px\"viewBox=\"0 0 24 24\"\n",
              "       width=\"24px\">\n",
              "    <path d=\"M0 0h24v24H0V0z\" fill=\"none\"/>\n",
              "    <path d=\"M18.56 5.44l.94 2.06.94-2.06 2.06-.94-2.06-.94-.94-2.06-.94 2.06-2.06.94zm-11 1L8.5 8.5l.94-2.06 2.06-.94-2.06-.94L8.5 2.5l-.94 2.06-2.06.94zm10 10l.94 2.06.94-2.06 2.06-.94-2.06-.94-.94-2.06-.94 2.06-2.06.94z\"/><path d=\"M17.41 7.96l-1.37-1.37c-.4-.4-.92-.59-1.43-.59-.52 0-1.04.2-1.43.59L10.3 9.45l-7.72 7.72c-.78.78-.78 2.05 0 2.83L4 21.41c.39.39.9.59 1.41.59.51 0 1.02-.2 1.41-.59l7.78-7.78 2.81-2.81c.8-.78.8-2.07 0-2.86zM5.41 20L4 18.59l7.72-7.72 1.47 1.35L5.41 20z\"/>\n",
              "  </svg>\n",
              "      </button>\n",
              "      \n",
              "  <style>\n",
              "    .colab-df-container {\n",
              "      display:flex;\n",
              "      flex-wrap:wrap;\n",
              "      gap: 12px;\n",
              "    }\n",
              "\n",
              "    .colab-df-convert {\n",
              "      background-color: #E8F0FE;\n",
              "      border: none;\n",
              "      border-radius: 50%;\n",
              "      cursor: pointer;\n",
              "      display: none;\n",
              "      fill: #1967D2;\n",
              "      height: 32px;\n",
              "      padding: 0 0 0 0;\n",
              "      width: 32px;\n",
              "    }\n",
              "\n",
              "    .colab-df-convert:hover {\n",
              "      background-color: #E2EBFA;\n",
              "      box-shadow: 0px 1px 2px rgba(60, 64, 67, 0.3), 0px 1px 3px 1px rgba(60, 64, 67, 0.15);\n",
              "      fill: #174EA6;\n",
              "    }\n",
              "\n",
              "    [theme=dark] .colab-df-convert {\n",
              "      background-color: #3B4455;\n",
              "      fill: #D2E3FC;\n",
              "    }\n",
              "\n",
              "    [theme=dark] .colab-df-convert:hover {\n",
              "      background-color: #434B5C;\n",
              "      box-shadow: 0px 1px 3px 1px rgba(0, 0, 0, 0.15);\n",
              "      filter: drop-shadow(0px 1px 2px rgba(0, 0, 0, 0.3));\n",
              "      fill: #FFFFFF;\n",
              "    }\n",
              "  </style>\n",
              "\n",
              "      <script>\n",
              "        const buttonEl =\n",
              "          document.querySelector('#df-02531ff3-c9f7-4c51-a32f-ee115156c282 button.colab-df-convert');\n",
              "        buttonEl.style.display =\n",
              "          google.colab.kernel.accessAllowed ? 'block' : 'none';\n",
              "\n",
              "        async function convertToInteractive(key) {\n",
              "          const element = document.querySelector('#df-02531ff3-c9f7-4c51-a32f-ee115156c282');\n",
              "          const dataTable =\n",
              "            await google.colab.kernel.invokeFunction('convertToInteractive',\n",
              "                                                     [key], {});\n",
              "          if (!dataTable) return;\n",
              "\n",
              "          const docLinkHtml = 'Like what you see? Visit the ' +\n",
              "            '<a target=\"_blank\" href=https://colab.research.google.com/notebooks/data_table.ipynb>data table notebook</a>'\n",
              "            + ' to learn more about interactive tables.';\n",
              "          element.innerHTML = '';\n",
              "          dataTable['output_type'] = 'display_data';\n",
              "          await google.colab.output.renderOutput(dataTable, element);\n",
              "          const docLink = document.createElement('div');\n",
              "          docLink.innerHTML = docLinkHtml;\n",
              "          element.appendChild(docLink);\n",
              "        }\n",
              "      </script>\n",
              "    </div>\n",
              "  </div>\n",
              "  "
            ]
          },
          "metadata": {},
          "execution_count": 239
        }
      ]
    },
    {
      "cell_type": "code",
      "source": [
        ""
      ],
      "metadata": {
        "id": "W40nDzKbk6t1"
      },
      "execution_count": null,
      "outputs": []
    },
    {
      "cell_type": "code",
      "source": [
        "#replacing nan with mean values\n",
        "df_test_mean = testdata_norm.fillna(testdata_norm.mean())"
      ],
      "metadata": {
        "id": "hg-phCm9k64j"
      },
      "execution_count": 242,
      "outputs": []
    },
    {
      "cell_type": "code",
      "source": [
        "df_test_mean.count()"
      ],
      "metadata": {
        "colab": {
          "base_uri": "https://localhost:8080/"
        },
        "outputId": "7406a518-4bbd-4823-a080-3bc1dda3a001",
        "id": "HiQvSsUsk64j"
      },
      "execution_count": 243,
      "outputs": [
        {
          "output_type": "execute_result",
          "data": {
            "text/plain": [
              "HR                     1000\n",
              "interval in seconds    1000\n",
              "NNRR                   1000\n",
              "AVNN                   1000\n",
              "SDNN                   1000\n",
              "RMSSD                  1000\n",
              "pNN50                  1000\n",
              "ULF                    1000\n",
              "VLF                    1000\n",
              "LF                     1000\n",
              "HF                     1000\n",
              "dtype: int64"
            ]
          },
          "metadata": {},
          "execution_count": 243
        }
      ]
    },
    {
      "cell_type": "markdown",
      "source": [
        "dropping inf values "
      ],
      "metadata": {
        "id": "5HAd0wX4k64j"
      }
    },
    {
      "cell_type": "code",
      "source": [
        "# Only select rows that have all finite entries.\n",
        "df_test_noINF = df_test_mean[np.all(np.isfinite(df_test_mean), axis=1)]"
      ],
      "metadata": {
        "id": "MNAEHyXlk64j"
      },
      "execution_count": 244,
      "outputs": []
    },
    {
      "cell_type": "code",
      "source": [
        "df_test_noINF.count()"
      ],
      "metadata": {
        "colab": {
          "base_uri": "https://localhost:8080/"
        },
        "outputId": "852ce7e5-16e3-4186-dedc-f5a6d3e35e57",
        "id": "BnreTWiek64j"
      },
      "execution_count": 245,
      "outputs": [
        {
          "output_type": "execute_result",
          "data": {
            "text/plain": [
              "HR                     1000\n",
              "interval in seconds    1000\n",
              "NNRR                   1000\n",
              "AVNN                   1000\n",
              "SDNN                   1000\n",
              "RMSSD                  1000\n",
              "pNN50                  1000\n",
              "ULF                    1000\n",
              "VLF                    1000\n",
              "LF                     1000\n",
              "HF                     1000\n",
              "dtype: int64"
            ]
          },
          "metadata": {},
          "execution_count": 245
        }
      ]
    },
    {
      "cell_type": "code",
      "source": [
        ""
      ],
      "metadata": {
        "id": "yHkg8uGRkaOt"
      },
      "execution_count": null,
      "outputs": []
    },
    {
      "cell_type": "code",
      "source": [
        "#test_feature = X.columns\n",
        "y_pred_test = rfc.predict(df_test_noINF)\n",
        "predictions  = [float(i) for i in y_pred_test]\n",
        "#y_pred_test = map(int, y_pred_test)\n",
        "#print(y_pred_test)\n",
        "#predictions = y_pred_test.tolist()"
      ],
      "metadata": {
        "id": "13bTH5Wa0lYU"
      },
      "execution_count": 250,
      "outputs": []
    },
    {
      "cell_type": "code",
      "source": [
        "print(predictions)"
      ],
      "metadata": {
        "colab": {
          "base_uri": "https://localhost:8080/"
        },
        "id": "nFhtuqZZ1C_6",
        "outputId": "bc5ae1c4-4914-4236-d648-d371dbd0915d"
      },
      "execution_count": 251,
      "outputs": [
        {
          "output_type": "stream",
          "name": "stdout",
          "text": [
            "[1.0, 1.0, 0.0, 0.0, 0.0, 0.0, 0.0, 0.0, 1.0, 0.0, 1.0, 0.0, 0.0, 1.0, 0.0, 2.0, 0.0, 0.0, 2.0, 0.0, 0.0, 0.0, 1.0, 0.0, 0.0, 0.0, 1.0, 0.0, 1.0, 0.0, 2.0, 0.0, 0.0, 1.0, 0.0, 2.0, 2.0, 2.0, 1.0, 1.0, 0.0, 1.0, 0.0, 0.0, 1.0, 0.0, 1.0, 0.0, 0.0, 0.0, 0.0, 1.0, 0.0, 0.0, 0.0, 0.0, 0.0, 0.0, 1.0, 2.0, 0.0, 1.0, 0.0, 1.0, 0.0, 0.0, 0.0, 0.0, 2.0, 0.0, 0.0, 1.0, 2.0, 1.0, 1.0, 0.0, 0.0, 0.0, 0.0, 0.0, 0.0, 1.0, 0.0, 0.0, 1.0, 0.0, 1.0, 1.0, 1.0, 1.0, 0.0, 1.0, 0.0, 0.0, 0.0, 1.0, 1.0, 2.0, 0.0, 0.0, 2.0, 0.0, 2.0, 1.0, 0.0, 1.0, 0.0, 0.0, 0.0, 0.0, 0.0, 0.0, 1.0, 0.0, 1.0, 1.0, 1.0, 0.0, 2.0, 0.0, 0.0, 0.0, 0.0, 0.0, 0.0, 1.0, 0.0, 1.0, 2.0, 0.0, 2.0, 2.0, 1.0, 1.0, 0.0, 1.0, 0.0, 0.0, 0.0, 0.0, 1.0, 2.0, 0.0, 1.0, 0.0, 2.0, 0.0, 0.0, 1.0, 1.0, 0.0, 0.0, 1.0, 0.0, 0.0, 0.0, 2.0, 0.0, 2.0, 2.0, 0.0, 1.0, 1.0, 0.0, 1.0, 0.0, 0.0, 0.0, 0.0, 0.0, 0.0, 0.0, 2.0, 0.0, 0.0, 1.0, 1.0, 0.0, 1.0, 2.0, 0.0, 1.0, 0.0, 0.0, 0.0, 1.0, 1.0, 1.0, 0.0, 2.0, 0.0, 1.0, 0.0, 0.0, 1.0, 1.0, 1.0, 1.0, 0.0, 0.0, 2.0, 0.0, 1.0, 1.0, 1.0, 1.0, 0.0, 2.0, 1.0, 2.0, 0.0, 0.0, 0.0, 1.0, 0.0, 2.0, 0.0, 0.0, 0.0, 0.0, 0.0, 0.0, 0.0, 0.0, 0.0, 0.0, 0.0, 1.0, 2.0, 0.0, 2.0, 0.0, 2.0, 1.0, 1.0, 1.0, 0.0, 2.0, 1.0, 0.0, 2.0, 0.0, 0.0, 1.0, 1.0, 1.0, 2.0, 1.0, 0.0, 0.0, 1.0, 0.0, 1.0, 1.0, 0.0, 0.0, 0.0, 1.0, 0.0, 2.0, 0.0, 0.0, 0.0, 2.0, 2.0, 1.0, 2.0, 1.0, 2.0, 0.0, 0.0, 0.0, 1.0, 0.0, 0.0, 0.0, 0.0, 1.0, 0.0, 1.0, 2.0, 0.0, 0.0, 0.0, 2.0, 0.0, 0.0, 0.0, 2.0, 1.0, 0.0, 0.0, 1.0, 1.0, 0.0, 1.0, 2.0, 0.0, 0.0, 1.0, 0.0, 1.0, 1.0, 0.0, 1.0, 0.0, 1.0, 0.0, 0.0, 1.0, 0.0, 1.0, 0.0, 2.0, 0.0, 2.0, 1.0, 0.0, 0.0, 0.0, 2.0, 2.0, 1.0, 0.0, 0.0, 0.0, 0.0, 1.0, 2.0, 0.0, 0.0, 1.0, 0.0, 1.0, 0.0, 0.0, 0.0, 2.0, 0.0, 0.0, 1.0, 1.0, 0.0, 2.0, 0.0, 0.0, 0.0, 0.0, 2.0, 0.0, 0.0, 0.0, 2.0, 1.0, 0.0, 0.0, 0.0, 1.0, 2.0, 0.0, 2.0, 0.0, 1.0, 0.0, 0.0, 1.0, 1.0, 0.0, 0.0, 1.0, 0.0, 1.0, 0.0, 0.0, 0.0, 0.0, 0.0, 0.0, 2.0, 1.0, 0.0, 2.0, 0.0, 1.0, 1.0, 0.0, 1.0, 0.0, 1.0, 1.0, 0.0, 1.0, 1.0, 0.0, 1.0, 2.0, 2.0, 0.0, 0.0, 2.0, 0.0, 1.0, 1.0, 0.0, 0.0, 2.0, 2.0, 0.0, 0.0, 1.0, 0.0, 0.0, 1.0, 1.0, 1.0, 0.0, 0.0, 1.0, 1.0, 0.0, 0.0, 1.0, 1.0, 0.0, 0.0, 1.0, 1.0, 1.0, 0.0, 0.0, 0.0, 0.0, 0.0, 1.0, 0.0, 2.0, 0.0, 0.0, 0.0, 1.0, 0.0, 0.0, 1.0, 2.0, 1.0, 0.0, 0.0, 2.0, 1.0, 0.0, 0.0, 0.0, 1.0, 0.0, 0.0, 0.0, 0.0, 0.0, 0.0, 1.0, 2.0, 1.0, 0.0, 2.0, 1.0, 0.0, 0.0, 0.0, 2.0, 1.0, 2.0, 0.0, 1.0, 2.0, 0.0, 0.0, 0.0, 0.0, 0.0, 1.0, 0.0, 1.0, 2.0, 1.0, 2.0, 0.0, 0.0, 0.0, 2.0, 0.0, 0.0, 2.0, 0.0, 2.0, 1.0, 0.0, 0.0, 1.0, 2.0, 1.0, 0.0, 0.0, 0.0, 2.0, 0.0, 2.0, 0.0, 1.0, 2.0, 1.0, 0.0, 2.0, 0.0, 2.0, 1.0, 0.0, 0.0, 1.0, 2.0, 0.0, 0.0, 0.0, 2.0, 0.0, 0.0, 1.0, 0.0, 0.0, 0.0, 0.0, 0.0, 0.0, 0.0, 0.0, 0.0, 0.0, 0.0, 0.0, 2.0, 0.0, 0.0, 2.0, 0.0, 0.0, 1.0, 0.0, 1.0, 0.0, 2.0, 0.0, 0.0, 1.0, 2.0, 0.0, 0.0, 0.0, 0.0, 1.0, 0.0, 1.0, 0.0, 1.0, 0.0, 1.0, 0.0, 0.0, 0.0, 2.0, 0.0, 1.0, 0.0, 1.0, 2.0, 0.0, 0.0, 1.0, 1.0, 1.0, 0.0, 0.0, 2.0, 1.0, 0.0, 0.0, 1.0, 0.0, 0.0, 0.0, 0.0, 1.0, 2.0, 0.0, 1.0, 0.0, 1.0, 1.0, 0.0, 0.0, 0.0, 0.0, 1.0, 0.0, 0.0, 1.0, 2.0, 2.0, 0.0, 0.0, 1.0, 0.0, 0.0, 0.0, 0.0, 2.0, 0.0, 1.0, 1.0, 1.0, 0.0, 0.0, 2.0, 0.0, 0.0, 0.0, 0.0, 0.0, 1.0, 0.0, 0.0, 1.0, 1.0, 0.0, 0.0, 0.0, 1.0, 1.0, 0.0, 1.0, 1.0, 1.0, 0.0, 0.0, 0.0, 0.0, 2.0, 1.0, 0.0, 0.0, 0.0, 2.0, 0.0, 0.0, 0.0, 1.0, 0.0, 0.0, 0.0, 2.0, 0.0, 0.0, 0.0, 2.0, 1.0, 0.0, 1.0, 0.0, 1.0, 0.0, 1.0, 0.0, 1.0, 2.0, 0.0, 0.0, 1.0, 1.0, 0.0, 1.0, 2.0, 0.0, 0.0, 0.0, 1.0, 1.0, 0.0, 1.0, 1.0, 0.0, 1.0, 0.0, 0.0, 0.0, 2.0, 1.0, 0.0, 1.0, 0.0, 0.0, 0.0, 0.0, 2.0, 0.0, 1.0, 0.0, 1.0, 0.0, 0.0, 1.0, 0.0, 1.0, 0.0, 1.0, 1.0, 0.0, 1.0, 2.0, 1.0, 1.0, 1.0, 0.0, 2.0, 1.0, 2.0, 0.0, 1.0, 0.0, 0.0, 0.0, 0.0, 2.0, 0.0, 2.0, 0.0, 1.0, 0.0, 2.0, 0.0, 2.0, 2.0, 0.0, 2.0, 2.0, 0.0, 0.0, 1.0, 2.0, 0.0, 2.0, 1.0, 2.0, 0.0, 1.0, 0.0, 0.0, 2.0, 1.0, 2.0, 2.0, 0.0, 1.0, 0.0, 1.0, 2.0, 0.0, 0.0, 0.0, 1.0, 0.0, 2.0, 0.0, 0.0, 1.0, 0.0, 2.0, 0.0, 0.0, 0.0, 2.0, 1.0, 1.0, 0.0, 0.0, 2.0, 0.0, 0.0, 0.0, 0.0, 0.0, 0.0, 1.0, 2.0, 0.0, 0.0, 0.0, 2.0, 0.0, 0.0, 1.0, 0.0, 0.0, 0.0, 1.0, 0.0, 1.0, 0.0, 2.0, 0.0, 0.0, 0.0, 1.0, 1.0, 1.0, 0.0, 0.0, 0.0, 1.0, 1.0, 1.0, 1.0, 0.0, 0.0, 0.0, 0.0, 0.0, 0.0, 0.0, 0.0, 1.0, 0.0, 0.0, 0.0, 0.0, 0.0, 0.0, 0.0, 2.0, 2.0, 0.0, 0.0, 1.0, 0.0, 0.0, 0.0, 1.0, 1.0, 2.0, 1.0, 0.0, 0.0, 1.0, 0.0, 1.0, 1.0, 0.0, 0.0, 0.0, 2.0, 0.0, 1.0, 1.0, 2.0, 1.0, 0.0, 1.0, 0.0, 1.0, 0.0, 0.0, 1.0, 1.0, 1.0, 1.0, 0.0, 1.0, 1.0, 1.0, 0.0, 0.0, 0.0, 2.0, 2.0, 1.0, 2.0, 0.0, 0.0, 0.0, 0.0, 0.0, 0.0, 1.0, 2.0, 2.0, 1.0, 0.0, 0.0, 0.0, 1.0, 0.0, 1.0, 0.0, 1.0, 0.0, 0.0, 0.0, 0.0, 0.0, 0.0, 0.0, 2.0, 1.0, 1.0, 1.0, 2.0, 0.0, 0.0, 0.0, 0.0, 0.0, 0.0, 0.0, 0.0, 0.0, 1.0, 0.0, 1.0, 2.0, 0.0, 1.0, 0.0, 0.0, 0.0, 0.0, 0.0, 1.0, 1.0, 0.0, 0.0, 1.0, 0.0, 1.0, 0.0, 1.0, 1.0, 0.0, 0.0, 1.0, 1.0, 2.0, 0.0, 0.0, 1.0, 1.0, 0.0, 1.0, 0.0, 0.0, 0.0, 0.0, 0.0, 0.0, 1.0, 1.0, 2.0, 0.0, 2.0, 1.0, 2.0, 0.0, 0.0, 1.0, 0.0, 0.0, 0.0, 0.0, 1.0, 0.0, 0.0, 0.0, 0.0, 0.0, 1.0, 2.0, 2.0, 0.0, 0.0, 0.0, 0.0, 0.0, 0.0, 1.0, 1.0, 1.0, 1.0, 1.0, 0.0, 1.0, 0.0, 0.0, 0.0, 0.0]\n"
          ]
        }
      ]
    },
    {
      "cell_type": "code",
      "source": [
        "import csv\n",
        "from google.colab import files\n",
        "\n",
        "predfilename = 'eval_stress_rfc.csv'\n",
        "with open(predfilename, 'w') as f:\n",
        "    writer = csv.writer(f)\n",
        "    writer.writerow([\"Id\", \"stress\"])\n",
        "    writer.writerows(zip(test_file_index, predictions))\n",
        "files.download(predfilename)"
      ],
      "metadata": {
        "colab": {
          "base_uri": "https://localhost:8080/",
          "height": 17
        },
        "id": "xw9uEWfr1M94",
        "outputId": "196c6f3b-c8ab-41ad-9c27-ccd2e0e6ff59"
      },
      "execution_count": 252,
      "outputs": [
        {
          "output_type": "display_data",
          "data": {
            "text/plain": [
              "<IPython.core.display.Javascript object>"
            ],
            "application/javascript": [
              "\n",
              "    async function download(id, filename, size) {\n",
              "      if (!google.colab.kernel.accessAllowed) {\n",
              "        return;\n",
              "      }\n",
              "      const div = document.createElement('div');\n",
              "      const label = document.createElement('label');\n",
              "      label.textContent = `Downloading \"${filename}\": `;\n",
              "      div.appendChild(label);\n",
              "      const progress = document.createElement('progress');\n",
              "      progress.max = size;\n",
              "      div.appendChild(progress);\n",
              "      document.body.appendChild(div);\n",
              "\n",
              "      const buffers = [];\n",
              "      let downloaded = 0;\n",
              "\n",
              "      const channel = await google.colab.kernel.comms.open(id);\n",
              "      // Send a message to notify the kernel that we're ready.\n",
              "      channel.send({})\n",
              "\n",
              "      for await (const message of channel.messages) {\n",
              "        // Send a message to notify the kernel that we're ready.\n",
              "        channel.send({})\n",
              "        if (message.buffers) {\n",
              "          for (const buffer of message.buffers) {\n",
              "            buffers.push(buffer);\n",
              "            downloaded += buffer.byteLength;\n",
              "            progress.value = downloaded;\n",
              "          }\n",
              "        }\n",
              "      }\n",
              "      const blob = new Blob(buffers, {type: 'application/binary'});\n",
              "      const a = document.createElement('a');\n",
              "      a.href = window.URL.createObjectURL(blob);\n",
              "      a.download = filename;\n",
              "      div.appendChild(a);\n",
              "      a.click();\n",
              "      div.remove();\n",
              "    }\n",
              "  "
            ]
          },
          "metadata": {}
        },
        {
          "output_type": "display_data",
          "data": {
            "text/plain": [
              "<IPython.core.display.Javascript object>"
            ],
            "application/javascript": [
              "download(\"download_dc861839-f326-447e-9e8d-47f3079af967\", \"eval_stress_rfc.csv\", 8901)"
            ]
          },
          "metadata": {}
        }
      ]
    },
    {
      "cell_type": "code",
      "source": [
        ""
      ],
      "metadata": {
        "id": "UbjTqDLijmYx"
      },
      "execution_count": null,
      "outputs": []
    }
  ]
}